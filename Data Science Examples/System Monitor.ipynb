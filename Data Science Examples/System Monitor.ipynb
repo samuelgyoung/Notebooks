{
    "nbformat_minor": 1, 
    "cells": [
        {
            "metadata": {}, 
            "source": "%system free -g", 
            "execution_count": 1, 
            "cell_type": "code", 
            "outputs": [
                {
                    "data": {
                        "text/plain": "['              total        used        free      shared  buff/cache   available',\n 'Mem:            377          59         286           2          32         314',\n 'Swap:             0           0           0']"
                    }, 
                    "metadata": {}, 
                    "execution_count": 1, 
                    "output_type": "execute_result"
                }
            ]
        }, 
        {
            "metadata": {}, 
            "source": "%system free -m", 
            "execution_count": 2, 
            "cell_type": "code", 
            "outputs": [
                {
                    "data": {
                        "text/plain": "['              total        used        free      shared  buff/cache   available',\n 'Mem:         386695       60809      292848        2410       33037      321738',\n 'Swap:          1023           0        1023']"
                    }, 
                    "metadata": {}, 
                    "execution_count": 2, 
                    "output_type": "execute_result"
                }
            ]
        }, 
        {
            "metadata": {}, 
            "source": "%system ps -ux --sort=-vsize ", 
            "execution_count": 6, 
            "cell_type": "code", 
            "outputs": [
                {
                    "data": {
                        "text/plain": "['USER       PID %CPU %MEM    VSZ   RSS TTY      STAT START   TIME COMMAND',\n 'sc17-49+ 32769  7.4  3.0 14588860 12033508 ?   Ssl  12:34  12:40 /usr/local/src/bluemix_jupyter_bundle.v33/notebook/bin/python -m ipykernel -f /gpfs/fs01/user/sc17-49b2ac2ea6dc73-b98ec5004853/notebook/jupyter-rt/kernel-43bb89c8-4806-4d13-87a6-bfba14da3e21.json',\n 'sc17-49+ 23720 11.7  0.1 13656552 653528 ?     Ssl  12:55  17:37 /usr/local/src/spark20master/ibm-java-x86_64-80/bin/java -cp /usr/local/src/spark20master/spark/ego/spark-launcher_2.11-2.0.2.jar:/usr/local/src/spark20master/spark/ego/spark-network-shuffle_2.11-2.0.2.jar:/usr/local/src/spark20master/spark/ego/gson-2.2.4.jar:/usr/local/src/spark20master/spark/ego/guava-14.0.1.jar:/usr/local/src/spark20master/spark/ego/Java-WebSocket-1.3.0.jar:/usr/local/src/spark20master/spark/ego/spark-ego_2.11-2.0.2.jar:/gpfs/fs01/user/sc17-49b2ac2ea6dc73-b98ec5004853/notebook/spark-config/spark20master/:/usr/local/src/spark20master/spark-2.0.2-bin-2.7.3/jars/*:/gpfs/fs01/user/sc17-49b2ac2ea6dc73-b98ec5004853/data/libs/scala-2.11/*:/gpfs/fs01/user/sc17-49b2ac2ea6dc73-b98ec5004853/data/libs/:/gpfs/fs01/user/sc17-49b2ac2ea6dc73-b98ec5004853/data/libs/*:/usr/local/src/dataconnector-stocator/spark-2.0.0/libs/*:/usr/local/src/dataconnector-s3-2.0/spark-2.0.0/libs/*:/usr/local/src/dataconnector-cloudant-2.0/spark-2.0.0/libs/*:/usr/local/src/analytic-libs-2.0/spark-2.0.0/*:/usr/local/src/dataconnector-dw-2.0/spark-2.0.0/Server/connectivity/jars/*:/usr/local/src/dataconnector-dw-2.0/spark-2.0.0/Server/connectivity/jdbc/lib/*:/usr/local/src/dataconnector-dw-2.0/spark-2.0.0/Server/connectivity/thirdparty/*:/usr/local/src/dataconnector-dw-2.0/spark-2.0.0/libs/*:/usr/local/src/dataconnector-dw-2.0/spark-2.0.0/Server/connectivity/thirdparty/aws/*:/usr/local/src/dataconnector-dw-2.0/spark-2.0.0/Server/connectivity/config/:/usr/local/src/dataconnector-dw-2.0/spark-2.0.0/Server/connectivity/FaspStreamSDK/lib/*:/usr/local/src/dataconnector-dw-2.0/spark-2.0.0/Server/connectivity/jars/JISPlugins/*:/usr/local/src/dataconnector-dw-2.0/spark-2.0.0/Server/connectivity/branded_jdbc/lib/*:/usr/local/src/dataconnector-dw-2.0/spark-2.0.0/ASBServer/apps/lib/iis/*/*:/usr/local/src/dataconnector-dw-2.0/spark-2.0.0/Server/connectivity/connectors/*/*:/usr/local/src/event-stream-2.0/spark-2.0.0/libs/*:/usr/local/src/dataconnector-db2/* -Xmx1512M org.apache.spark.deploy.SparkSubmit --master spark://yp-spark-dal09-env5-0039:7085 --class org.apache.toree.Main /usr/local/src/bluemix_jupyter_bundle.v33/toree/lib/toree-assembly-0.2.0.dev1-incubating-SNAPSHOT.jar --jar-dir /gpfs/fs01/user/sc17-49b2ac2ea6dc73-b98ec5004853/notebook/downloads --profile /gpfs/fs01/user/sc17-49b2ac2ea6dc73-b98ec5004853/notebook/jupyter-rt/kernel-733e3243-2d31-4275-bb67-38245379e91a.json',\n 'sc17-49+ 11177 10.8  0.1 13387044 584452 ?     Ssl  10:47  30:08 /usr/local/src/spark20master/ibm-java-x86_64-80/bin/java -cp /usr/local/src/spark20master/spark/ego/spark-launcher_2.11-2.0.2.jar:/usr/local/src/spark20master/spark/ego/spark-network-shuffle_2.11-2.0.2.jar:/usr/local/src/spark20master/spark/ego/gson-2.2.4.jar:/usr/local/src/spark20master/spark/ego/guava-14.0.1.jar:/usr/local/src/spark20master/spark/ego/Java-WebSocket-1.3.0.jar:/usr/local/src/spark20master/spark/ego/spark-ego_2.11-2.0.2.jar:/gpfs/fs01/user/sc17-49b2ac2ea6dc73-b98ec5004853/notebook/spark-config/spark20master/:/usr/local/src/spark20master/spark-2.0.2-bin-2.7.3/jars/*:/gpfs/fs01/user/sc17-49b2ac2ea6dc73-b98ec5004853/data/libs/scala-2.11/*:/gpfs/fs01/user/sc17-49b2ac2ea6dc73-b98ec5004853/data/libs/:/gpfs/fs01/user/sc17-49b2ac2ea6dc73-b98ec5004853/data/libs/*:/usr/local/src/dataconnector-stocator/spark-2.0.0/libs/*:/usr/local/src/dataconnector-s3-2.0/spark-2.0.0/libs/*:/usr/local/src/dataconnector-cloudant-2.0/spark-2.0.0/libs/*:/usr/local/src/analytic-libs-2.0/spark-2.0.0/*:/usr/local/src/dataconnector-dw-2.0/spark-2.0.0/Server/connectivity/jars/*:/usr/local/src/dataconnector-dw-2.0/spark-2.0.0/Server/connectivity/jdbc/lib/*:/usr/local/src/dataconnector-dw-2.0/spark-2.0.0/Server/connectivity/thirdparty/*:/usr/local/src/dataconnector-dw-2.0/spark-2.0.0/libs/*:/usr/local/src/dataconnector-dw-2.0/spark-2.0.0/Server/connectivity/thirdparty/aws/*:/usr/local/src/dataconnector-dw-2.0/spark-2.0.0/Server/connectivity/config/:/usr/local/src/dataconnector-dw-2.0/spark-2.0.0/Server/connectivity/FaspStreamSDK/lib/*:/usr/local/src/dataconnector-dw-2.0/spark-2.0.0/Server/connectivity/jars/JISPlugins/*:/usr/local/src/dataconnector-dw-2.0/spark-2.0.0/Server/connectivity/branded_jdbc/lib/*:/usr/local/src/dataconnector-dw-2.0/spark-2.0.0/ASBServer/apps/lib/iis/*/*:/usr/local/src/dataconnector-dw-2.0/spark-2.0.0/Server/connectivity/connectors/*/*:/usr/local/src/event-stream-2.0/spark-2.0.0/libs/*:/usr/local/src/dataconnector-db2/* -Xmx1512M org.apache.spark.deploy.SparkSubmit --master spark://yp-spark-dal09-env5-0039:7085 --class org.apache.toree.Main /usr/local/src/bluemix_jupyter_bundle.v33/toree/lib/toree-assembly-0.2.0.dev1-incubating-SNAPSHOT.jar --jar-dir /gpfs/fs01/user/sc17-49b2ac2ea6dc73-b98ec5004853/notebook/downloads --profile /gpfs/fs01/user/sc17-49b2ac2ea6dc73-b98ec5004853/notebook/jupyter-rt/kernel-47fb601f-4c4c-462b-916c-ce8f803e049a.json',\n 'sc17-49+ 43363  0.7  0.0 12143440 223596 ?     Sl   12:40   1:16 /usr/local/src/spark20master/ibm-java-x86_64-80/bin/java -cp /gpfs/fs01/user/sc17-49b2ac2ea6dc73-b98ec5004853/notebook/spark-config/spark20master/:/usr/local/src/spark20master/spark/ego/spark-launcher_2.11-2.0.2.jar:/usr/local/src/spark20master/spark/ego/spark-network-shuffle_2.11-2.0.2.jar:/usr/local/src/spark20master/spark/ego/gson-2.2.4.jar:/usr/local/src/spark20master/spark/ego/guava-14.0.1.jar:/usr/local/src/spark20master/spark/ego/Java-WebSocket-1.3.0.jar:/usr/local/src/spark20master/spark/ego/spark-ego_2.11-2.0.2.jar:/gpfs/fs01/user/sc17-49b2ac2ea6dc73-b98ec5004853/notebook/spark-config/spark20master/:/usr/local/src/spark20master/spark-2.0.2-bin-2.7.3/jars/*:/gpfs/fs01/user/sc17-49b2ac2ea6dc73-b98ec5004853/data/libs/scala-2.11/*:/gpfs/fs01/user/sc17-49b2ac2ea6dc73-b98ec5004853/data/libs/:/gpfs/fs01/user/sc17-49b2ac2ea6dc73-b98ec5004853/data/libs/*:/usr/local/src/dataconnector-stocator/spark-2.0.0/libs/*:/usr/local/src/dataconnector-s3-2.0/spark-2.0.0/libs/*:/usr/local/src/dataconnector-cloudant-2.0/spark-2.0.0/libs/*:/usr/local/src/analytic-libs-2.0/spark-2.0.0/*:/usr/local/src/dataconnector-dw-2.0/spark-2.0.0/Server/connectivity/jars/*:/usr/local/src/dataconnector-dw-2.0/spark-2.0.0/Server/connectivity/jdbc/lib/*:/usr/local/src/dataconnector-dw-2.0/spark-2.0.0/Server/connectivity/thirdparty/*:/usr/local/src/dataconnector-dw-2.0/spark-2.0.0/libs/*:/usr/local/src/dataconnector-dw-2.0/spark-2.0.0/Server/connectivity/thirdparty/aws/*:/usr/local/src/dataconnector-dw-2.0/spark-2.0.0/Server/connectivity/config/:/usr/local/src/dataconnector-dw-2.0/spark-2.0.0/Server/connectivity/FaspStreamSDK/lib/*:/usr/local/src/dataconnector-dw-2.0/spark-2.0.0/Server/connectivity/jars/JISPlugins/*:/usr/local/src/dataconnector-dw-2.0/spark-2.0.0/Server/connectivity/branded_jdbc/lib/*:/usr/local/src/dataconnector-dw-2.0/spark-2.0.0/ASBServer/apps/lib/iis/*/*:/usr/local/src/dataconnector-dw-2.0/spark-2.0.0/Server/connectivity/connectors/*/*:/usr/local/src/event-stream-2.0/spark-2.0.0/libs/*:/usr/local/src/dataconnector-db2/* -Xmx1512M org.apache.spark.deploy.SparkSubmit --name PySparkShell pyspark-shell',\n 'sc17-49+ 32974  0.3  0.0 11413748 124460 ?     Sl   12:34   0:30 /usr/local/src/spark20master/ibm-java-x86_64-80/bin/java -cp /gpfs/fs01/user/sc17-49b2ac2ea6dc73-b98ec5004853/notebook/spark-config/spark20master/:/usr/local/src/spark20master/spark/ego/spark-launcher_2.11-2.0.2.jar:/usr/local/src/spark20master/spark/ego/spark-network-shuffle_2.11-2.0.2.jar:/usr/local/src/spark20master/spark/ego/gson-2.2.4.jar:/usr/local/src/spark20master/spark/ego/guava-14.0.1.jar:/usr/local/src/spark20master/spark/ego/Java-WebSocket-1.3.0.jar:/usr/local/src/spark20master/spark/ego/spark-ego_2.11-2.0.2.jar:/gpfs/fs01/user/sc17-49b2ac2ea6dc73-b98ec5004853/notebook/spark-config/spark20master/:/usr/local/src/spark20master/spark-2.0.2-bin-2.7.3/jars/*:/gpfs/fs01/user/sc17-49b2ac2ea6dc73-b98ec5004853/data/libs/scala-2.11/*:/gpfs/fs01/user/sc17-49b2ac2ea6dc73-b98ec5004853/data/libs/:/gpfs/fs01/user/sc17-49b2ac2ea6dc73-b98ec5004853/data/libs/*:/usr/local/src/dataconnector-stocator/spark-2.0.0/libs/*:/usr/local/src/dataconnector-s3-2.0/spark-2.0.0/libs/*:/usr/local/src/dataconnector-cloudant-2.0/spark-2.0.0/libs/*:/usr/local/src/analytic-libs-2.0/spark-2.0.0/*:/usr/local/src/dataconnector-dw-2.0/spark-2.0.0/Server/connectivity/jars/*:/usr/local/src/dataconnector-dw-2.0/spark-2.0.0/Server/connectivity/jdbc/lib/*:/usr/local/src/dataconnector-dw-2.0/spark-2.0.0/Server/connectivity/thirdparty/*:/usr/local/src/dataconnector-dw-2.0/spark-2.0.0/libs/*:/usr/local/src/dataconnector-dw-2.0/spark-2.0.0/Server/connectivity/thirdparty/aws/*:/usr/local/src/dataconnector-dw-2.0/spark-2.0.0/Server/connectivity/config/:/usr/local/src/dataconnector-dw-2.0/spark-2.0.0/Server/connectivity/FaspStreamSDK/lib/*:/usr/local/src/dataconnector-dw-2.0/spark-2.0.0/Server/connectivity/jars/JISPlugins/*:/usr/local/src/dataconnector-dw-2.0/spark-2.0.0/Server/connectivity/branded_jdbc/lib/*:/usr/local/src/dataconnector-dw-2.0/spark-2.0.0/ASBServer/apps/lib/iis/*/*:/usr/local/src/dataconnector-dw-2.0/spark-2.0.0/Server/connectivity/connectors/*/*:/usr/local/src/event-stream-2.0/spark-2.0.0/libs/*:/usr/local/src/dataconnector-db2/* -Xmx1512M org.apache.spark.deploy.SparkSubmit --name PySparkShell pyspark-shell',\n 'sc17-49+ 25542  8.5  0.0 11413684 119484 ?     Sl   15:22   0:11 /usr/local/src/spark20master/ibm-java-x86_64-80/bin/java -cp /gpfs/fs01/user/sc17-49b2ac2ea6dc73-b98ec5004853/notebook/spark-config/spark20master/:/usr/local/src/spark20master/spark/ego/spark-launcher_2.11-2.0.2.jar:/usr/local/src/spark20master/spark/ego/spark-network-shuffle_2.11-2.0.2.jar:/usr/local/src/spark20master/spark/ego/gson-2.2.4.jar:/usr/local/src/spark20master/spark/ego/guava-14.0.1.jar:/usr/local/src/spark20master/spark/ego/Java-WebSocket-1.3.0.jar:/usr/local/src/spark20master/spark/ego/spark-ego_2.11-2.0.2.jar:/gpfs/fs01/user/sc17-49b2ac2ea6dc73-b98ec5004853/notebook/spark-config/spark20master/:/usr/local/src/spark20master/spark-2.0.2-bin-2.7.3/jars/*:/gpfs/fs01/user/sc17-49b2ac2ea6dc73-b98ec5004853/data/libs/scala-2.11/*:/gpfs/fs01/user/sc17-49b2ac2ea6dc73-b98ec5004853/data/libs/:/gpfs/fs01/user/sc17-49b2ac2ea6dc73-b98ec5004853/data/libs/*:/usr/local/src/dataconnector-stocator/spark-2.0.0/libs/*:/usr/local/src/dataconnector-s3-2.0/spark-2.0.0/libs/*:/usr/local/src/dataconnector-cloudant-2.0/spark-2.0.0/libs/*:/usr/local/src/analytic-libs-2.0/spark-2.0.0/*:/usr/local/src/dataconnector-dw-2.0/spark-2.0.0/Server/connectivity/jars/*:/usr/local/src/dataconnector-dw-2.0/spark-2.0.0/Server/connectivity/jdbc/lib/*:/usr/local/src/dataconnector-dw-2.0/spark-2.0.0/Server/connectivity/thirdparty/*:/usr/local/src/dataconnector-dw-2.0/spark-2.0.0/libs/*:/usr/local/src/dataconnector-dw-2.0/spark-2.0.0/Server/connectivity/thirdparty/aws/*:/usr/local/src/dataconnector-dw-2.0/spark-2.0.0/Server/connectivity/config/:/usr/local/src/dataconnector-dw-2.0/spark-2.0.0/Server/connectivity/FaspStreamSDK/lib/*:/usr/local/src/dataconnector-dw-2.0/spark-2.0.0/Server/connectivity/jars/JISPlugins/*:/usr/local/src/dataconnector-dw-2.0/spark-2.0.0/Server/connectivity/branded_jdbc/lib/*:/usr/local/src/dataconnector-dw-2.0/spark-2.0.0/ASBServer/apps/lib/iis/*/*:/usr/local/src/dataconnector-dw-2.0/spark-2.0.0/Server/connectivity/connectors/*/*:/usr/local/src/event-stream-2.0/spark-2.0.0/libs/*:/usr/local/src/dataconnector-db2/* -Xmx1512M org.apache.spark.deploy.SparkSubmit --name PySparkShell pyspark-shell',\n 'sc17-49+ 43180  0.0  0.0 2557352 65356 ?       Ssl  12:40   0:07 /usr/local/src/bluemix_jupyter_bundle.v33/notebook/bin/python -m ipykernel -f /gpfs/fs01/user/sc17-49b2ac2ea6dc73-b98ec5004853/notebook/jupyter-rt/kernel-2f156216-a5d7-495b-a997-2dcbbc557586.json',\n 'sc17-49+ 25225  3.7  0.0 2455460 46216 ?       Ssl  15:22   0:05 /usr/local/src/bluemix_jupyter_bundle.v33/notebook/bin/python -m ipykernel -f /gpfs/fs01/user/sc17-49b2ac2ea6dc73-b98ec5004853/notebook/jupyter-rt/kernel-69acb4d8-d22c-4cf1-b522-eb951fea7464.json',\n 'sc17-49+ 10626  0.0  0.0 362532 48244 ?        Sl   10:47   0:14 python /usr/local/src/bluemix_jupyter_bundle.v33/notebook/bin/jupyter-notebook',\n 'sc17-49+ 30898  0.0  0.0 163424  1932 ?        R    15:24   0:00 ps -ux --sort=-vsize',\n 'sc17-49+ 10339  0.0  0.0  78596  3996 ?        S    10:47   0:00 /disk1/ego/3.4/linux-x86_64/etc/pem',\n 'sc17-49+ 10341  0.0  0.0  78596  3396 ?        S    10:47   0:00 /disk1/ego/3.4/linux-x86_64/etc/pem',\n 'sc17-49+ 10340  0.0  0.0  14504  1832 ?        S    10:47   0:00 bash /usr/local/src/bluemix_jupyter_bundle.v33/provision/control_jupyter.sh start',\n 'sc17-49+ 10342  0.0  0.0  13988  1584 ?        S    10:47   0:00 /bin/bash /usr/local/src/bluemix_jupyter_bundle.v33/provision/monitorport.sh',\n 'sc17-49+ 25035  0.0  0.0   4308   348 ?        S    15:22   0:00 sleep 300']"
                    }, 
                    "metadata": {}, 
                    "execution_count": 6, 
                    "output_type": "execute_result"
                }
            ]
        }, 
        {
            "metadata": {}, 
            "source": "%pstree", 
            "execution_count": 1, 
            "cell_type": "code", 
            "outputs": [
                {
                    "name": "stderr", 
                    "text": "ERROR: Line magic function `%pstree` not found.\n", 
                    "output_type": "stream"
                }
            ]
        }
    ], 
    "nbformat": 4, 
    "metadata": {
        "kernelspec": {
            "name": "python2-spark20", 
            "language": "python", 
            "display_name": "Python 2 with Spark 2.0"
        }, 
        "language_info": {
            "version": "2.7.11", 
            "name": "python", 
            "pygments_lexer": "ipython2", 
            "mimetype": "text/x-python", 
            "codemirror_mode": {
                "name": "ipython", 
                "version": 2
            }, 
            "file_extension": ".py", 
            "nbconvert_exporter": "python"
        }
    }
}