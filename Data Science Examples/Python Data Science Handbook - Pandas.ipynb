{
    "nbformat": 4, 
    "cells": [
        {
            "source": "# Data Manipulation with Pandas", 
            "cell_type": "markdown", 
            "metadata": {
                "collapsed": true
            }
        }, 
        {
            "outputs": [], 
            "execution_count": 1, 
            "cell_type": "code", 
            "source": "# importing\nimport pandas as pd", 
            "metadata": {}
        }, 
        {
            "source": "## Objects  Series, DataFrame, and Index\n", 
            "cell_type": "markdown", 
            "metadata": {}
        }, 
        {
            "outputs": [], 
            "execution_count": 2, 
            "cell_type": "code", 
            "source": "import numpy as np\nimport pandas as pd", 
            "metadata": {}
        }, 
        {
            "source": "### Series", 
            "cell_type": "markdown", 
            "metadata": {}
        }, 
        {
            "outputs": [
                {
                    "data": {
                        "text/plain": "0    0.25\n1    0.50\n2    0.75\n3    1.00\ndtype: float64"
                    }, 
                    "execution_count": 3, 
                    "metadata": {}, 
                    "output_type": "execute_result"
                }
            ], 
            "execution_count": 3, 
            "cell_type": "code", 
            "source": "# Series - A Pandas Series is a one-dimensional array of indexed data. It can be created from a list or array as follows:\n# pd.Series(data, index=index)\ndata = pd.Series([0.25, 0.5, 0.75, 1.0])\ndata", 
            "metadata": {}
        }, 
        {
            "outputs": [
                {
                    "data": {
                        "text/plain": "array([ 0.25,  0.5 ,  0.75,  1.  ])"
                    }, 
                    "execution_count": 4, 
                    "metadata": {}, 
                    "output_type": "execute_result"
                }
            ], 
            "execution_count": 4, 
            "cell_type": "code", 
            "source": "data.values", 
            "metadata": {}
        }, 
        {
            "outputs": [
                {
                    "data": {
                        "text/plain": "Int64Index([0, 1, 2, 3], dtype='int64')"
                    }, 
                    "execution_count": 5, 
                    "metadata": {}, 
                    "output_type": "execute_result"
                }
            ], 
            "execution_count": 5, 
            "cell_type": "code", 
            "source": "data.index", 
            "metadata": {}
        }, 
        {
            "outputs": [
                {
                    "data": {
                        "text/plain": "0.5"
                    }, 
                    "execution_count": 6, 
                    "metadata": {}, 
                    "output_type": "execute_result"
                }
            ], 
            "execution_count": 6, 
            "cell_type": "code", 
            "source": "data[1]", 
            "metadata": {}
        }, 
        {
            "outputs": [
                {
                    "data": {
                        "text/plain": "1    0.50\n2    0.75\ndtype: float64"
                    }, 
                    "execution_count": 7, 
                    "metadata": {}, 
                    "output_type": "execute_result"
                }
            ], 
            "execution_count": 7, 
            "cell_type": "code", 
            "source": "data[1:3]", 
            "metadata": {}
        }, 
        {
            "outputs": [
                {
                    "data": {
                        "text/plain": "a    0.25\nb    0.50\nc    0.75\nd    1.00\ndtype: float64"
                    }, 
                    "execution_count": 8, 
                    "metadata": {}, 
                    "output_type": "execute_result"
                }
            ], 
            "execution_count": 8, 
            "cell_type": "code", 
            "source": "#Difference between Numpy array and Pandas Series is that we can use index names instead of just numbers\ndata = pd.Series([0.25, 0.5, 0.75, 1.0],\n                            index=['a', 'b', 'c', 'd'])\ndata", 
            "metadata": {}
        }, 
        {
            "outputs": [
                {
                    "data": {
                        "text/plain": "0.5"
                    }, 
                    "execution_count": 9, 
                    "metadata": {}, 
                    "output_type": "execute_result"
                }
            ], 
            "execution_count": 9, 
            "cell_type": "code", 
            "source": "data['b']", 
            "metadata": {}
        }, 
        {
            "outputs": [
                {
                    "data": {
                        "text/plain": "California    38332521\nFlorida       19552860\nIllinois      12882135\nNew York      19651127\nTexas         26448193\ndtype: int64"
                    }, 
                    "execution_count": 10, 
                    "metadata": {}, 
                    "output_type": "execute_result"
                }
            ], 
            "execution_count": 10, 
            "cell_type": "code", 
            "source": "#Convert Dictionary to Series\npopulation_dict = {'California': 38332521,\n                               'Texas': 26448193,\n                               'New York': 19651127,\n                               'Florida': 19552860,\n                               'Illinois': 12882135}\npopulation = pd.Series(population_dict)\npopulation", 
            "metadata": {}
        }, 
        {
            "outputs": [
                {
                    "data": {
                        "text/plain": "California    38332521\nFlorida       19552860\nIllinois      12882135\ndtype: int64"
                    }, 
                    "execution_count": 11, 
                    "metadata": {}, 
                    "output_type": "execute_result"
                }
            ], 
            "execution_count": 11, 
            "cell_type": "code", 
            "source": "#Unlike a dictionary, though, the Series also supports array-style operations such as slicing:\npopulation['California':'Illinois']", 
            "metadata": {}
        }, 
        {
            "source": "### Dataframe", 
            "cell_type": "markdown", 
            "metadata": {}
        }, 
        {
            "outputs": [
                {
                    "data": {
                        "text/plain": "California    423967\nFlorida       170312\nIllinois      149995\nNew York      141297\nTexas         695662\ndtype: int64"
                    }, 
                    "execution_count": 12, 
                    "metadata": {}, 
                    "output_type": "execute_result"
                }
            ], 
            "execution_count": 12, 
            "cell_type": "code", 
            "source": "#DataFrame as a generalized NumPy array\n\narea_dict = {'California': 423967, 'Texas': 695662, 'New York': 141297,\n                 'Florida': 170312, 'Illinois': 149995}\narea = pd.Series(area_dict)\narea", 
            "metadata": {}
        }, 
        {
            "outputs": [
                {
                    "data": {
                        "text/plain": "              area  population\nCalifornia  423967    38332521\nFlorida     170312    19552860\nIllinois    149995    12882135\nNew York    141297    19651127\nTexas       695662    26448193", 
                        "text/html": "<div>\n<table border=\"1\" class=\"dataframe\">\n  <thead>\n    <tr style=\"text-align: right;\">\n      <th></th>\n      <th>area</th>\n      <th>population</th>\n    </tr>\n  </thead>\n  <tbody>\n    <tr>\n      <th>California</th>\n      <td>423967</td>\n      <td>38332521</td>\n    </tr>\n    <tr>\n      <th>Florida</th>\n      <td>170312</td>\n      <td>19552860</td>\n    </tr>\n    <tr>\n      <th>Illinois</th>\n      <td>149995</td>\n      <td>12882135</td>\n    </tr>\n    <tr>\n      <th>New York</th>\n      <td>141297</td>\n      <td>19651127</td>\n    </tr>\n    <tr>\n      <th>Texas</th>\n      <td>695662</td>\n      <td>26448193</td>\n    </tr>\n  </tbody>\n</table>\n</div>"
                    }, 
                    "execution_count": 13, 
                    "metadata": {}, 
                    "output_type": "execute_result"
                }
            ], 
            "execution_count": 13, 
            "cell_type": "code", 
            "source": "states = pd.DataFrame({'population': population,\n                                   'area': area})\nstates", 
            "metadata": {}
        }, 
        {
            "outputs": [
                {
                    "data": {
                        "text/plain": "Index([u'California', u'Florida', u'Illinois', u'New York', u'Texas'], dtype='object')"
                    }, 
                    "execution_count": 14, 
                    "metadata": {}, 
                    "output_type": "execute_result"
                }
            ], 
            "execution_count": 14, 
            "cell_type": "code", 
            "source": "states.index", 
            "metadata": {}
        }, 
        {
            "outputs": [
                {
                    "data": {
                        "text/plain": "Index([u'area', u'population'], dtype='object')"
                    }, 
                    "execution_count": 15, 
                    "metadata": {}, 
                    "output_type": "execute_result"
                }
            ], 
            "execution_count": 15, 
            "cell_type": "code", 
            "source": "states.columns", 
            "metadata": {}
        }, 
        {
            "source": "", 
            "cell_type": "markdown", 
            "metadata": {}
        }, 
        {
            "outputs": [
                {
                    "data": {
                        "text/plain": "        foo       bar\na  0.081163  0.126165\nb  0.022218  0.226891\nc  0.296198  0.991421", 
                        "text/html": "<div>\n<table border=\"1\" class=\"dataframe\">\n  <thead>\n    <tr style=\"text-align: right;\">\n      <th></th>\n      <th>foo</th>\n      <th>bar</th>\n    </tr>\n  </thead>\n  <tbody>\n    <tr>\n      <th>a</th>\n      <td>0.081163</td>\n      <td>0.126165</td>\n    </tr>\n    <tr>\n      <th>b</th>\n      <td>0.022218</td>\n      <td>0.226891</td>\n    </tr>\n    <tr>\n      <th>c</th>\n      <td>0.296198</td>\n      <td>0.991421</td>\n    </tr>\n  </tbody>\n</table>\n</div>"
                    }, 
                    "execution_count": 16, 
                    "metadata": {}, 
                    "output_type": "execute_result"
                }
            ], 
            "execution_count": 16, 
            "cell_type": "code", 
            "source": "### From a two-dimensional NumPy array\npd.DataFrame(np.random.rand(3, 2),\n                         columns=['foo', 'bar'],\n                         index=['a', 'b', 'c'])\n", 
            "metadata": {}
        }, 
        {
            "source": "### The Pandas Index Object", 
            "cell_type": "markdown", 
            "metadata": {}
        }, 
        {
            "outputs": [
                {
                    "data": {
                        "text/plain": "Int64Index([2, 3, 5, 7, 11], dtype='int64')"
                    }, 
                    "execution_count": 17, 
                    "metadata": {}, 
                    "output_type": "execute_result"
                }
            ], 
            "execution_count": 17, 
            "cell_type": "code", 
            "source": "# can be thought of either as an immutable array or as an ordered set (technically a multiset, as Index objects may contain repeated values)\nind = pd.Index([2, 3, 5, 7, 11])\nind", 
            "metadata": {}
        }, 
        {
            "outputs": [
                {
                    "data": {
                        "text/plain": "Int64Index([3, 5, 7], dtype='int64')"
                    }, 
                    "execution_count": 18, 
                    "metadata": {}, 
                    "output_type": "execute_result"
                }
            ], 
            "execution_count": 18, 
            "cell_type": "code", 
            "source": "indA = pd.Index([1, 3, 5, 7, 9])\nindB = pd.Index([2, 3, 5, 7, 11])\n\nindA & indB #intersection", 
            "metadata": {}
        }, 
        {
            "outputs": [
                {
                    "data": {
                        "text/plain": "Int64Index([1, 2, 3, 5, 7, 9, 11], dtype='int64')"
                    }, 
                    "execution_count": 19, 
                    "metadata": {}, 
                    "output_type": "execute_result"
                }
            ], 
            "execution_count": 19, 
            "cell_type": "code", 
            "source": "indA | indB # union", 
            "metadata": {}
        }, 
        {
            "outputs": [
                {
                    "data": {
                        "text/plain": "Int64Index([1, 2, 9, 11], dtype='int64')"
                    }, 
                    "execution_count": 20, 
                    "metadata": {}, 
                    "output_type": "execute_result"
                }
            ], 
            "execution_count": 20, 
            "cell_type": "code", 
            "source": "indA ^ indB # symmetric difference", 
            "metadata": {}
        }, 
        {
            "source": "### Data Indexing and Selection", 
            "cell_type": "markdown", 
            "metadata": {}
        }, 
        {
            "outputs": [
                {
                    "data": {
                        "text/plain": "a    0.25\nb    0.50\nc    0.75\nd    1.00\ndtype: float64"
                    }, 
                    "execution_count": 21, 
                    "metadata": {}, 
                    "output_type": "execute_result"
                }
            ], 
            "execution_count": 21, 
            "cell_type": "code", 
            "source": "data = pd.Series([0.25, 0.5, 0.75, 1.0],\nindex=['a', 'b', 'c', 'd'])\ndata", 
            "metadata": {}
        }, 
        {
            "outputs": [
                {
                    "data": {
                        "text/plain": "True"
                    }, 
                    "execution_count": 22, 
                    "metadata": {}, 
                    "output_type": "execute_result"
                }
            ], 
            "execution_count": 22, 
            "cell_type": "code", 
            "source": " 'a' in data", 
            "metadata": {}
        }, 
        {
            "outputs": [
                {
                    "data": {
                        "text/plain": "Index([u'a', u'b', u'c', u'd'], dtype='object')"
                    }, 
                    "execution_count": 23, 
                    "metadata": {}, 
                    "output_type": "execute_result"
                }
            ], 
            "execution_count": 23, 
            "cell_type": "code", 
            "source": "data.keys()", 
            "metadata": {}
        }, 
        {
            "outputs": [
                {
                    "data": {
                        "text/plain": "a    0.25\nb    0.50\nc    0.75\ndtype: float64"
                    }, 
                    "execution_count": 24, 
                    "metadata": {}, 
                    "output_type": "execute_result"
                }
            ], 
            "execution_count": 24, 
            "cell_type": "code", 
            "source": "data['a':'c']", 
            "metadata": {}
        }, 
        {
            "outputs": [
                {
                    "data": {
                        "text/plain": "a    0.25\nb    0.50\ndtype: float64"
                    }, 
                    "execution_count": 25, 
                    "metadata": {}, 
                    "output_type": "execute_result"
                }
            ], 
            "execution_count": 25, 
            "cell_type": "code", 
            "source": "data[0:2]", 
            "metadata": {}
        }, 
        {
            "outputs": [
                {
                    "data": {
                        "text/plain": "b    0.50\nc    0.75\ndtype: float64"
                    }, 
                    "execution_count": 26, 
                    "metadata": {}, 
                    "output_type": "execute_result"
                }
            ], 
            "execution_count": 26, 
            "cell_type": "code", 
            "source": "data[(data > 0.3) & (data < 0.8)]", 
            "metadata": {}
        }, 
        {
            "outputs": [
                {
                    "data": {
                        "text/plain": "a    0.25\ne     NaN\ndtype: float64"
                    }, 
                    "execution_count": 27, 
                    "metadata": {}, 
                    "output_type": "execute_result"
                }
            ], 
            "execution_count": 27, 
            "cell_type": "code", 
            "source": "data[['a', 'e']]", 
            "metadata": {}
        }, 
        {
            "outputs": [
                {
                    "data": {
                        "text/plain": "1    a\n3    b\n5    c\ndtype: object"
                    }, 
                    "execution_count": 28, 
                    "metadata": {}, 
                    "output_type": "execute_result"
                }
            ], 
            "execution_count": 28, 
            "cell_type": "code", 
            "source": "#loc vs iloc\ndata = pd.Series(['a', 'b', 'c'], index=[1, 3, 5])\ndata", 
            "metadata": {}
        }, 
        {
            "outputs": [
                {
                    "data": {
                        "text/plain": "'a'"
                    }, 
                    "execution_count": 29, 
                    "metadata": {}, 
                    "output_type": "execute_result"
                }
            ], 
            "execution_count": 29, 
            "cell_type": "code", 
            "source": "data.loc[1]", 
            "metadata": {}
        }, 
        {
            "outputs": [
                {
                    "data": {
                        "text/plain": "1    a\n3    b\ndtype: object"
                    }, 
                    "execution_count": 30, 
                    "metadata": {}, 
                    "output_type": "execute_result"
                }
            ], 
            "execution_count": 30, 
            "cell_type": "code", 
            "source": "data.loc[1:3]", 
            "metadata": {}
        }, 
        {
            "outputs": [
                {
                    "data": {
                        "text/plain": "'b'"
                    }, 
                    "execution_count": 31, 
                    "metadata": {}, 
                    "output_type": "execute_result"
                }
            ], 
            "execution_count": 31, 
            "cell_type": "code", 
            "source": "#iloc is python style\ndata.iloc[1]", 
            "metadata": {}
        }, 
        {
            "outputs": [
                {
                    "data": {
                        "text/plain": "3    b\n5    c\ndtype: object"
                    }, 
                    "execution_count": 32, 
                    "metadata": {}, 
                    "output_type": "execute_result"
                }
            ], 
            "execution_count": 32, 
            "cell_type": "code", 
            "source": "data.iloc[1:3]", 
            "metadata": {}
        }, 
        {
            "source": "### Data Selection in DataFrame", 
            "cell_type": "markdown", 
            "metadata": {}
        }, 
        {
            "outputs": [
                {
                    "data": {
                        "text/plain": "              area       pop\nCalifornia  423967  38332521\nFlorida     170312  19552860\nIllinois    149995  12882135\nNew York    141297  19651127\nTexas       695662  26448193", 
                        "text/html": "<div>\n<table border=\"1\" class=\"dataframe\">\n  <thead>\n    <tr style=\"text-align: right;\">\n      <th></th>\n      <th>area</th>\n      <th>pop</th>\n    </tr>\n  </thead>\n  <tbody>\n    <tr>\n      <th>California</th>\n      <td>423967</td>\n      <td>38332521</td>\n    </tr>\n    <tr>\n      <th>Florida</th>\n      <td>170312</td>\n      <td>19552860</td>\n    </tr>\n    <tr>\n      <th>Illinois</th>\n      <td>149995</td>\n      <td>12882135</td>\n    </tr>\n    <tr>\n      <th>New York</th>\n      <td>141297</td>\n      <td>19651127</td>\n    </tr>\n    <tr>\n      <th>Texas</th>\n      <td>695662</td>\n      <td>26448193</td>\n    </tr>\n  </tbody>\n</table>\n</div>"
                    }, 
                    "execution_count": 33, 
                    "metadata": {}, 
                    "output_type": "execute_result"
                }
            ], 
            "execution_count": 33, 
            "cell_type": "code", 
            "source": "area = pd.Series({'California': 423967, 'Texas': 695662,\n                          'New York': 141297, 'Florida': 170312,\n                          'Illinois': 149995})\npop = pd.Series({'California': 38332521, 'Texas': 26448193,\n                         'New York': 19651127, 'Florida': 19552860,\n                         'Illinois': 12882135})\ndata = pd.DataFrame({'area':area, 'pop':pop})\ndata", 
            "metadata": {}
        }, 
        {
            "outputs": [
                {
                    "data": {
                        "text/plain": "California    423967\nFlorida       170312\nIllinois      149995\nNew York      141297\nTexas         695662\nName: area, dtype: int64"
                    }, 
                    "execution_count": 34, 
                    "metadata": {}, 
                    "output_type": "execute_result"
                }
            ], 
            "execution_count": 34, 
            "cell_type": "code", 
            "source": "# or data['area']\ndata.area", 
            "metadata": {}
        }, 
        {
            "outputs": [
                {
                    "data": {
                        "text/plain": "              area       pop     density\nCalifornia  423967  38332521   90.413926\nFlorida     170312  19552860  114.806121\nIllinois    149995  12882135   85.883763\nNew York    141297  19651127  139.076746\nTexas       695662  26448193   38.018740", 
                        "text/html": "<div>\n<table border=\"1\" class=\"dataframe\">\n  <thead>\n    <tr style=\"text-align: right;\">\n      <th></th>\n      <th>area</th>\n      <th>pop</th>\n      <th>density</th>\n    </tr>\n  </thead>\n  <tbody>\n    <tr>\n      <th>California</th>\n      <td>423967</td>\n      <td>38332521</td>\n      <td>90.413926</td>\n    </tr>\n    <tr>\n      <th>Florida</th>\n      <td>170312</td>\n      <td>19552860</td>\n      <td>114.806121</td>\n    </tr>\n    <tr>\n      <th>Illinois</th>\n      <td>149995</td>\n      <td>12882135</td>\n      <td>85.883763</td>\n    </tr>\n    <tr>\n      <th>New York</th>\n      <td>141297</td>\n      <td>19651127</td>\n      <td>139.076746</td>\n    </tr>\n    <tr>\n      <th>Texas</th>\n      <td>695662</td>\n      <td>26448193</td>\n      <td>38.018740</td>\n    </tr>\n  </tbody>\n</table>\n</div>"
                    }, 
                    "execution_count": 35, 
                    "metadata": {}, 
                    "output_type": "execute_result"
                }
            ], 
            "execution_count": 35, 
            "cell_type": "code", 
            "source": "data['density'] = data['pop'] / data['area']\ndata", 
            "metadata": {}
        }, 
        {
            "outputs": [
                {
                    "data": {
                        "text/plain": "              California          Florida         Illinois         New York  \\\narea       423967.000000    170312.000000    149995.000000    141297.000000   \npop      38332521.000000  19552860.000000  12882135.000000  19651127.000000   \ndensity        90.413926       114.806121        85.883763       139.076746   \n\n                  Texas  \narea       695662.00000  \npop      26448193.00000  \ndensity        38.01874  ", 
                        "text/html": "<div>\n<table border=\"1\" class=\"dataframe\">\n  <thead>\n    <tr style=\"text-align: right;\">\n      <th></th>\n      <th>California</th>\n      <th>Florida</th>\n      <th>Illinois</th>\n      <th>New York</th>\n      <th>Texas</th>\n    </tr>\n  </thead>\n  <tbody>\n    <tr>\n      <th>area</th>\n      <td>423967.000000</td>\n      <td>170312.000000</td>\n      <td>149995.000000</td>\n      <td>141297.000000</td>\n      <td>695662.00000</td>\n    </tr>\n    <tr>\n      <th>pop</th>\n      <td>38332521.000000</td>\n      <td>19552860.000000</td>\n      <td>12882135.000000</td>\n      <td>19651127.000000</td>\n      <td>26448193.00000</td>\n    </tr>\n    <tr>\n      <th>density</th>\n      <td>90.413926</td>\n      <td>114.806121</td>\n      <td>85.883763</td>\n      <td>139.076746</td>\n      <td>38.01874</td>\n    </tr>\n  </tbody>\n</table>\n</div>"
                    }, 
                    "execution_count": 36, 
                    "metadata": {}, 
                    "output_type": "execute_result"
                }
            ], 
            "execution_count": 36, 
            "cell_type": "code", 
            "source": "#Transpose\ndata.T", 
            "metadata": {}
        }, 
        {
            "outputs": [
                {
                    "data": {
                        "text/plain": "              area       pop\nCalifornia  423967  38332521\nFlorida     170312  19552860\nIllinois    149995  12882135", 
                        "text/html": "<div>\n<table border=\"1\" class=\"dataframe\">\n  <thead>\n    <tr style=\"text-align: right;\">\n      <th></th>\n      <th>area</th>\n      <th>pop</th>\n    </tr>\n  </thead>\n  <tbody>\n    <tr>\n      <th>California</th>\n      <td>423967</td>\n      <td>38332521</td>\n    </tr>\n    <tr>\n      <th>Florida</th>\n      <td>170312</td>\n      <td>19552860</td>\n    </tr>\n    <tr>\n      <th>Illinois</th>\n      <td>149995</td>\n      <td>12882135</td>\n    </tr>\n  </tbody>\n</table>\n</div>"
                    }, 
                    "execution_count": 37, 
                    "metadata": {}, 
                    "output_type": "execute_result"
                }
            ], 
            "execution_count": 37, 
            "cell_type": "code", 
            "source": " data.iloc[:3, :2]", 
            "metadata": {}
        }, 
        {
            "outputs": [
                {
                    "data": {
                        "text/plain": "              area       pop\nCalifornia  423967  38332521\nFlorida     170312  19552860\nIllinois    149995  12882135", 
                        "text/html": "<div>\n<table border=\"1\" class=\"dataframe\">\n  <thead>\n    <tr style=\"text-align: right;\">\n      <th></th>\n      <th>area</th>\n      <th>pop</th>\n    </tr>\n  </thead>\n  <tbody>\n    <tr>\n      <th>California</th>\n      <td>423967</td>\n      <td>38332521</td>\n    </tr>\n    <tr>\n      <th>Florida</th>\n      <td>170312</td>\n      <td>19552860</td>\n    </tr>\n    <tr>\n      <th>Illinois</th>\n      <td>149995</td>\n      <td>12882135</td>\n    </tr>\n  </tbody>\n</table>\n</div>"
                    }, 
                    "execution_count": 38, 
                    "metadata": {}, 
                    "output_type": "execute_result"
                }
            ], 
            "execution_count": 38, 
            "cell_type": "code", 
            "source": "data.loc[:'Illinois', :'pop']", 
            "metadata": {}
        }, 
        {
            "outputs": [
                {
                    "data": {
                        "text/plain": "               pop     density\nFlorida   19552860  114.806121\nNew York  19651127  139.076746", 
                        "text/html": "<div>\n<table border=\"1\" class=\"dataframe\">\n  <thead>\n    <tr style=\"text-align: right;\">\n      <th></th>\n      <th>pop</th>\n      <th>density</th>\n    </tr>\n  </thead>\n  <tbody>\n    <tr>\n      <th>Florida</th>\n      <td>19552860</td>\n      <td>114.806121</td>\n    </tr>\n    <tr>\n      <th>New York</th>\n      <td>19651127</td>\n      <td>139.076746</td>\n    </tr>\n  </tbody>\n</table>\n</div>"
                    }, 
                    "execution_count": 39, 
                    "metadata": {}, 
                    "output_type": "execute_result"
                }
            ], 
            "execution_count": 39, 
            "cell_type": "code", 
            "source": "data.loc[data.density > 100, ['pop', 'density']]\n", 
            "metadata": {}
        }, 
        {
            "outputs": [
                {
                    "data": {
                        "text/plain": "              area       pop     density\nCalifornia  423967  38332521   90.000000\nFlorida     170312  19552860  114.806121\nIllinois    149995  12882135   85.883763\nNew York    141297  19651127  139.076746\nTexas       695662  26448193   38.018740", 
                        "text/html": "<div>\n<table border=\"1\" class=\"dataframe\">\n  <thead>\n    <tr style=\"text-align: right;\">\n      <th></th>\n      <th>area</th>\n      <th>pop</th>\n      <th>density</th>\n    </tr>\n  </thead>\n  <tbody>\n    <tr>\n      <th>California</th>\n      <td>423967</td>\n      <td>38332521</td>\n      <td>90.000000</td>\n    </tr>\n    <tr>\n      <th>Florida</th>\n      <td>170312</td>\n      <td>19552860</td>\n      <td>114.806121</td>\n    </tr>\n    <tr>\n      <th>Illinois</th>\n      <td>149995</td>\n      <td>12882135</td>\n      <td>85.883763</td>\n    </tr>\n    <tr>\n      <th>New York</th>\n      <td>141297</td>\n      <td>19651127</td>\n      <td>139.076746</td>\n    </tr>\n    <tr>\n      <th>Texas</th>\n      <td>695662</td>\n      <td>26448193</td>\n      <td>38.018740</td>\n    </tr>\n  </tbody>\n</table>\n</div>"
                    }, 
                    "execution_count": 40, 
                    "metadata": {}, 
                    "output_type": "execute_result"
                }
            ], 
            "execution_count": 40, 
            "cell_type": "code", 
            "source": "data.iloc[0, 2] = 90\ndata", 
            "metadata": {}
        }, 
        {
            "outputs": [
                {
                    "data": {
                        "text/plain": "            area       pop     density\nFlorida   170312  19552860  114.806121\nIllinois  149995  12882135   85.883763", 
                        "text/html": "<div>\n<table border=\"1\" class=\"dataframe\">\n  <thead>\n    <tr style=\"text-align: right;\">\n      <th></th>\n      <th>area</th>\n      <th>pop</th>\n      <th>density</th>\n    </tr>\n  </thead>\n  <tbody>\n    <tr>\n      <th>Florida</th>\n      <td>170312</td>\n      <td>19552860</td>\n      <td>114.806121</td>\n    </tr>\n    <tr>\n      <th>Illinois</th>\n      <td>149995</td>\n      <td>12882135</td>\n      <td>85.883763</td>\n    </tr>\n  </tbody>\n</table>\n</div>"
                    }, 
                    "execution_count": 41, 
                    "metadata": {}, 
                    "output_type": "execute_result"
                }
            ], 
            "execution_count": 41, 
            "cell_type": "code", 
            "source": "#ndex\u2010 ing refers to columns, slicing refers to rows. Slicing:\ndata[1:3]", 
            "metadata": {}
        }, 
        {
            "outputs": [
                {
                    "data": {
                        "text/plain": "            area       pop     density\nFlorida   170312  19552860  114.806121\nNew York  141297  19651127  139.076746", 
                        "text/html": "<div>\n<table border=\"1\" class=\"dataframe\">\n  <thead>\n    <tr style=\"text-align: right;\">\n      <th></th>\n      <th>area</th>\n      <th>pop</th>\n      <th>density</th>\n    </tr>\n  </thead>\n  <tbody>\n    <tr>\n      <th>Florida</th>\n      <td>170312</td>\n      <td>19552860</td>\n      <td>114.806121</td>\n    </tr>\n    <tr>\n      <th>New York</th>\n      <td>141297</td>\n      <td>19651127</td>\n      <td>139.076746</td>\n    </tr>\n  </tbody>\n</table>\n</div>"
                    }, 
                    "execution_count": 42, 
                    "metadata": {}, 
                    "output_type": "execute_result"
                }
            ], 
            "execution_count": 42, 
            "cell_type": "code", 
            "source": "data[data.density > 100]", 
            "metadata": {}
        }, 
        {
            "source": "### Operating on Data in Pandas", 
            "cell_type": "markdown", 
            "metadata": {}
        }, 
        {
            "outputs": [
                {
                    "data": {
                        "text/plain": "0    6\n1    3\n2    7\n3    4\ndtype: int64"
                    }, 
                    "execution_count": 43, 
                    "metadata": {}, 
                    "output_type": "execute_result"
                }
            ], 
            "execution_count": 43, 
            "cell_type": "code", 
            "source": "# Ufuncs: Index Preservation\nrng = np.random.RandomState(42)\nser = pd.Series(rng.randint(0, 10, 4))\nser", 
            "metadata": {}
        }, 
        {
            "outputs": [
                {
                    "data": {
                        "text/plain": "   A  B  C  D\n0  6  9  2  6\n1  7  4  3  7\n2  7  2  5  4", 
                        "text/html": "<div>\n<table border=\"1\" class=\"dataframe\">\n  <thead>\n    <tr style=\"text-align: right;\">\n      <th></th>\n      <th>A</th>\n      <th>B</th>\n      <th>C</th>\n      <th>D</th>\n    </tr>\n  </thead>\n  <tbody>\n    <tr>\n      <th>0</th>\n      <td>6</td>\n      <td>9</td>\n      <td>2</td>\n      <td>6</td>\n    </tr>\n    <tr>\n      <th>1</th>\n      <td>7</td>\n      <td>4</td>\n      <td>3</td>\n      <td>7</td>\n    </tr>\n    <tr>\n      <th>2</th>\n      <td>7</td>\n      <td>2</td>\n      <td>5</td>\n      <td>4</td>\n    </tr>\n  </tbody>\n</table>\n</div>"
                    }, 
                    "execution_count": 44, 
                    "metadata": {}, 
                    "output_type": "execute_result"
                }
            ], 
            "execution_count": 44, 
            "cell_type": "code", 
            "source": "df = pd.DataFrame(rng.randint(0, 10, (3, 4)),\n                             columns=['A', 'B', 'C', 'D'])\ndf", 
            "metadata": {}
        }, 
        {
            "outputs": [
                {
                    "data": {
                        "text/plain": "          A             B         C             D\n0 -1.000000  7.071068e-01  1.000000 -1.000000e+00\n1 -0.707107  1.224647e-16  0.707107 -7.071068e-01\n2 -0.707107  1.000000e+00 -0.707107  1.224647e-16", 
                        "text/html": "<div>\n<table border=\"1\" class=\"dataframe\">\n  <thead>\n    <tr style=\"text-align: right;\">\n      <th></th>\n      <th>A</th>\n      <th>B</th>\n      <th>C</th>\n      <th>D</th>\n    </tr>\n  </thead>\n  <tbody>\n    <tr>\n      <th>0</th>\n      <td>-1.000000</td>\n      <td>7.071068e-01</td>\n      <td>1.000000</td>\n      <td>-1.000000e+00</td>\n    </tr>\n    <tr>\n      <th>1</th>\n      <td>-0.707107</td>\n      <td>1.224647e-16</td>\n      <td>0.707107</td>\n      <td>-7.071068e-01</td>\n    </tr>\n    <tr>\n      <th>2</th>\n      <td>-0.707107</td>\n      <td>1.000000e+00</td>\n      <td>-0.707107</td>\n      <td>1.224647e-16</td>\n    </tr>\n  </tbody>\n</table>\n</div>"
                    }, 
                    "execution_count": 45, 
                    "metadata": {}, 
                    "output_type": "execute_result"
                }
            ], 
            "execution_count": 45, 
            "cell_type": "code", 
            "source": "#If we apply a NumPy ufunc on either of these objects, the result will be another Pan\u2010 das object with the indices preserved:\nnp.sin(df * np.pi / 4)", 
            "metadata": {}
        }, 
        {
            "outputs": [], 
            "execution_count": 46, 
            "cell_type": "code", 
            "source": "#Index alignment in Series\n", 
            "metadata": {}
        }, 
        {
            "outputs": [], 
            "execution_count": 47, 
            "cell_type": "code", 
            "source": "area = pd.Series({'Alaska': 1723337, 'Texas': 695662,\n                             'California': 423967}, name='area')\npopulation = pd.Series({'California': 38332521, 'Texas': 26448193,\n                                   'New York': 19651127}, name='population')", 
            "metadata": {}
        }, 
        {
            "outputs": [
                {
                    "data": {
                        "text/plain": "Alaska              NaN\nCalifornia    90.413926\nNew York            NaN\nTexas         38.018740\ndtype: float64"
                    }, 
                    "execution_count": 48, 
                    "metadata": {}, 
                    "output_type": "execute_result"
                }
            ], 
            "execution_count": 48, 
            "cell_type": "code", 
            "source": "population / area", 
            "metadata": {}
        }, 
        {
            "outputs": [
                {
                    "data": {
                        "text/plain": "Index([u'California', u'Texas'], dtype='object')"
                    }, 
                    "execution_count": 49, 
                    "metadata": {}, 
                    "output_type": "execute_result"
                }
            ], 
            "execution_count": 49, 
            "cell_type": "code", 
            "source": "area.index & population.index", 
            "metadata": {}
        }, 
        {
            "outputs": [
                {
                    "data": {
                        "text/plain": "0   NaN\n1     5\n2     9\n3   NaN\ndtype: float64"
                    }, 
                    "execution_count": 50, 
                    "metadata": {}, 
                    "output_type": "execute_result"
                }
            ], 
            "execution_count": 50, 
            "cell_type": "code", 
            "source": "#NaN filled with 0\nA = pd.Series([2, 4, 6], index=[0, 1, 2]) \nB = pd.Series([1, 3, 5], index=[1, 2, 3]) \nA+B", 
            "metadata": {}
        }, 
        {
            "outputs": [
                {
                    "data": {
                        "text/plain": "0    2\n1    5\n2    9\n3    5\ndtype: float64"
                    }, 
                    "execution_count": 51, 
                    "metadata": {}, 
                    "output_type": "execute_result"
                }
            ], 
            "execution_count": 51, 
            "cell_type": "code", 
            "source": "A.add(B, fill_value=0)", 
            "metadata": {}
        }, 
        {
            "source": "![Screen%20Shot%202018-01-10%20at%203.46.33%20PM.png](attachment:Screen%20Shot%202018-01-10%20at%203.46.33%20PM.png)", 
            "cell_type": "markdown", 
            "metadata": {}, 
            "attachments": {
                "Screen%20Shot%202018-01-10%20at%203.46.33%20PM.png": {
                    "image/png": "[encoded data removed]"
                }
            }
        }, 
        {
            "outputs": [
                {
                    "data": {
                        "text/plain": "array([[1, 7, 5, 1],\n       [4, 0, 9, 5],\n       [8, 0, 9, 2]])"
                    }, 
                    "execution_count": 52, 
                    "metadata": {}, 
                    "output_type": "execute_result"
                }
            ], 
            "execution_count": 52, 
            "cell_type": "code", 
            "source": "#Ufuncs: Operations Between DataFrame and Series\nA = rng.randint(10, size=(3, 4))\nA", 
            "metadata": {}
        }, 
        {
            "outputs": [
                {
                    "data": {
                        "text/plain": "array([[ 0,  0,  0,  0],\n       [ 3, -7,  4,  4],\n       [ 7, -7,  4,  1]])"
                    }, 
                    "execution_count": 53, 
                    "metadata": {}, 
                    "output_type": "execute_result"
                }
            ], 
            "execution_count": 53, 
            "cell_type": "code", 
            "source": "A - A[0]", 
            "metadata": {}
        }, 
        {
            "outputs": [
                {
                    "data": {
                        "text/plain": "   Q  R  S  T\n0  0  0  0  0\n1  3 -7  4  4\n2  7 -7  4  1", 
                        "text/html": "<div>\n<table border=\"1\" class=\"dataframe\">\n  <thead>\n    <tr style=\"text-align: right;\">\n      <th></th>\n      <th>Q</th>\n      <th>R</th>\n      <th>S</th>\n      <th>T</th>\n    </tr>\n  </thead>\n  <tbody>\n    <tr>\n      <th>0</th>\n      <td>0</td>\n      <td>0</td>\n      <td>0</td>\n      <td>0</td>\n    </tr>\n    <tr>\n      <th>1</th>\n      <td>3</td>\n      <td>-7</td>\n      <td>4</td>\n      <td>4</td>\n    </tr>\n    <tr>\n      <th>2</th>\n      <td>7</td>\n      <td>-7</td>\n      <td>4</td>\n      <td>1</td>\n    </tr>\n  </tbody>\n</table>\n</div>"
                    }, 
                    "execution_count": 54, 
                    "metadata": {}, 
                    "output_type": "execute_result"
                }
            ], 
            "execution_count": 54, 
            "cell_type": "code", 
            "source": "#operations row and column based:\ndf = pd.DataFrame(A, columns=list('QRST'))\n#row\ndf - df.iloc[0]", 
            "metadata": {}
        }, 
        {
            "outputs": [
                {
                    "data": {
                        "text/plain": "   Q  R  S  T\n0 -6  0 -2 -6\n1  4  0  9  5\n2  8  0  9  2", 
                        "text/html": "<div>\n<table border=\"1\" class=\"dataframe\">\n  <thead>\n    <tr style=\"text-align: right;\">\n      <th></th>\n      <th>Q</th>\n      <th>R</th>\n      <th>S</th>\n      <th>T</th>\n    </tr>\n  </thead>\n  <tbody>\n    <tr>\n      <th>0</th>\n      <td>-6</td>\n      <td>0</td>\n      <td>-2</td>\n      <td>-6</td>\n    </tr>\n    <tr>\n      <th>1</th>\n      <td>4</td>\n      <td>0</td>\n      <td>9</td>\n      <td>5</td>\n    </tr>\n    <tr>\n      <th>2</th>\n      <td>8</td>\n      <td>0</td>\n      <td>9</td>\n      <td>2</td>\n    </tr>\n  </tbody>\n</table>\n</div>"
                    }, 
                    "execution_count": 55, 
                    "metadata": {}, 
                    "output_type": "execute_result"
                }
            ], 
            "execution_count": 55, 
            "cell_type": "code", 
            "source": "#column\ndf.subtract(df['R'], axis=0)\n", 
            "metadata": {}
        }, 
        {
            "outputs": [
                {
                    "data": {
                        "text/plain": "array([1, None, 3, 4], dtype=object)"
                    }, 
                    "execution_count": 56, 
                    "metadata": {}, 
                    "output_type": "execute_result"
                }
            ], 
            "execution_count": 56, 
            "cell_type": "code", 
            "source": "#Handling Missing Data\n# two types: None and NaN\n\nvals1 = np.array([1, None, 3, 4])\nvals1\n#NOTE the None value above makes the array an object, which slows it down", 
            "metadata": {}
        }, 
        {
            "outputs": [
                {
                    "data": {
                        "text/plain": "dtype('float64')"
                    }, 
                    "execution_count": 57, 
                    "metadata": {}, 
                    "output_type": "execute_result"
                }
            ], 
            "execution_count": 57, 
            "cell_type": "code", 
            "source": "vals2 = np.array([1, np.nan, 3, 4])\nvals2.dtype\n", 
            "metadata": {}
        }, 
        {
            "outputs": [
                {
                    "data": {
                        "text/plain": "nan"
                    }, 
                    "execution_count": 58, 
                    "metadata": {}, 
                    "output_type": "execute_result"
                }
            ], 
            "execution_count": 58, 
            "cell_type": "code", 
            "source": "#Note : operation with NaN will result in NaN\n1 + np.nan", 
            "metadata": {}
        }, 
        {
            "outputs": [
                {
                    "data": {
                        "text/plain": "(nan, nan, nan)"
                    }, 
                    "execution_count": 59, 
                    "metadata": {}, 
                    "output_type": "execute_result"
                }
            ], 
            "execution_count": 59, 
            "cell_type": "code", 
            "source": "vals2.sum(), vals2.min(), vals2.max()", 
            "metadata": {}
        }, 
        {
            "outputs": [
                {
                    "data": {
                        "text/plain": "(8.0, 1.0, 4.0)"
                    }, 
                    "execution_count": 60, 
                    "metadata": {}, 
                    "output_type": "execute_result"
                }
            ], 
            "execution_count": 60, 
            "cell_type": "code", 
            "source": "#NaN provides some aggregation operations\nnp.nansum(vals2), np.nanmin(vals2), np.nanmax(vals2)", 
            "metadata": {}
        }, 
        {
            "outputs": [
                {
                    "data": {
                        "text/plain": "0     1\n1   NaN\n2     2\n3   NaN\ndtype: float64"
                    }, 
                    "execution_count": 61, 
                    "metadata": {}, 
                    "output_type": "execute_result"
                }
            ], 
            "execution_count": 61, 
            "cell_type": "code", 
            "source": "# converting between them where appropriate:\npd.Series([1, np.nan, 2, None])", 
            "metadata": {}
        }, 
        {
            "outputs": [
                {
                    "data": {
                        "text/plain": "0    0\n1    1\ndtype: int64"
                    }, 
                    "execution_count": 62, 
                    "metadata": {}, 
                    "output_type": "execute_result"
                }
            ], 
            "execution_count": 62, 
            "cell_type": "code", 
            "source": "x = pd.Series(range(2), dtype=int)\nx", 
            "metadata": {}
        }, 
        {
            "outputs": [
                {
                    "data": {
                        "text/plain": "0   NaN\n1     1\ndtype: float64"
                    }, 
                    "execution_count": 63, 
                    "metadata": {}, 
                    "output_type": "execute_result"
                }
            ], 
            "execution_count": 63, 
            "cell_type": "code", 
            "source": "x[0] = None\nx", 
            "metadata": {}
        }, 
        {
            "source": "![Screen%20Shot%202018-01-10%20at%204.40.49%20PM.png](attachment:Screen%20Shot%202018-01-10%20at%204.40.49%20PM.png)", 
            "cell_type": "markdown", 
            "metadata": {}, 
            "attachments": {
                "Screen%20Shot%202018-01-10%20at%204.40.49%20PM.png": {
                    "image/png": "[encoded data removed]"
                }
            }
        }, 
        {
            "outputs": [], 
            "execution_count": 64, 
            "cell_type": "code", 
            "source": "#Operating on Null Values\n", 
            "metadata": {}
        }, 
        {
            "source": "![Screen%20Shot%202018-01-10%20at%204.42.46%20PM.png](attachment:Screen%20Shot%202018-01-10%20at%204.42.46%20PM.png)", 
            "cell_type": "markdown", 
            "metadata": {}, 
            "attachments": {
                "Screen%20Shot%202018-01-10%20at%204.42.46%20PM.png": {
                    "image/png": "[encoded data removed]"
                }
            }
        }, 
        {
            "outputs": [
                {
                    "data": {
                        "text/plain": "0        1\n1      NaN\n2    hello\n3     None\ndtype: object"
                    }, 
                    "execution_count": 65, 
                    "metadata": {}, 
                    "output_type": "execute_result"
                }
            ], 
            "execution_count": 65, 
            "cell_type": "code", 
            "source": "data = pd.Series([1, np.nan, 'hello', None])\ndata", 
            "metadata": {}
        }, 
        {
            "outputs": [
                {
                    "data": {
                        "text/plain": "0    False\n1     True\n2    False\n3     True\ndtype: bool"
                    }, 
                    "execution_count": 66, 
                    "metadata": {}, 
                    "output_type": "execute_result"
                }
            ], 
            "execution_count": 66, 
            "cell_type": "code", 
            "source": "data.isnull()", 
            "metadata": {}
        }, 
        {
            "outputs": [
                {
                    "data": {
                        "text/plain": "0        1\n2    hello\ndtype: object"
                    }, 
                    "execution_count": 67, 
                    "metadata": {}, 
                    "output_type": "execute_result"
                }
            ], 
            "execution_count": 67, 
            "cell_type": "code", 
            "source": "data[data.notnull()]", 
            "metadata": {}
        }, 
        {
            "outputs": [
                {
                    "data": {
                        "text/plain": "0        1\n2    hello\ndtype: object"
                    }, 
                    "execution_count": 68, 
                    "metadata": {}, 
                    "output_type": "execute_result"
                }
            ], 
            "execution_count": 68, 
            "cell_type": "code", 
            "source": "data.dropna()", 
            "metadata": {}
        }, 
        {
            "outputs": [
                {
                    "data": {
                        "text/plain": "    0   1  2\n0   1 NaN  2\n1   2   3  5\n2 NaN   4  6", 
                        "text/html": "<div>\n<table border=\"1\" class=\"dataframe\">\n  <thead>\n    <tr style=\"text-align: right;\">\n      <th></th>\n      <th>0</th>\n      <th>1</th>\n      <th>2</th>\n    </tr>\n  </thead>\n  <tbody>\n    <tr>\n      <th>0</th>\n      <td>1</td>\n      <td>NaN</td>\n      <td>2</td>\n    </tr>\n    <tr>\n      <th>1</th>\n      <td>2</td>\n      <td>3</td>\n      <td>5</td>\n    </tr>\n    <tr>\n      <th>2</th>\n      <td>NaN</td>\n      <td>4</td>\n      <td>6</td>\n    </tr>\n  </tbody>\n</table>\n</div>"
                    }, 
                    "execution_count": 69, 
                    "metadata": {}, 
                    "output_type": "execute_result"
                }
            ], 
            "execution_count": 69, 
            "cell_type": "code", 
            "source": "#For a DataFrame, there are more options. Consider the following DataFrame:\ndf = pd.DataFrame([[1,      np.nan, 2],\n                               [2,      3,      5],\n                   [np.nan, 4,      6]])\ndf", 
            "metadata": {}
        }, 
        {
            "outputs": [
                {
                    "data": {
                        "text/plain": "   0  1  2\n1  2  3  5", 
                        "text/html": "<div>\n<table border=\"1\" class=\"dataframe\">\n  <thead>\n    <tr style=\"text-align: right;\">\n      <th></th>\n      <th>0</th>\n      <th>1</th>\n      <th>2</th>\n    </tr>\n  </thead>\n  <tbody>\n    <tr>\n      <th>1</th>\n      <td>2</td>\n      <td>3</td>\n      <td>5</td>\n    </tr>\n  </tbody>\n</table>\n</div>"
                    }, 
                    "execution_count": 70, 
                    "metadata": {}, 
                    "output_type": "execute_result"
                }
            ], 
            "execution_count": 70, 
            "cell_type": "code", 
            "source": "# By default, dropna() will drop all rows in which any null value is present:\ndf.dropna()", 
            "metadata": {}
        }, 
        {
            "outputs": [
                {
                    "data": {
                        "text/plain": "   2\n0  2\n1  5\n2  6", 
                        "text/html": "<div>\n<table border=\"1\" class=\"dataframe\">\n  <thead>\n    <tr style=\"text-align: right;\">\n      <th></th>\n      <th>2</th>\n    </tr>\n  </thead>\n  <tbody>\n    <tr>\n      <th>0</th>\n      <td>2</td>\n    </tr>\n    <tr>\n      <th>1</th>\n      <td>5</td>\n    </tr>\n    <tr>\n      <th>2</th>\n      <td>6</td>\n    </tr>\n  </tbody>\n</table>\n</div>"
                    }, 
                    "execution_count": 71, 
                    "metadata": {}, 
                    "output_type": "execute_result"
                }
            ], 
            "execution_count": 71, 
            "cell_type": "code", 
            "source": " df.dropna(axis='columns')", 
            "metadata": {}
        }, 
        {
            "outputs": [
                {
                    "data": {
                        "text/plain": "    0   1  2   3\n0   1 NaN  2 NaN\n1   2   3  5 NaN\n2 NaN   4  6 NaN", 
                        "text/html": "<div>\n<table border=\"1\" class=\"dataframe\">\n  <thead>\n    <tr style=\"text-align: right;\">\n      <th></th>\n      <th>0</th>\n      <th>1</th>\n      <th>2</th>\n      <th>3</th>\n    </tr>\n  </thead>\n  <tbody>\n    <tr>\n      <th>0</th>\n      <td>1</td>\n      <td>NaN</td>\n      <td>2</td>\n      <td>NaN</td>\n    </tr>\n    <tr>\n      <th>1</th>\n      <td>2</td>\n      <td>3</td>\n      <td>5</td>\n      <td>NaN</td>\n    </tr>\n    <tr>\n      <th>2</th>\n      <td>NaN</td>\n      <td>4</td>\n      <td>6</td>\n      <td>NaN</td>\n    </tr>\n  </tbody>\n</table>\n</div>"
                    }, 
                    "execution_count": 72, 
                    "metadata": {}, 
                    "output_type": "execute_result"
                }
            ], 
            "execution_count": 72, 
            "cell_type": "code", 
            "source": "df[3] = np.nan\ndf", 
            "metadata": {}
        }, 
        {
            "outputs": [
                {
                    "data": {
                        "text/plain": "    0   1  2\n0   1 NaN  2\n1   2   3  5\n2 NaN   4  6", 
                        "text/html": "<div>\n<table border=\"1\" class=\"dataframe\">\n  <thead>\n    <tr style=\"text-align: right;\">\n      <th></th>\n      <th>0</th>\n      <th>1</th>\n      <th>2</th>\n    </tr>\n  </thead>\n  <tbody>\n    <tr>\n      <th>0</th>\n      <td>1</td>\n      <td>NaN</td>\n      <td>2</td>\n    </tr>\n    <tr>\n      <th>1</th>\n      <td>2</td>\n      <td>3</td>\n      <td>5</td>\n    </tr>\n    <tr>\n      <th>2</th>\n      <td>NaN</td>\n      <td>4</td>\n      <td>6</td>\n    </tr>\n  </tbody>\n</table>\n</div>"
                    }, 
                    "execution_count": 73, 
                    "metadata": {}, 
                    "output_type": "execute_result"
                }
            ], 
            "execution_count": 73, 
            "cell_type": "code", 
            "source": "df.dropna(axis='columns', how='all')", 
            "metadata": {}
        }, 
        {
            "outputs": [
                {
                    "data": {
                        "text/plain": "   0  1  2   3\n1  2  3  5 NaN", 
                        "text/html": "<div>\n<table border=\"1\" class=\"dataframe\">\n  <thead>\n    <tr style=\"text-align: right;\">\n      <th></th>\n      <th>0</th>\n      <th>1</th>\n      <th>2</th>\n      <th>3</th>\n    </tr>\n  </thead>\n  <tbody>\n    <tr>\n      <th>1</th>\n      <td>2</td>\n      <td>3</td>\n      <td>5</td>\n      <td>NaN</td>\n    </tr>\n  </tbody>\n</table>\n</div>"
                    }, 
                    "execution_count": 74, 
                    "metadata": {}, 
                    "output_type": "execute_result"
                }
            ], 
            "execution_count": 74, 
            "cell_type": "code", 
            "source": "df.dropna(axis='rows', thresh=3)", 
            "metadata": {}
        }, 
        {
            "outputs": [
                {
                    "data": {
                        "text/plain": "a     1\nb   NaN\nc     2\nd   NaN\ne     3\ndtype: float64"
                    }, 
                    "execution_count": 75, 
                    "metadata": {}, 
                    "output_type": "execute_result"
                }
            ], 
            "execution_count": 75, 
            "cell_type": "code", 
            "source": "#Filling Null Values\ndata = pd.Series([1, np.nan, 2, None, 3], index=list('abcde'))\ndata", 
            "metadata": {}
        }, 
        {
            "outputs": [
                {
                    "data": {
                        "text/plain": "a    1\nb    0\nc    2\nd    0\ne    3\ndtype: float64"
                    }, 
                    "execution_count": 76, 
                    "metadata": {}, 
                    "output_type": "execute_result"
                }
            ], 
            "execution_count": 76, 
            "cell_type": "code", 
            "source": "data.fillna(0)", 
            "metadata": {}
        }, 
        {
            "outputs": [
                {
                    "data": {
                        "text/plain": "a    1\nb    1\nc    2\nd    2\ne    3\ndtype: float64"
                    }, 
                    "execution_count": 77, 
                    "metadata": {}, 
                    "output_type": "execute_result"
                }
            ], 
            "execution_count": 77, 
            "cell_type": "code", 
            "source": "#We can specify a forward-fill to propagate the previous value forward:\ndata.fillna(method='ffill')", 
            "metadata": {}
        }, 
        {
            "outputs": [
                {
                    "data": {
                        "text/plain": "a    1\nb    2\nc    2\nd    3\ne    3\ndtype: float64"
                    }, 
                    "execution_count": 78, 
                    "metadata": {}, 
                    "output_type": "execute_result"
                }
            ], 
            "execution_count": 78, 
            "cell_type": "code", 
            "source": "#Or we can specify a back-fill to propagate the next values backward:\ndata.fillna(method='bfill')", 
            "metadata": {}
        }, 
        {
            "outputs": [
                {
                    "data": {
                        "text/plain": "    0   1  2   3\n0   1 NaN  2 NaN\n1   2   3  5 NaN\n2 NaN   4  6 NaN", 
                        "text/html": "<div>\n<table border=\"1\" class=\"dataframe\">\n  <thead>\n    <tr style=\"text-align: right;\">\n      <th></th>\n      <th>0</th>\n      <th>1</th>\n      <th>2</th>\n      <th>3</th>\n    </tr>\n  </thead>\n  <tbody>\n    <tr>\n      <th>0</th>\n      <td>1</td>\n      <td>NaN</td>\n      <td>2</td>\n      <td>NaN</td>\n    </tr>\n    <tr>\n      <th>1</th>\n      <td>2</td>\n      <td>3</td>\n      <td>5</td>\n      <td>NaN</td>\n    </tr>\n    <tr>\n      <th>2</th>\n      <td>NaN</td>\n      <td>4</td>\n      <td>6</td>\n      <td>NaN</td>\n    </tr>\n  </tbody>\n</table>\n</div>"
                    }, 
                    "execution_count": 79, 
                    "metadata": {}, 
                    "output_type": "execute_result"
                }
            ], 
            "execution_count": 79, 
            "cell_type": "code", 
            "source": "#specify an axis along which the fills take place:\ndf", 
            "metadata": {}
        }, 
        {
            "outputs": [
                {
                    "data": {
                        "text/plain": "    0  1  2  3\n0   1  1  2  2\n1   2  3  5  5\n2 NaN  4  6  6", 
                        "text/html": "<div>\n<table border=\"1\" class=\"dataframe\">\n  <thead>\n    <tr style=\"text-align: right;\">\n      <th></th>\n      <th>0</th>\n      <th>1</th>\n      <th>2</th>\n      <th>3</th>\n    </tr>\n  </thead>\n  <tbody>\n    <tr>\n      <th>0</th>\n      <td>1</td>\n      <td>1</td>\n      <td>2</td>\n      <td>2</td>\n    </tr>\n    <tr>\n      <th>1</th>\n      <td>2</td>\n      <td>3</td>\n      <td>5</td>\n      <td>5</td>\n    </tr>\n    <tr>\n      <th>2</th>\n      <td>NaN</td>\n      <td>4</td>\n      <td>6</td>\n      <td>6</td>\n    </tr>\n  </tbody>\n</table>\n</div>"
                    }, 
                    "execution_count": 80, 
                    "metadata": {}, 
                    "output_type": "execute_result"
                }
            ], 
            "execution_count": 80, 
            "cell_type": "code", 
            "source": "df.fillna(method='ffill', axis=1)\n", 
            "metadata": {}
        }, 
        {
            "source": "## Hierarchical Indexing", 
            "cell_type": "markdown", 
            "metadata": {}
        }, 
        {
            "outputs": [], 
            "execution_count": 81, 
            "cell_type": "code", 
            "source": "#TO DO", 
            "metadata": {}
        }, 
        {
            "source": "## Combining Datasets: Concat and Append", 
            "cell_type": "markdown", 
            "metadata": {}
        }, 
        {
            "outputs": [], 
            "execution_count": 82, 
            "cell_type": "code", 
            "source": "def make_df(cols, ind): \n    \"\"\"Quickly make a DataFrame\"\"\"\n    data = {c: [str(c) + str(i) for i in ind] \n            for c in cols}\n    return pd.DataFrame(data, ind)", 
            "metadata": {}
        }, 
        {
            "outputs": [
                {
                    "data": {
                        "text/plain": "    A   B   C\n0  A0  B0  C0\n1  A1  B1  C1\n2  A2  B2  C2", 
                        "text/html": "<div>\n<table border=\"1\" class=\"dataframe\">\n  <thead>\n    <tr style=\"text-align: right;\">\n      <th></th>\n      <th>A</th>\n      <th>B</th>\n      <th>C</th>\n    </tr>\n  </thead>\n  <tbody>\n    <tr>\n      <th>0</th>\n      <td>A0</td>\n      <td>B0</td>\n      <td>C0</td>\n    </tr>\n    <tr>\n      <th>1</th>\n      <td>A1</td>\n      <td>B1</td>\n      <td>C1</td>\n    </tr>\n    <tr>\n      <th>2</th>\n      <td>A2</td>\n      <td>B2</td>\n      <td>C2</td>\n    </tr>\n  </tbody>\n</table>\n</div>"
                    }, 
                    "execution_count": 83, 
                    "metadata": {}, 
                    "output_type": "execute_result"
                }
            ], 
            "execution_count": 83, 
            "cell_type": "code", 
            "source": "make_df('ABC', range(3))", 
            "metadata": {}
        }, 
        {
            "outputs": [
                {
                    "data": {
                        "text/plain": "array([1, 2, 3, 4, 5, 6, 7, 8, 9])"
                    }, 
                    "execution_count": 84, 
                    "metadata": {}, 
                    "output_type": "execute_result"
                }
            ], 
            "execution_count": 84, 
            "cell_type": "code", 
            "source": "x=[1,2,3] \ny=[4,5,6] \nz=[7,8,9]\nnp.concatenate([x, y, z])", 
            "metadata": {}
        }, 
        {
            "outputs": [
                {
                    "data": {
                        "text/plain": "array([[1, 2, 1, 2],\n       [3, 4, 3, 4]])"
                    }, 
                    "execution_count": 85, 
                    "metadata": {}, 
                    "output_type": "execute_result"
                }
            ], 
            "execution_count": 85, 
            "cell_type": "code", 
            "source": "x = [[1, 2],\n     [3, 4]]\nnp.concatenate([x, x], axis=1)", 
            "metadata": {}
        }, 
        {
            "outputs": [
                {
                    "data": {
                        "text/plain": "1    A\n2    B\n3    C\n4    D\n5    E\n6    F\ndtype: object"
                    }, 
                    "execution_count": 86, 
                    "metadata": {}, 
                    "output_type": "execute_result"
                }
            ], 
            "execution_count": 86, 
            "cell_type": "code", 
            "source": "# Simple Concatenation with pd.concat\n \n#pd.concat(objs, axis=0, join='outer', join_axes=None, ignore_index=False,\n#          keys=None, levels=None, names=None, verify_integrity=False,\n#          copy=True)\nser1 = pd.Series(['A', 'B', 'C'], index=[1, 2, 3])\nser2 = pd.Series(['D', 'E', 'F'], index=[4, 5, 6])\npd.concat([ser1, ser2])", 
            "metadata": {}
        }, 
        {
            "outputs": [], 
            "execution_count": 87, 
            "cell_type": "code", 
            "source": "# Also works for dataframes\ndf1 = make_df('AB', [1, 2])\ndf2 = make_df('AB', [3, 4])", 
            "metadata": {}
        }, 
        {
            "outputs": [
                {
                    "name": "stdout", 
                    "output_type": "stream", 
                    "text": "    A   B\n1  A1  B1\n2  A2  B2\n    A   B\n3  A3  B3\n4  A4  B4\n    A   B\n1  A1  B1\n2  A2  B2\n3  A3  B3\n4  A4  B4\n"
                }
            ], 
            "execution_count": 88, 
            "cell_type": "code", 
            "source": "print(df1); print(df2); print(pd.concat([df1, df2]))\n", 
            "metadata": {}
        }, 
        {
            "outputs": [], 
            "execution_count": 89, 
            "cell_type": "code", 
            "source": "#One important difference between np.concatenate and pd.concat is that Pandas concatenation preserves indices, even if the result will have duplicate indices! Consider this simple example:\n\nx = make_df('AB', [0, 1])\ny = make_df('AB', [2, 3])", 
            "metadata": {}
        }, 
        {
            "outputs": [
                {
                    "name": "stdout", 
                    "output_type": "stream", 
                    "text": "    A   B\n0  A0  B0\n1  A1  B1\n    A   B\n0  A2  B2\n1  A3  B3\n    A   B\n0  A0  B0\n1  A1  B1\n0  A2  B2\n1  A3  B3\n"
                }
            ], 
            "execution_count": 90, 
            "cell_type": "code", 
            "source": "y.index = x.index # make duplicate indices! \nprint(x); print(y); print(pd.concat([x, y]))", 
            "metadata": {}
        }, 
        {
            "outputs": [
                {
                    "name": "stdout", 
                    "output_type": "stream", 
                    "text": "('ValueError:', ValueError('Indexes have overlapping values: [0, 1]',))\n"
                }
            ], 
            "execution_count": 91, 
            "cell_type": "code", 
            "source": "#Catching the repeats as an error. If you\u2019d like to simply verify that the indices in the result of pd.concat() do not overlap, you can specify the verify_integrity flag.\ntry:\n    pd.concat([x, y], verify_integrity=True)\nexcept ValueError as e: \n    print(\"ValueError:\", e)", 
            "metadata": {}
        }, 
        {
            "outputs": [
                {
                    "name": "stdout", 
                    "output_type": "stream", 
                    "text": "    A   B\n0  A0  B0\n1  A1  B1\n    A   B\n0  A2  B2\n1  A3  B3\n    A   B\n0  A0  B0\n1  A1  B1\n2  A2  B2\n3  A3  B3\n"
                }
            ], 
            "execution_count": 92, 
            "cell_type": "code", 
            "source": "#Ignoring the index. Sometimes the index itself does not matter, and you would prefer it to simply be ignored. You can specify this option using the ignore_index flag.\nprint(x); print(y); print(pd.concat([x, y], ignore_index=True))", 
            "metadata": {}
        }, 
        {
            "outputs": [
                {
                    "name": "stdout", 
                    "output_type": "stream", 
                    "text": "    A   B\n0  A0  B0\n1  A1  B1\n    A   B\n0  A2  B2\n1  A3  B3\n      A   B\nx 0  A0  B0\n  1  A1  B1\ny 0  A2  B2\n  1  A3  B3\n"
                }
            ], 
            "execution_count": 93, 
            "cell_type": "code", 
            "source": "#Adding MultiIndex keys.\nprint(x); print(y); print(pd.concat([x, y], keys=['x', 'y']))\n", 
            "metadata": {}
        }, 
        {
            "outputs": [
                {
                    "name": "stdout", 
                    "output_type": "stream", 
                    "text": "    A   B   C\n1  A1  B1  C1\n2  A2  B2  C2\n    B   C   D\n3  B3  C3  D3\n4  B4  C4  D4\n     A   B   C    D\n1   A1  B1  C1  NaN\n2   A2  B2  C2  NaN\n3  NaN  B3  C3   D3\n4  NaN  B4  C4   D4\n"
                }
            ], 
            "execution_count": 94, 
            "cell_type": "code", 
            "source": "#Concatenation with joins -  DataFrames without shared column names.\ndf5 = make_df('ABC', [1, 2])\ndf6 = make_df('BCD', [3, 4])\n\n#Not all same column names\n\nprint(df5); print(df6); \nprint(pd.concat([df5, df6]))", 
            "metadata": {}
        }, 
        {
            "outputs": [
                {
                    "data": {
                        "text/plain": "    B   C\n1  B1  C1\n2  B2  C2\n3  B3  C3\n4  B4  C4", 
                        "text/html": "<div>\n<table border=\"1\" class=\"dataframe\">\n  <thead>\n    <tr style=\"text-align: right;\">\n      <th></th>\n      <th>B</th>\n      <th>C</th>\n    </tr>\n  </thead>\n  <tbody>\n    <tr>\n      <th>1</th>\n      <td>B1</td>\n      <td>C1</td>\n    </tr>\n    <tr>\n      <th>2</th>\n      <td>B2</td>\n      <td>C2</td>\n    </tr>\n    <tr>\n      <th>3</th>\n      <td>B3</td>\n      <td>C3</td>\n    </tr>\n    <tr>\n      <th>4</th>\n      <td>B4</td>\n      <td>C4</td>\n    </tr>\n  </tbody>\n</table>\n</div>"
                    }, 
                    "execution_count": 95, 
                    "metadata": {}, 
                    "output_type": "execute_result"
                }
            ], 
            "execution_count": 95, 
            "cell_type": "code", 
            "source": "pd.concat([df5, df6], join='inner')", 
            "metadata": {}
        }, 
        {
            "outputs": [
                {
                    "data": {
                        "text/plain": "     A   B   C    D\n1   A1  B1  C1  NaN\n2   A2  B2  C2  NaN\n3  NaN  B3  C3   D3\n4  NaN  B4  C4   D4", 
                        "text/html": "<div>\n<table border=\"1\" class=\"dataframe\">\n  <thead>\n    <tr style=\"text-align: right;\">\n      <th></th>\n      <th>A</th>\n      <th>B</th>\n      <th>C</th>\n      <th>D</th>\n    </tr>\n  </thead>\n  <tbody>\n    <tr>\n      <th>1</th>\n      <td>A1</td>\n      <td>B1</td>\n      <td>C1</td>\n      <td>NaN</td>\n    </tr>\n    <tr>\n      <th>2</th>\n      <td>A2</td>\n      <td>B2</td>\n      <td>C2</td>\n      <td>NaN</td>\n    </tr>\n    <tr>\n      <th>3</th>\n      <td>NaN</td>\n      <td>B3</td>\n      <td>C3</td>\n      <td>D3</td>\n    </tr>\n    <tr>\n      <th>4</th>\n      <td>NaN</td>\n      <td>B4</td>\n      <td>C4</td>\n      <td>D4</td>\n    </tr>\n  </tbody>\n</table>\n</div>"
                    }, 
                    "execution_count": 96, 
                    "metadata": {}, 
                    "output_type": "execute_result"
                }
            ], 
            "execution_count": 96, 
            "cell_type": "code", 
            "source": "pd.concat([df5, df6], join='outer')", 
            "metadata": {}
        }, 
        {
            "outputs": [
                {
                    "name": "stdout", 
                    "output_type": "stream", 
                    "text": "    A   B   C\n1  A1  B1  C1\n2  A2  B2  C2\n    B   C   D\n3  B3  C3  D3\n4  B4  C4  D4\n     A   B   C\n1   A1  B1  C1\n2   A2  B2  C2\n3  NaN  B3  C3\n4  NaN  B4  C4\n"
                }
            ], 
            "execution_count": 97, 
            "cell_type": "code", 
            "source": "#Another option is to directly specify the index of the remaining colums using the join_axes argument, which takes a list of index objects.\nprint(df5); \nprint(df6);\nprint(pd.concat([df5, df6], join_axes=[df5.columns]))", 
            "metadata": {}
        }, 
        {
            "outputs": [
                {
                    "name": "stdout", 
                    "output_type": "stream", 
                    "text": "    A   B\n1  A1  B1\n2  A2  B2\n    A   B\n3  A3  B3\n4  A4  B4\n    A   B\n1  A1  B1\n2  A2  B2\n3  A3  B3\n4  A4  B4\n"
                }
            ], 
            "execution_count": 98, 
            "cell_type": "code", 
            "source": "#The append() method - rather than calling pd.concat([df1, df2]), you can simply call df1.append(df2):\n# NOTE : Not very efficient!\nprint(df1); print(df2); \nprint(df1.append(df2))", 
            "metadata": {}
        }, 
        {
            "source": "### Combining Datasets: Merge and Join", 
            "cell_type": "markdown", 
            "metadata": {}
        }, 
        {
            "outputs": [
                {
                    "name": "stdout", 
                    "output_type": "stream", 
                    "text": "  employee        group\n0      Bob   Accounting\n1     Jake  Engineering\n2     Lisa  Engineering\n3      Sue           HR\n  employee  hire_date\n0     Lisa       2004\n1      Bob       2008\n2     Jake       2012\n3      Sue       2014\n"
                }
            ], 
            "execution_count": 99, 
            "cell_type": "code", 
            "source": "df1 = pd.DataFrame({'employee': ['Bob', 'Jake', 'Lisa', 'Sue'],\n                        'group': ['Accounting', 'Engineering', 'Engineering', 'HR']})\ndf2 = pd.DataFrame({'employee': ['Lisa', 'Bob', 'Jake', 'Sue'],\n'hire_date': [2004, 2008, 2012, 2014]}) \nprint(df1); print(df2)", 
            "metadata": {}
        }, 
        {
            "outputs": [
                {
                    "data": {
                        "text/plain": "  employee        group  hire_date\n0      Bob   Accounting       2008\n1     Jake  Engineering       2012\n2     Lisa  Engineering       2004\n3      Sue           HR       2014", 
                        "text/html": "<div>\n<table border=\"1\" class=\"dataframe\">\n  <thead>\n    <tr style=\"text-align: right;\">\n      <th></th>\n      <th>employee</th>\n      <th>group</th>\n      <th>hire_date</th>\n    </tr>\n  </thead>\n  <tbody>\n    <tr>\n      <th>0</th>\n      <td>Bob</td>\n      <td>Accounting</td>\n      <td>2008</td>\n    </tr>\n    <tr>\n      <th>1</th>\n      <td>Jake</td>\n      <td>Engineering</td>\n      <td>2012</td>\n    </tr>\n    <tr>\n      <th>2</th>\n      <td>Lisa</td>\n      <td>Engineering</td>\n      <td>2004</td>\n    </tr>\n    <tr>\n      <th>3</th>\n      <td>Sue</td>\n      <td>HR</td>\n      <td>2014</td>\n    </tr>\n  </tbody>\n</table>\n</div>"
                    }, 
                    "execution_count": 100, 
                    "metadata": {}, 
                    "output_type": "execute_result"
                }
            ], 
            "execution_count": 100, 
            "cell_type": "code", 
            "source": "#Categories of Joins\n#One-to-one joins\ndf3 = pd.merge(df1, df2)\ndf3", 
            "metadata": {}
        }, 
        {
            "outputs": [
                {
                    "name": "stdout", 
                    "output_type": "stream", 
                    "text": "  employee        group  hire_date\n0      Bob   Accounting       2008\n1     Jake  Engineering       2012\n2     Lisa  Engineering       2004\n3      Sue           HR       2014\n         group supervisor\n0   Accounting      Carly\n1  Engineering      Guido\n2           HR      Steve\n  employee        group  hire_date supervisor\n0      Bob   Accounting       2008      Carly\n1     Jake  Engineering       2012      Guido\n2     Lisa  Engineering       2004      Guido\n3      Sue           HR       2014      Steve\n"
                }
            ], 
            "execution_count": 101, 
            "cell_type": "code", 
            "source": "#Many-to-one joins\ndf4 = pd.DataFrame({'group': ['Accounting', 'Engineering', 'HR'],\n                               'supervisor': ['Carly', 'Guido', 'Steve']})\nprint(df3); print(df4); print(pd.merge(df3, df4))", 
            "metadata": {}
        }, 
        {
            "outputs": [
                {
                    "name": "stdout", 
                    "output_type": "stream", 
                    "text": "  employee        group\n0      Bob   Accounting\n1     Jake  Engineering\n2     Lisa  Engineering\n3      Sue           HR\n         group        skills\n0   Accounting          math\n1   Accounting  spreadsheets\n2  Engineering        coding\n3  Engineering         linux\n4           HR  spreadsheets\n5           HR  organization\n  employee        group        skills\n0      Bob   Accounting          math\n1      Bob   Accounting  spreadsheets\n2     Jake  Engineering        coding\n3     Jake  Engineering         linux\n4     Lisa  Engineering        coding\n5     Lisa  Engineering         linux\n6      Sue           HR  spreadsheets\n7      Sue           HR  organization\n"
                }
            ], 
            "execution_count": 102, 
            "cell_type": "code", 
            "source": "#Many-to-many joins\ndf5 = pd.DataFrame({'group': ['Accounting', 'Accounting',\n                                         'Engineering', 'Engineering', 'HR', 'HR'],\n                    'skills': ['math', 'spreadsheets', 'coding', 'linux',\n                                      'spreadsheets', 'organization']})\nprint(df1); print(df5); print(pd.merge(df1, df5))", 
            "metadata": {}
        }, 
        {
            "outputs": [
                {
                    "name": "stdout", 
                    "output_type": "stream", 
                    "text": "  employee        group\n0      Bob   Accounting\n1     Jake  Engineering\n2     Lisa  Engineering\n3      Sue           HR\n  employee  hire_date\n0     Lisa       2004\n1      Bob       2008\n2     Jake       2012\n3      Sue       2014\n  employee        group  hire_date\n0      Bob   Accounting       2008\n1     Jake  Engineering       2012\n2     Lisa  Engineering       2004\n3      Sue           HR       2014\n"
                }
            ], 
            "execution_count": 103, 
            "cell_type": "code", 
            "source": "#Specication of the Merge Key\nprint(df1); print(df2); print(pd.merge(df1, df2, on='employee'))", 
            "metadata": {}
        }, 
        {
            "outputs": [
                {
                    "data": {
                        "text/plain": "  employee        group  hire_date\n0      Bob   Accounting       2008\n1     Jake  Engineering       2012\n2     Lisa  Engineering       2004\n3      Sue           HR       2014", 
                        "text/html": "<div>\n<table border=\"1\" class=\"dataframe\">\n  <thead>\n    <tr style=\"text-align: right;\">\n      <th></th>\n      <th>employee</th>\n      <th>group</th>\n      <th>hire_date</th>\n    </tr>\n  </thead>\n  <tbody>\n    <tr>\n      <th>0</th>\n      <td>Bob</td>\n      <td>Accounting</td>\n      <td>2008</td>\n    </tr>\n    <tr>\n      <th>1</th>\n      <td>Jake</td>\n      <td>Engineering</td>\n      <td>2012</td>\n    </tr>\n    <tr>\n      <th>2</th>\n      <td>Lisa</td>\n      <td>Engineering</td>\n      <td>2004</td>\n    </tr>\n    <tr>\n      <th>3</th>\n      <td>Sue</td>\n      <td>HR</td>\n      <td>2014</td>\n    </tr>\n  </tbody>\n</table>\n</div>"
                    }, 
                    "execution_count": 104, 
                    "metadata": {}, 
                    "output_type": "execute_result"
                }
            ], 
            "execution_count": 104, 
            "cell_type": "code", 
            "source": "pd.merge(df1, df2, on='employee')", 
            "metadata": {}
        }, 
        {
            "outputs": [
                {
                    "name": "stdout", 
                    "output_type": "stream", 
                    "text": "  employee        group\n0      Bob   Accounting\n1     Jake  Engineering\n2     Lisa  Engineering\n3      Sue           HR\n   name  salary\n0   Bob   70000\n1  Jake   80000\n2  Lisa  120000\n3   Sue   90000\n  employee        group  name  salary\n0      Bob   Accounting   Bob   70000\n1     Jake  Engineering  Jake   80000\n2     Lisa  Engineering  Lisa  120000\n3      Sue           HR   Sue   90000\n"
                }
            ], 
            "execution_count": 105, 
            "cell_type": "code", 
            "source": "#The left_on and right_on keywords\n#At times you may wish to merge two datasets with different column names\ndf3 = pd.DataFrame({'name': ['Bob', 'Jake', 'Lisa', 'Sue'],\n    'salary': [70000, 80000, 120000, 90000]}) \nprint(df1); print(df3);\nprint(pd.merge(df1, df3, left_on=\"employee\", right_on=\"name\"))", 
            "metadata": {}
        }, 
        {
            "outputs": [
                {
                    "data": {
                        "text/plain": "  employee        group  salary\n0      Bob   Accounting   70000\n1     Jake  Engineering   80000\n2     Lisa  Engineering  120000\n3      Sue           HR   90000", 
                        "text/html": "<div>\n<table border=\"1\" class=\"dataframe\">\n  <thead>\n    <tr style=\"text-align: right;\">\n      <th></th>\n      <th>employee</th>\n      <th>group</th>\n      <th>salary</th>\n    </tr>\n  </thead>\n  <tbody>\n    <tr>\n      <th>0</th>\n      <td>Bob</td>\n      <td>Accounting</td>\n      <td>70000</td>\n    </tr>\n    <tr>\n      <th>1</th>\n      <td>Jake</td>\n      <td>Engineering</td>\n      <td>80000</td>\n    </tr>\n    <tr>\n      <th>2</th>\n      <td>Lisa</td>\n      <td>Engineering</td>\n      <td>120000</td>\n    </tr>\n    <tr>\n      <th>3</th>\n      <td>Sue</td>\n      <td>HR</td>\n      <td>90000</td>\n    </tr>\n  </tbody>\n</table>\n</div>"
                    }, 
                    "execution_count": 106, 
                    "metadata": {}, 
                    "output_type": "execute_result"
                }
            ], 
            "execution_count": 106, 
            "cell_type": "code", 
            "source": "#The result has a redundant column that we can drop if desired\u2014for example, by using the drop() method of DataFrames:\npd.merge(df1, df3, left_on=\"employee\", right_on=\"name\").drop('name', axis=1)", 
            "metadata": {}
        }, 
        {
            "outputs": [
                {
                    "name": "stdout", 
                    "output_type": "stream", 
                    "text": "                group\nemployee             \nBob        Accounting\nJake      Engineering\nLisa      Engineering\nSue                HR\n          hire_date\nemployee           \nLisa           2004\nBob            2008\nJake           2012\nSue            2014\n"
                }
            ], 
            "execution_count": 107, 
            "cell_type": "code", 
            "source": "#The left_index and right_index keywords\n#Sometimes, rather than merging on a column, you would instead like to merge on an index.\ndf1a = df1.set_index('employee') \ndf2a = df2.set_index('employee') \nprint(df1a); print(df2a)", 
            "metadata": {}
        }, 
        {
            "outputs": [
                {
                    "name": "stdout", 
                    "output_type": "stream", 
                    "text": "                group\nemployee             \nBob        Accounting\nJake      Engineering\nLisa      Engineering\nSue                HR\n          hire_date\nemployee           \nLisa           2004\nBob            2008\nJake           2012\nSue            2014\n                group  hire_date\nemployee                        \nLisa      Engineering       2004\nBob        Accounting       2008\nJake      Engineering       2012\nSue                HR       2014\n"
                }
            ], 
            "execution_count": 108, 
            "cell_type": "code", 
            "source": "print(df1a); print(df2a);\nprint(pd.merge(df1a, df2a, left_index=True, right_index=True))", 
            "metadata": {}
        }, 
        {
            "outputs": [
                {
                    "name": "stdout", 
                    "output_type": "stream", 
                    "text": "                group\nemployee             \nBob        Accounting\nJake      Engineering\nLisa      Engineering\nSue                HR\n          hire_date\nemployee           \nLisa           2004\nBob            2008\nJake           2012\nSue            2014\n                group  hire_date\nemployee                        \nBob        Accounting       2008\nJake      Engineering       2012\nLisa      Engineering       2004\nSue                HR       2014\n"
                }
            ], 
            "execution_count": 109, 
            "cell_type": "code", 
            "source": "print(df1a); print(df2a); print(df1a.join(df2a))", 
            "metadata": {}
        }, 
        {
            "outputs": [
                {
                    "name": "stdout", 
                    "output_type": "stream", 
                    "text": "                group\nemployee             \nBob        Accounting\nJake      Engineering\nLisa      Engineering\nSue                HR\n   name  salary\n0   Bob   70000\n1  Jake   80000\n2  Lisa  120000\n3   Sue   90000\n         group  name  salary\n0   Accounting   Bob   70000\n1  Engineering  Jake   80000\n2  Engineering  Lisa  120000\n3           HR   Sue   90000\n"
                }
            ], 
            "execution_count": 110, 
            "cell_type": "code", 
            "source": "#If you\u2019d like to mix indices and columns, you can combine left_index with right_on or left_on with right_index to get the desired behavior:\nprint(df1a); print(df3);\nprint(pd.merge(df1a, df3, left_index=True, right_on='name'))", 
            "metadata": {}
        }, 
        {
            "outputs": [
                {
                    "data": {
                        "text/plain": "         group  name  salary\n0   Accounting   Bob   70000\n1  Engineering  Jake   80000\n2  Engineering  Lisa  120000\n3           HR   Sue   90000", 
                        "text/html": "<div>\n<table border=\"1\" class=\"dataframe\">\n  <thead>\n    <tr style=\"text-align: right;\">\n      <th></th>\n      <th>group</th>\n      <th>name</th>\n      <th>salary</th>\n    </tr>\n  </thead>\n  <tbody>\n    <tr>\n      <th>0</th>\n      <td>Accounting</td>\n      <td>Bob</td>\n      <td>70000</td>\n    </tr>\n    <tr>\n      <th>1</th>\n      <td>Engineering</td>\n      <td>Jake</td>\n      <td>80000</td>\n    </tr>\n    <tr>\n      <th>2</th>\n      <td>Engineering</td>\n      <td>Lisa</td>\n      <td>120000</td>\n    </tr>\n    <tr>\n      <th>3</th>\n      <td>HR</td>\n      <td>Sue</td>\n      <td>90000</td>\n    </tr>\n  </tbody>\n</table>\n</div>"
                    }, 
                    "execution_count": 111, 
                    "metadata": {}, 
                    "output_type": "execute_result"
                }
            ], 
            "execution_count": 111, 
            "cell_type": "code", 
            "source": "pd.merge(df1a, df3, left_index=True, right_on='name')", 
            "metadata": {}
        }, 
        {
            "source": "### Aggregation and Grouping", 
            "cell_type": "markdown", 
            "metadata": {}
        }, 
        {
            "outputs": [
                {
                    "data": {
                        "text/plain": "0    0.374540\n1    0.950714\n2    0.731994\n3    0.598658\n4    0.156019\ndtype: float64"
                    }, 
                    "execution_count": 112, 
                    "metadata": {}, 
                    "output_type": "execute_result"
                }
            ], 
            "execution_count": 112, 
            "cell_type": "code", 
            "source": "#Simple Aggregation in Pandas\nrng = np.random.RandomState(42)\nser = pd.Series(rng.rand(5))\nser", 
            "metadata": {}
        }, 
        {
            "outputs": [
                {
                    "data": {
                        "text/plain": "2.8119254917081569"
                    }, 
                    "execution_count": 113, 
                    "metadata": {}, 
                    "output_type": "execute_result"
                }
            ], 
            "execution_count": 113, 
            "cell_type": "code", 
            "source": "ser.sum()", 
            "metadata": {}
        }, 
        {
            "outputs": [
                {
                    "data": {
                        "text/plain": "0.56238509834163142"
                    }, 
                    "execution_count": 114, 
                    "metadata": {}, 
                    "output_type": "execute_result"
                }
            ], 
            "execution_count": 114, 
            "cell_type": "code", 
            "source": "ser.mean()", 
            "metadata": {}
        }, 
        {
            "outputs": [
                {
                    "data": {
                        "text/plain": "          A         B\n0  0.155995  0.020584\n1  0.058084  0.969910\n2  0.866176  0.832443\n3  0.601115  0.212339\n4  0.708073  0.181825", 
                        "text/html": "<div>\n<table border=\"1\" class=\"dataframe\">\n  <thead>\n    <tr style=\"text-align: right;\">\n      <th></th>\n      <th>A</th>\n      <th>B</th>\n    </tr>\n  </thead>\n  <tbody>\n    <tr>\n      <th>0</th>\n      <td>0.155995</td>\n      <td>0.020584</td>\n    </tr>\n    <tr>\n      <th>1</th>\n      <td>0.058084</td>\n      <td>0.969910</td>\n    </tr>\n    <tr>\n      <th>2</th>\n      <td>0.866176</td>\n      <td>0.832443</td>\n    </tr>\n    <tr>\n      <th>3</th>\n      <td>0.601115</td>\n      <td>0.212339</td>\n    </tr>\n    <tr>\n      <th>4</th>\n      <td>0.708073</td>\n      <td>0.181825</td>\n    </tr>\n  </tbody>\n</table>\n</div>"
                    }, 
                    "execution_count": 115, 
                    "metadata": {}, 
                    "output_type": "execute_result"
                }
            ], 
            "execution_count": 115, 
            "cell_type": "code", 
            "source": "#For a DataFrame, by default the aggregates return results within each column\ndf = pd.DataFrame({'A': rng.rand(5),\n                          'B': rng.rand(5)})\ndf", 
            "metadata": {}
        }, 
        {
            "outputs": [
                {
                    "data": {
                        "text/plain": "A    0.477888\nB    0.443420\ndtype: float64"
                    }, 
                    "execution_count": 116, 
                    "metadata": {}, 
                    "output_type": "execute_result"
                }
            ], 
            "execution_count": 116, 
            "cell_type": "code", 
            "source": "df.mean()", 
            "metadata": {}
        }, 
        {
            "outputs": [
                {
                    "data": {
                        "text/plain": "0    0.088290\n1    0.513997\n2    0.849309\n3    0.406727\n4    0.444949\ndtype: float64"
                    }, 
                    "execution_count": 117, 
                    "metadata": {}, 
                    "output_type": "execute_result"
                }
            ], 
            "execution_count": 117, 
            "cell_type": "code", 
            "source": "df.mean(axis='columns')", 
            "metadata": {}
        }, 
        {
            "source": "![Screen%20Shot%202018-01-12%20at%204.48.51%20PM.png](attachment:Screen%20Shot%202018-01-12%20at%204.48.51%20PM.png)", 
            "cell_type": "markdown", 
            "metadata": {}, 
            "attachments": {
                "Screen%20Shot%202018-01-12%20at%204.48.51%20PM.png": {
                    "image/png": "[encoded data removed]"
                }
            }
        }, 
        {
            "source": "### GroupBy: Split, Apply, Combine", 
            "cell_type": "markdown", 
            "metadata": {}
        }, 
        {
            "outputs": [
                {
                    "data": {
                        "text/plain": "  key  data\n0   A     0\n1   B     1\n2   C     2\n3   A     3\n4   B     4\n5   C     5", 
                        "text/html": "<div>\n<table border=\"1\" class=\"dataframe\">\n  <thead>\n    <tr style=\"text-align: right;\">\n      <th></th>\n      <th>key</th>\n      <th>data</th>\n    </tr>\n  </thead>\n  <tbody>\n    <tr>\n      <th>0</th>\n      <td>A</td>\n      <td>0</td>\n    </tr>\n    <tr>\n      <th>1</th>\n      <td>B</td>\n      <td>1</td>\n    </tr>\n    <tr>\n      <th>2</th>\n      <td>C</td>\n      <td>2</td>\n    </tr>\n    <tr>\n      <th>3</th>\n      <td>A</td>\n      <td>3</td>\n    </tr>\n    <tr>\n      <th>4</th>\n      <td>B</td>\n      <td>4</td>\n    </tr>\n    <tr>\n      <th>5</th>\n      <td>C</td>\n      <td>5</td>\n    </tr>\n  </tbody>\n</table>\n</div>"
                    }, 
                    "execution_count": 118, 
                    "metadata": {}, 
                    "output_type": "execute_result"
                }
            ], 
            "execution_count": 118, 
            "cell_type": "code", 
            "source": "df = pd.DataFrame({'key': ['A', 'B', 'C', 'A', 'B', 'C'],\n                       'data': range(6)}, columns=['key', 'data'])\ndf", 
            "metadata": {}
        }, 
        {
            "outputs": [
                {
                    "data": {
                        "text/plain": "<pandas.core.groupby.DataFrameGroupBy object at 0x7f9672aec710>"
                    }, 
                    "execution_count": 119, 
                    "metadata": {}, 
                    "output_type": "execute_result"
                }
            ], 
            "execution_count": 119, 
            "cell_type": "code", 
            "source": "df.groupby('key')", 
            "metadata": {}
        }, 
        {
            "outputs": [
                {
                    "data": {
                        "text/plain": "     data\nkey      \nA       3\nB       5\nC       7", 
                        "text/html": "<div>\n<table border=\"1\" class=\"dataframe\">\n  <thead>\n    <tr style=\"text-align: right;\">\n      <th></th>\n      <th>data</th>\n    </tr>\n    <tr>\n      <th>key</th>\n      <th></th>\n    </tr>\n  </thead>\n  <tbody>\n    <tr>\n      <th>A</th>\n      <td>3</td>\n    </tr>\n    <tr>\n      <th>B</th>\n      <td>5</td>\n    </tr>\n    <tr>\n      <th>C</th>\n      <td>7</td>\n    </tr>\n  </tbody>\n</table>\n</div>"
                    }, 
                    "execution_count": 120, 
                    "metadata": {}, 
                    "output_type": "execute_result"
                }
            ], 
            "execution_count": 120, 
            "cell_type": "code", 
            "source": " df.groupby('key').sum()", 
            "metadata": {}
        }, 
        {
            "outputs": [
                {
                    "data": {
                        "text/plain": "     data\nkey      \nA     1.5\nB     2.5\nC     3.5", 
                        "text/html": "<div>\n<table border=\"1\" class=\"dataframe\">\n  <thead>\n    <tr style=\"text-align: right;\">\n      <th></th>\n      <th>data</th>\n    </tr>\n    <tr>\n      <th>key</th>\n      <th></th>\n    </tr>\n  </thead>\n  <tbody>\n    <tr>\n      <th>A</th>\n      <td>1.5</td>\n    </tr>\n    <tr>\n      <th>B</th>\n      <td>2.5</td>\n    </tr>\n    <tr>\n      <th>C</th>\n      <td>3.5</td>\n    </tr>\n  </tbody>\n</table>\n</div>"
                    }, 
                    "execution_count": 121, 
                    "metadata": {}, 
                    "output_type": "execute_result"
                }
            ], 
            "execution_count": 121, 
            "cell_type": "code", 
            "source": " df.groupby('key').median()", 
            "metadata": {}
        }, 
        {
            "outputs": [
                {
                    "data": {
                        "text/plain": "            method  number  orbital_period   mass  distance  year\n0  Radial Velocity       1         269.300   7.10     77.40  2006\n1  Radial Velocity       1         874.774   2.21     56.95  2008\n2  Radial Velocity       1         763.000   2.60     19.84  2011\n3  Radial Velocity       1         326.030  19.40    110.62  2007\n4  Radial Velocity       1         516.220  10.50    119.47  2009", 
                        "text/html": "<div>\n<table border=\"1\" class=\"dataframe\">\n  <thead>\n    <tr style=\"text-align: right;\">\n      <th></th>\n      <th>method</th>\n      <th>number</th>\n      <th>orbital_period</th>\n      <th>mass</th>\n      <th>distance</th>\n      <th>year</th>\n    </tr>\n  </thead>\n  <tbody>\n    <tr>\n      <th>0</th>\n      <td>Radial Velocity</td>\n      <td>1</td>\n      <td>269.300</td>\n      <td>7.10</td>\n      <td>77.40</td>\n      <td>2006</td>\n    </tr>\n    <tr>\n      <th>1</th>\n      <td>Radial Velocity</td>\n      <td>1</td>\n      <td>874.774</td>\n      <td>2.21</td>\n      <td>56.95</td>\n      <td>2008</td>\n    </tr>\n    <tr>\n      <th>2</th>\n      <td>Radial Velocity</td>\n      <td>1</td>\n      <td>763.000</td>\n      <td>2.60</td>\n      <td>19.84</td>\n      <td>2011</td>\n    </tr>\n    <tr>\n      <th>3</th>\n      <td>Radial Velocity</td>\n      <td>1</td>\n      <td>326.030</td>\n      <td>19.40</td>\n      <td>110.62</td>\n      <td>2007</td>\n    </tr>\n    <tr>\n      <th>4</th>\n      <td>Radial Velocity</td>\n      <td>1</td>\n      <td>516.220</td>\n      <td>10.50</td>\n      <td>119.47</td>\n      <td>2009</td>\n    </tr>\n  </tbody>\n</table>\n</div>"
                    }, 
                    "execution_count": 122, 
                    "metadata": {}, 
                    "output_type": "execute_result"
                }
            ], 
            "execution_count": 122, 
            "cell_type": "code", 
            "source": "import seaborn as sns\nplanets = sns.load_dataset('planets') \nplanets.shape\nplanets.head()", 
            "metadata": {}
        }, 
        {
            "outputs": [
                {
                    "data": {
                        "text/plain": "          number  orbital_period        mass    distance         year\ncount  498.00000      498.000000  498.000000  498.000000   498.000000\nmean     1.73494      835.778671    2.509320   52.068213  2007.377510\nstd      1.17572     1469.128259    3.636274   46.596041     4.167284\nmin      1.00000        1.328300    0.003600    1.350000  1989.000000\n25%      1.00000       38.272250    0.212500   24.497500  2005.000000\n50%      1.00000      357.000000    1.245000   39.940000  2009.000000\n75%      2.00000      999.600000    2.867500   59.332500  2011.000000\nmax      6.00000    17337.500000   25.000000  354.000000  2014.000000", 
                        "text/html": "<div>\n<table border=\"1\" class=\"dataframe\">\n  <thead>\n    <tr style=\"text-align: right;\">\n      <th></th>\n      <th>number</th>\n      <th>orbital_period</th>\n      <th>mass</th>\n      <th>distance</th>\n      <th>year</th>\n    </tr>\n  </thead>\n  <tbody>\n    <tr>\n      <th>count</th>\n      <td>498.00000</td>\n      <td>498.000000</td>\n      <td>498.000000</td>\n      <td>498.000000</td>\n      <td>498.000000</td>\n    </tr>\n    <tr>\n      <th>mean</th>\n      <td>1.73494</td>\n      <td>835.778671</td>\n      <td>2.509320</td>\n      <td>52.068213</td>\n      <td>2007.377510</td>\n    </tr>\n    <tr>\n      <th>std</th>\n      <td>1.17572</td>\n      <td>1469.128259</td>\n      <td>3.636274</td>\n      <td>46.596041</td>\n      <td>4.167284</td>\n    </tr>\n    <tr>\n      <th>min</th>\n      <td>1.00000</td>\n      <td>1.328300</td>\n      <td>0.003600</td>\n      <td>1.350000</td>\n      <td>1989.000000</td>\n    </tr>\n    <tr>\n      <th>25%</th>\n      <td>1.00000</td>\n      <td>38.272250</td>\n      <td>0.212500</td>\n      <td>24.497500</td>\n      <td>2005.000000</td>\n    </tr>\n    <tr>\n      <th>50%</th>\n      <td>1.00000</td>\n      <td>357.000000</td>\n      <td>1.245000</td>\n      <td>39.940000</td>\n      <td>2009.000000</td>\n    </tr>\n    <tr>\n      <th>75%</th>\n      <td>2.00000</td>\n      <td>999.600000</td>\n      <td>2.867500</td>\n      <td>59.332500</td>\n      <td>2011.000000</td>\n    </tr>\n    <tr>\n      <th>max</th>\n      <td>6.00000</td>\n      <td>17337.500000</td>\n      <td>25.000000</td>\n      <td>354.000000</td>\n      <td>2014.000000</td>\n    </tr>\n  </tbody>\n</table>\n</div>"
                    }, 
                    "execution_count": 123, 
                    "metadata": {}, 
                    "output_type": "execute_result"
                }
            ], 
            "execution_count": 123, 
            "cell_type": "code", 
            "source": "planets.dropna().describe()", 
            "metadata": {}
        }, 
        {
            "outputs": [
                {
                    "name": "stdout", 
                    "output_type": "stream", 
                    "text": "Astrometry                     shape=(2, 6)\nEclipse Timing Variations      shape=(9, 6)\nImaging                        shape=(38, 6)\nMicrolensing                   shape=(23, 6)\nOrbital Brightness Modulation  shape=(3, 6)\nPulsar Timing                  shape=(5, 6)\nPulsation Timing Variations    shape=(1, 6)\nRadial Velocity                shape=(553, 6)\nTransit                        shape=(397, 6)\nTransit Timing Variations      shape=(4, 6)\n"
                }
            ], 
            "execution_count": 126, 
            "cell_type": "code", 
            "source": "#Iteration over groups. The GroupBy object supports direct iteration over the groups, returning each group as a Series or DataFrame:\nfor (method, group) in planets.groupby('method'): \n    print(\"{0:30s} shape={1}\".format(method, group.shape))", 
            "metadata": {}
        }, 
        {
            "outputs": [
                {
                    "data": {
                        "text/plain": "                               count         mean       std   min      25%  \\\nmethod                                                                       \nAstrometry                         2  2011.500000  2.121320  2010  2010.75   \nEclipse Timing Variations          9  2010.000000  1.414214  2008  2009.00   \nImaging                           38  2009.131579  2.781901  2004  2008.00   \nMicrolensing                      23  2009.782609  2.859697  2004  2008.00   \nOrbital Brightness Modulation      3  2011.666667  1.154701  2011  2011.00   \nPulsar Timing                      5  1998.400000  8.384510  1992  1992.00   \nPulsation Timing Variations        1  2007.000000       NaN  2007  2007.00   \nRadial Velocity                  553  2007.518987  4.249052  1989  2005.00   \nTransit                          397  2011.236776  2.077867  2002  2010.00   \nTransit Timing Variations          4  2012.500000  1.290994  2011  2011.75   \n\n                                  50%      75%   max  \nmethod                                                \nAstrometry                     2011.5  2012.25  2013  \nEclipse Timing Variations      2010.0  2011.00  2012  \nImaging                        2009.0  2011.00  2013  \nMicrolensing                   2010.0  2012.00  2013  \nOrbital Brightness Modulation  2011.0  2012.00  2013  \nPulsar Timing                  1994.0  2003.00  2011  \nPulsation Timing Variations    2007.0  2007.00  2007  \nRadial Velocity                2009.0  2011.00  2014  \nTransit                        2012.0  2013.00  2014  \nTransit Timing Variations      2012.5  2013.25  2014  ", 
                        "text/html": "<div>\n<table border=\"1\" class=\"dataframe\">\n  <thead>\n    <tr style=\"text-align: right;\">\n      <th></th>\n      <th>count</th>\n      <th>mean</th>\n      <th>std</th>\n      <th>min</th>\n      <th>25%</th>\n      <th>50%</th>\n      <th>75%</th>\n      <th>max</th>\n    </tr>\n    <tr>\n      <th>method</th>\n      <th></th>\n      <th></th>\n      <th></th>\n      <th></th>\n      <th></th>\n      <th></th>\n      <th></th>\n      <th></th>\n    </tr>\n  </thead>\n  <tbody>\n    <tr>\n      <th>Astrometry</th>\n      <td>2</td>\n      <td>2011.500000</td>\n      <td>2.121320</td>\n      <td>2010</td>\n      <td>2010.75</td>\n      <td>2011.5</td>\n      <td>2012.25</td>\n      <td>2013</td>\n    </tr>\n    <tr>\n      <th>Eclipse Timing Variations</th>\n      <td>9</td>\n      <td>2010.000000</td>\n      <td>1.414214</td>\n      <td>2008</td>\n      <td>2009.00</td>\n      <td>2010.0</td>\n      <td>2011.00</td>\n      <td>2012</td>\n    </tr>\n    <tr>\n      <th>Imaging</th>\n      <td>38</td>\n      <td>2009.131579</td>\n      <td>2.781901</td>\n      <td>2004</td>\n      <td>2008.00</td>\n      <td>2009.0</td>\n      <td>2011.00</td>\n      <td>2013</td>\n    </tr>\n    <tr>\n      <th>Microlensing</th>\n      <td>23</td>\n      <td>2009.782609</td>\n      <td>2.859697</td>\n      <td>2004</td>\n      <td>2008.00</td>\n      <td>2010.0</td>\n      <td>2012.00</td>\n      <td>2013</td>\n    </tr>\n    <tr>\n      <th>Orbital Brightness Modulation</th>\n      <td>3</td>\n      <td>2011.666667</td>\n      <td>1.154701</td>\n      <td>2011</td>\n      <td>2011.00</td>\n      <td>2011.0</td>\n      <td>2012.00</td>\n      <td>2013</td>\n    </tr>\n    <tr>\n      <th>Pulsar Timing</th>\n      <td>5</td>\n      <td>1998.400000</td>\n      <td>8.384510</td>\n      <td>1992</td>\n      <td>1992.00</td>\n      <td>1994.0</td>\n      <td>2003.00</td>\n      <td>2011</td>\n    </tr>\n    <tr>\n      <th>Pulsation Timing Variations</th>\n      <td>1</td>\n      <td>2007.000000</td>\n      <td>NaN</td>\n      <td>2007</td>\n      <td>2007.00</td>\n      <td>2007.0</td>\n      <td>2007.00</td>\n      <td>2007</td>\n    </tr>\n    <tr>\n      <th>Radial Velocity</th>\n      <td>553</td>\n      <td>2007.518987</td>\n      <td>4.249052</td>\n      <td>1989</td>\n      <td>2005.00</td>\n      <td>2009.0</td>\n      <td>2011.00</td>\n      <td>2014</td>\n    </tr>\n    <tr>\n      <th>Transit</th>\n      <td>397</td>\n      <td>2011.236776</td>\n      <td>2.077867</td>\n      <td>2002</td>\n      <td>2010.00</td>\n      <td>2012.0</td>\n      <td>2013.00</td>\n      <td>2014</td>\n    </tr>\n    <tr>\n      <th>Transit Timing Variations</th>\n      <td>4</td>\n      <td>2012.500000</td>\n      <td>1.290994</td>\n      <td>2011</td>\n      <td>2011.75</td>\n      <td>2012.5</td>\n      <td>2013.25</td>\n      <td>2014</td>\n    </tr>\n  </tbody>\n</table>\n</div>"
                    }, 
                    "execution_count": 127, 
                    "metadata": {}, 
                    "output_type": "execute_result"
                }
            ], 
            "execution_count": 127, 
            "cell_type": "code", 
            "source": "#Dispatch methods.\nplanets.groupby('method')['year'].describe().unstack()", 
            "metadata": {}
        }, 
        {
            "outputs": [
                {
                    "data": {
                        "text/plain": "  key  data1  data2\n0   A      0      5\n1   B      1      0\n2   C      2      3\n3   A      3      3\n4   B      4      7\n5   C      5      9", 
                        "text/html": "<div>\n<table border=\"1\" class=\"dataframe\">\n  <thead>\n    <tr style=\"text-align: right;\">\n      <th></th>\n      <th>key</th>\n      <th>data1</th>\n      <th>data2</th>\n    </tr>\n  </thead>\n  <tbody>\n    <tr>\n      <th>0</th>\n      <td>A</td>\n      <td>0</td>\n      <td>5</td>\n    </tr>\n    <tr>\n      <th>1</th>\n      <td>B</td>\n      <td>1</td>\n      <td>0</td>\n    </tr>\n    <tr>\n      <th>2</th>\n      <td>C</td>\n      <td>2</td>\n      <td>3</td>\n    </tr>\n    <tr>\n      <th>3</th>\n      <td>A</td>\n      <td>3</td>\n      <td>3</td>\n    </tr>\n    <tr>\n      <th>4</th>\n      <td>B</td>\n      <td>4</td>\n      <td>7</td>\n    </tr>\n    <tr>\n      <th>5</th>\n      <td>C</td>\n      <td>5</td>\n      <td>9</td>\n    </tr>\n  </tbody>\n</table>\n</div>"
                    }, 
                    "execution_count": 128, 
                    "metadata": {}, 
                    "output_type": "execute_result"
                }
            ], 
            "execution_count": 128, 
            "cell_type": "code", 
            "source": "# Aggregate,  lter, transform, apply\nrng = np.random.RandomState(0)\ndf = pd.DataFrame({'key': ['A', 'B', 'C', 'A', 'B', 'C'],\n    'data1': range(6),\n    'data2': rng.randint(0, 10, 6)},\n    columns = ['key', 'data1', 'data2'])\n\ndf", 
            "metadata": {}
        }, 
        {
            "outputs": [
                {
                    "data": {
                        "text/plain": "    data1            data2           \n      min median max   min median max\nkey                                  \nA       0    1.5   3     3    4.0   5\nB       1    2.5   4     0    3.5   7\nC       2    3.5   5     3    6.0   9", 
                        "text/html": "<div>\n<table border=\"1\" class=\"dataframe\">\n  <thead>\n    <tr>\n      <th></th>\n      <th colspan=\"3\" halign=\"left\">data1</th>\n      <th colspan=\"3\" halign=\"left\">data2</th>\n    </tr>\n    <tr>\n      <th></th>\n      <th>min</th>\n      <th>median</th>\n      <th>max</th>\n      <th>min</th>\n      <th>median</th>\n      <th>max</th>\n    </tr>\n    <tr>\n      <th>key</th>\n      <th></th>\n      <th></th>\n      <th></th>\n      <th></th>\n      <th></th>\n      <th></th>\n    </tr>\n  </thead>\n  <tbody>\n    <tr>\n      <th>A</th>\n      <td>0</td>\n      <td>1.5</td>\n      <td>3</td>\n      <td>3</td>\n      <td>4.0</td>\n      <td>5</td>\n    </tr>\n    <tr>\n      <th>B</th>\n      <td>1</td>\n      <td>2.5</td>\n      <td>4</td>\n      <td>0</td>\n      <td>3.5</td>\n      <td>7</td>\n    </tr>\n    <tr>\n      <th>C</th>\n      <td>2</td>\n      <td>3.5</td>\n      <td>5</td>\n      <td>3</td>\n      <td>6.0</td>\n      <td>9</td>\n    </tr>\n  </tbody>\n</table>\n</div>"
                    }, 
                    "execution_count": 129, 
                    "metadata": {}, 
                    "output_type": "execute_result"
                }
            ], 
            "execution_count": 129, 
            "cell_type": "code", 
            "source": "#Aggregation. We\u2019re now familiar with GroupBy aggregations with sum(), median(), and the like, but the aggregate() method allows for even more flexibility. It can take a string, a function, or a list thereof, and compute all the aggregates at once.\n\ndf.groupby('key').aggregate(['min', np.median, max])", 
            "metadata": {}
        }, 
        {
            "outputs": [
                {
                    "data": {
                        "text/plain": "     data1  data2\nkey              \nA        0      5\nB        1      7\nC        2      9", 
                        "text/html": "<div>\n<table border=\"1\" class=\"dataframe\">\n  <thead>\n    <tr style=\"text-align: right;\">\n      <th></th>\n      <th>data1</th>\n      <th>data2</th>\n    </tr>\n    <tr>\n      <th>key</th>\n      <th></th>\n      <th></th>\n    </tr>\n  </thead>\n  <tbody>\n    <tr>\n      <th>A</th>\n      <td>0</td>\n      <td>5</td>\n    </tr>\n    <tr>\n      <th>B</th>\n      <td>1</td>\n      <td>7</td>\n    </tr>\n    <tr>\n      <th>C</th>\n      <td>2</td>\n      <td>9</td>\n    </tr>\n  </tbody>\n</table>\n</div>"
                    }, 
                    "execution_count": 130, 
                    "metadata": {}, 
                    "output_type": "execute_result"
                }
            ], 
            "execution_count": 130, 
            "cell_type": "code", 
            "source": "#Another useful pattern is to pass a dictionary mapping column names to operations to be applied on that column:\ndf.groupby('key').aggregate({'data1': 'min',\n                            'data2': 'max'})", 
            "metadata": {}
        }, 
        {
            "outputs": [
                {
                    "name": "stdout", 
                    "output_type": "stream", 
                    "text": "  key  data1  data2\n0   A      0      5\n1   B      1      0\n2   C      2      3\n3   A      3      3\n4   B      4      7\n5   C      5      9\n       data1     data2\nkey                   \nA    2.12132  1.414214\nB    2.12132  4.949747\nC    2.12132  4.242641\n  key  data1  data2\n1   B      1      0\n2   C      2      3\n4   B      4      7\n5   C      5      9\n"
                }
            ], 
            "execution_count": 131, 
            "cell_type": "code", 
            "source": "#Filtering - A filtering operation allows you to drop data based on the group proper\u2010 ties.\ndef filter_func(x):\n    return x['data2'].std() > 4\n\nprint(df); print(df.groupby('key').std());\nprint(df.groupby('key').filter(filter_func))", 
            "metadata": {}
        }, 
        {
            "outputs": [
                {
                    "data": {
                        "text/plain": "   data1  data2\n0   -1.5    1.0\n1   -1.5   -3.5\n2   -1.5   -3.0\n3    1.5   -1.0\n4    1.5    3.5\n5    1.5    3.0", 
                        "text/html": "<div>\n<table border=\"1\" class=\"dataframe\">\n  <thead>\n    <tr style=\"text-align: right;\">\n      <th></th>\n      <th>data1</th>\n      <th>data2</th>\n    </tr>\n  </thead>\n  <tbody>\n    <tr>\n      <th>0</th>\n      <td>-1.5</td>\n      <td>1.0</td>\n    </tr>\n    <tr>\n      <th>1</th>\n      <td>-1.5</td>\n      <td>-3.5</td>\n    </tr>\n    <tr>\n      <th>2</th>\n      <td>-1.5</td>\n      <td>-3.0</td>\n    </tr>\n    <tr>\n      <th>3</th>\n      <td>1.5</td>\n      <td>-1.0</td>\n    </tr>\n    <tr>\n      <th>4</th>\n      <td>1.5</td>\n      <td>3.5</td>\n    </tr>\n    <tr>\n      <th>5</th>\n      <td>1.5</td>\n      <td>3.0</td>\n    </tr>\n  </tbody>\n</table>\n</div>"
                    }, 
                    "execution_count": 132, 
                    "metadata": {}, 
                    "output_type": "execute_result"
                }
            ], 
            "execution_count": 132, 
            "cell_type": "code", 
            "source": "#Transformation\n\ndf.groupby('key').transform(lambda x: x - x.mean())", 
            "metadata": {}
        }, 
        {
            "outputs": [
                {
                    "name": "stdout", 
                    "output_type": "stream", 
                    "text": "  key  data1  data2\n0   A      0      5\n1   B      1      0\n2   C      2      3\n3   A      3      3\n4   B      4      7\n5   C      5      9\n  key     data1  data2\n0   A  0.000000      5\n1   B  0.142857      0\n2   C  0.166667      3\n3   A  0.375000      3\n4   B  0.571429      7\n5   C  0.416667      9\n"
                }
            ], 
            "execution_count": 133, 
            "cell_type": "code", 
            "source": "# apply -The apply() method lets you apply an arbitrary function to the group results. The function should take a DataFrame, and return either a Pandas object (e.g., DataFrame, Series) or a scalar\n\ndef norm_by_data2(x):\n    # x is a DataFrame of group values\n    x['data1'] /= x['data2'].sum() \n    return x\n\nprint(df); print(df.groupby('key').apply(norm_by_data2))", 
            "metadata": {}
        }, 
        {
            "outputs": [
                {
                    "name": "stdout", 
                    "output_type": "stream", 
                    "text": "  key  data1  data2\n0   A      0      5\n1   B      1      0\n2   C      2      3\n3   A      3      3\n4   B      4      7\n5   C      5      9\n   data1  data2\n0      7     17\n1      4      3\n2      4      7\n"
                }
            ], 
            "execution_count": 134, 
            "cell_type": "code", 
            "source": "#Specifying the split key\nL=[0,1,0,1,2,0]\nprint(df); print(df.groupby(L).sum())", 
            "metadata": {}
        }, 
        {
            "source": "### Pivot Tables", 
            "cell_type": "markdown", 
            "metadata": {}
        }, 
        {
            "outputs": [], 
            "execution_count": 135, 
            "cell_type": "code", 
            "source": "import numpy as np \nimport pandas as pd\nimport seaborn as sns\n\ntitanic = sns.load_dataset('titanic')\n", 
            "metadata": {}
        }, 
        {
            "outputs": [
                {
                    "data": {
                        "text/plain": "   survived  pclass     sex  age  sibsp  parch     fare embarked  class  \\\n0         0       3    male   22      1      0   7.2500        S  Third   \n1         1       1  female   38      1      0  71.2833        C  First   \n2         1       3  female   26      0      0   7.9250        S  Third   \n3         1       1  female   35      1      0  53.1000        S  First   \n4         0       3    male   35      0      0   8.0500        S  Third   \n\n     who adult_male deck  embark_town alive  alone  \n0    man       True  NaN  Southampton    no  False  \n1  woman      False    C    Cherbourg   yes  False  \n2  woman      False  NaN  Southampton   yes   True  \n3  woman      False    C  Southampton   yes  False  \n4    man       True  NaN  Southampton    no   True  ", 
                        "text/html": "<div>\n<table border=\"1\" class=\"dataframe\">\n  <thead>\n    <tr style=\"text-align: right;\">\n      <th></th>\n      <th>survived</th>\n      <th>pclass</th>\n      <th>sex</th>\n      <th>age</th>\n      <th>sibsp</th>\n      <th>parch</th>\n      <th>fare</th>\n      <th>embarked</th>\n      <th>class</th>\n      <th>who</th>\n      <th>adult_male</th>\n      <th>deck</th>\n      <th>embark_town</th>\n      <th>alive</th>\n      <th>alone</th>\n    </tr>\n  </thead>\n  <tbody>\n    <tr>\n      <th>0</th>\n      <td>0</td>\n      <td>3</td>\n      <td>male</td>\n      <td>22</td>\n      <td>1</td>\n      <td>0</td>\n      <td>7.2500</td>\n      <td>S</td>\n      <td>Third</td>\n      <td>man</td>\n      <td>True</td>\n      <td>NaN</td>\n      <td>Southampton</td>\n      <td>no</td>\n      <td>False</td>\n    </tr>\n    <tr>\n      <th>1</th>\n      <td>1</td>\n      <td>1</td>\n      <td>female</td>\n      <td>38</td>\n      <td>1</td>\n      <td>0</td>\n      <td>71.2833</td>\n      <td>C</td>\n      <td>First</td>\n      <td>woman</td>\n      <td>False</td>\n      <td>C</td>\n      <td>Cherbourg</td>\n      <td>yes</td>\n      <td>False</td>\n    </tr>\n    <tr>\n      <th>2</th>\n      <td>1</td>\n      <td>3</td>\n      <td>female</td>\n      <td>26</td>\n      <td>0</td>\n      <td>0</td>\n      <td>7.9250</td>\n      <td>S</td>\n      <td>Third</td>\n      <td>woman</td>\n      <td>False</td>\n      <td>NaN</td>\n      <td>Southampton</td>\n      <td>yes</td>\n      <td>True</td>\n    </tr>\n    <tr>\n      <th>3</th>\n      <td>1</td>\n      <td>1</td>\n      <td>female</td>\n      <td>35</td>\n      <td>1</td>\n      <td>0</td>\n      <td>53.1000</td>\n      <td>S</td>\n      <td>First</td>\n      <td>woman</td>\n      <td>False</td>\n      <td>C</td>\n      <td>Southampton</td>\n      <td>yes</td>\n      <td>False</td>\n    </tr>\n    <tr>\n      <th>4</th>\n      <td>0</td>\n      <td>3</td>\n      <td>male</td>\n      <td>35</td>\n      <td>0</td>\n      <td>0</td>\n      <td>8.0500</td>\n      <td>S</td>\n      <td>Third</td>\n      <td>man</td>\n      <td>True</td>\n      <td>NaN</td>\n      <td>Southampton</td>\n      <td>no</td>\n      <td>True</td>\n    </tr>\n  </tbody>\n</table>\n</div>"
                    }, 
                    "execution_count": 136, 
                    "metadata": {}, 
                    "output_type": "execute_result"
                }
            ], 
            "execution_count": 136, 
            "cell_type": "code", 
            "source": "titanic.head()", 
            "metadata": {}
        }, 
        {
            "outputs": [
                {
                    "data": {
                        "text/plain": "        survived\nsex             \nfemale  0.742038\nmale    0.188908", 
                        "text/html": "<div>\n<table border=\"1\" class=\"dataframe\">\n  <thead>\n    <tr style=\"text-align: right;\">\n      <th></th>\n      <th>survived</th>\n    </tr>\n    <tr>\n      <th>sex</th>\n      <th></th>\n    </tr>\n  </thead>\n  <tbody>\n    <tr>\n      <th>female</th>\n      <td>0.742038</td>\n    </tr>\n    <tr>\n      <th>male</th>\n      <td>0.188908</td>\n    </tr>\n  </tbody>\n</table>\n</div>"
                    }, 
                    "execution_count": 137, 
                    "metadata": {}, 
                    "output_type": "execute_result"
                }
            ], 
            "execution_count": 137, 
            "cell_type": "code", 
            "source": "#Pivot Tables by Hand\ntitanic.groupby('sex')[['survived']].mean()", 
            "metadata": {}
        }, 
        {
            "outputs": [
                {
                    "data": {
                        "text/plain": "class      First    Second     Third\nsex                                 \nfemale  0.968085  0.921053  0.500000\nmale    0.368852  0.157407  0.135447", 
                        "text/html": "<div>\n<table border=\"1\" class=\"dataframe\">\n  <thead>\n    <tr style=\"text-align: right;\">\n      <th>class</th>\n      <th>First</th>\n      <th>Second</th>\n      <th>Third</th>\n    </tr>\n    <tr>\n      <th>sex</th>\n      <th></th>\n      <th></th>\n      <th></th>\n    </tr>\n  </thead>\n  <tbody>\n    <tr>\n      <th>female</th>\n      <td>0.968085</td>\n      <td>0.921053</td>\n      <td>0.500000</td>\n    </tr>\n    <tr>\n      <th>male</th>\n      <td>0.368852</td>\n      <td>0.157407</td>\n      <td>0.135447</td>\n    </tr>\n  </tbody>\n</table>\n</div>"
                    }, 
                    "execution_count": 141, 
                    "metadata": {}, 
                    "output_type": "execute_result"
                }
            ], 
            "execution_count": 141, 
            "cell_type": "code", 
            "source": "titanic.groupby(['sex', 'class'])['survived'].aggregate('mean').unstack()", 
            "metadata": {}
        }, 
        {
            "outputs": [
                {
                    "data": {
                        "text/plain": "class      First    Second     Third\nsex                                 \nfemale  0.968085  0.921053  0.500000\nmale    0.368852  0.157407  0.135447", 
                        "text/html": "<div>\n<table border=\"1\" class=\"dataframe\">\n  <thead>\n    <tr style=\"text-align: right;\">\n      <th>class</th>\n      <th>First</th>\n      <th>Second</th>\n      <th>Third</th>\n    </tr>\n    <tr>\n      <th>sex</th>\n      <th></th>\n      <th></th>\n      <th></th>\n    </tr>\n  </thead>\n  <tbody>\n    <tr>\n      <th>female</th>\n      <td>0.968085</td>\n      <td>0.921053</td>\n      <td>0.500000</td>\n    </tr>\n    <tr>\n      <th>male</th>\n      <td>0.368852</td>\n      <td>0.157407</td>\n      <td>0.135447</td>\n    </tr>\n  </tbody>\n</table>\n</div>"
                    }, 
                    "execution_count": 139, 
                    "metadata": {}, 
                    "output_type": "execute_result"
                }
            ], 
            "execution_count": 139, 
            "cell_type": "code", 
            "source": "#Here is the equivalent to the preceding operation using the pivot_table method of DataFrames:\ntitanic.pivot_table('survived', index='sex', columns='class')", 
            "metadata": {}
        }, 
        {
            "source": "### Working with Time Series", 
            "cell_type": "markdown", 
            "metadata": {}
        }, 
        {
            "outputs": [
                {
                    "data": {
                        "text/plain": "datetime.datetime(2015, 7, 4, 0, 0)"
                    }, 
                    "execution_count": 142, 
                    "metadata": {}, 
                    "output_type": "execute_result"
                }
            ], 
            "execution_count": 142, 
            "cell_type": "code", 
            "source": "from datetime import datetime \ndatetime(year=2015, month=7, day=4)", 
            "metadata": {}
        }, 
        {
            "outputs": [
                {
                    "data": {
                        "text/plain": "datetime.datetime(2015, 7, 4, 0, 0)"
                    }, 
                    "execution_count": 144, 
                    "metadata": {}, 
                    "output_type": "execute_result"
                }
            ], 
            "execution_count": 144, 
            "cell_type": "code", 
            "source": "from dateutil import parser\ndate = parser.parse(\"4th of July, 2015\") \ndate", 
            "metadata": {}
        }, 
        {
            "outputs": [
                {
                    "data": {
                        "text/plain": "'Saturday'"
                    }, 
                    "execution_count": 145, 
                    "metadata": {}, 
                    "output_type": "execute_result"
                }
            ], 
            "execution_count": 145, 
            "cell_type": "code", 
            "source": "date.strftime('%A')", 
            "metadata": {}
        }, 
        {
            "outputs": [
                {
                    "data": {
                        "text/plain": "2014-07-04    0\n2014-08-04    1\n2015-07-04    2\n2015-08-04    3\ndtype: int64"
                    }, 
                    "execution_count": 150, 
                    "metadata": {}, 
                    "output_type": "execute_result"
                }
            ], 
            "execution_count": 150, 
            "cell_type": "code", 
            "source": "#Pandas Time Series: Indexing by Time\nindex = pd.DatetimeIndex(['2014-07-04', '2014-08-04',\n                        '2015-07-04', '2015-08-04'])\ndata = pd.Series([0, 1, 2, 3], index=index)\ndata", 
            "metadata": {}
        }, 
        {
            "outputs": [], 
            "execution_count": null, 
            "cell_type": "code", 
            "source": "", 
            "metadata": {}
        }
    ], 
    "metadata": {
        "language_info": {
            "pygments_lexer": "ipython2", 
            "nbconvert_exporter": "python", 
            "version": "2.7.11", 
            "mimetype": "text/x-python", 
            "name": "python", 
            "file_extension": ".py", 
            "codemirror_mode": {
                "version": 2, 
                "name": "ipython"
            }
        }, 
        "kernelspec": {
            "language": "python", 
            "display_name": "Python 2 with Spark 2.1", 
            "name": "python2-spark21"
        }
    }, 
    "nbformat_minor": 1
}