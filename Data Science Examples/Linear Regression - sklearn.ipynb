{
    "nbformat_minor": 1, 
    "cells": [
        {
            "metadata": {
                "collapsed": true
            }, 
            "source": "import matplotlib.pyplot as plt\nimport numpy as np\n\n", 
            "execution_count": 1, 
            "cell_type": "code", 
            "outputs": []
        }, 
        {
            "metadata": {
                "collapsed": true
            }, 
            "source": "rng = np.random.RandomState(42)\nx = 10 * rng.rand(50)\ny = 2 * x - 1 + rng.randn(50)\nplt.scatter(x, y);", 
            "execution_count": 2, 
            "cell_type": "code", 
            "outputs": []
        }, 
        {
            "metadata": {}, 
            "source": "x.shape", 
            "execution_count": 7, 
            "cell_type": "code", 
            "outputs": [
                {
                    "data": {
                        "text/plain": "(50,)"
                    }, 
                    "metadata": {}, 
                    "execution_count": 7, 
                    "output_type": "execute_result"
                }
            ]
        }, 
        {
            "metadata": {}, 
            "source": "from sklearn.linear_model import LinearRegression\nmodel = LinearRegression(fit_intercept=True)\nmodel", 
            "execution_count": 5, 
            "cell_type": "code", 
            "outputs": [
                {
                    "data": {
                        "text/plain": "LinearRegression(copy_X=True, fit_intercept=True, n_jobs=1, normalize=False)"
                    }, 
                    "metadata": {}, 
                    "execution_count": 5, 
                    "output_type": "execute_result"
                }
            ]
        }, 
        {
            "metadata": {}, 
            "source": "# we need to massage the data x to make it a matrix of size [n_samples, n_features]\nX = x[:, np.newaxis]\nX.shape", 
            "execution_count": 8, 
            "cell_type": "code", 
            "outputs": [
                {
                    "data": {
                        "text/plain": "(50, 1)"
                    }, 
                    "metadata": {}, 
                    "execution_count": 8, 
                    "output_type": "execute_result"
                }
            ]
        }, 
        {
            "metadata": {}, 
            "source": "X", 
            "execution_count": 9, 
            "cell_type": "code", 
            "outputs": [
                {
                    "data": {
                        "text/plain": "array([[ 3.74540119],\n       [ 9.50714306],\n       [ 7.31993942],\n       [ 5.98658484],\n       [ 1.5601864 ],\n       [ 1.5599452 ],\n       [ 0.58083612],\n       [ 8.66176146],\n       [ 6.01115012],\n       [ 7.08072578],\n       [ 0.20584494],\n       [ 9.69909852],\n       [ 8.32442641],\n       [ 2.12339111],\n       [ 1.81824967],\n       [ 1.8340451 ],\n       [ 3.04242243],\n       [ 5.24756432],\n       [ 4.31945019],\n       [ 2.9122914 ],\n       [ 6.11852895],\n       [ 1.39493861],\n       [ 2.92144649],\n       [ 3.66361843],\n       [ 4.56069984],\n       [ 7.85175961],\n       [ 1.99673782],\n       [ 5.14234438],\n       [ 5.92414569],\n       [ 0.46450413],\n       [ 6.07544852],\n       [ 1.70524124],\n       [ 0.65051593],\n       [ 9.48885537],\n       [ 9.65632033],\n       [ 8.08397348],\n       [ 3.04613769],\n       [ 0.97672114],\n       [ 6.84233027],\n       [ 4.40152494],\n       [ 1.22038235],\n       [ 4.9517691 ],\n       [ 0.34388521],\n       [ 9.09320402],\n       [ 2.58779982],\n       [ 6.62522284],\n       [ 3.11711076],\n       [ 5.20068021],\n       [ 5.46710279],\n       [ 1.84854456]])"
                    }, 
                    "metadata": {}, 
                    "execution_count": 9, 
                    "output_type": "execute_result"
                }
            ]
        }, 
        {
            "metadata": {}, 
            "source": "model.fit(X, y)", 
            "execution_count": 10, 
            "cell_type": "code", 
            "outputs": [
                {
                    "data": {
                        "text/plain": "LinearRegression(copy_X=True, fit_intercept=True, n_jobs=1, normalize=False)"
                    }, 
                    "metadata": {}, 
                    "execution_count": 10, 
                    "output_type": "execute_result"
                }
            ]
        }, 
        {
            "metadata": {}, 
            "source": "y", 
            "execution_count": 11, 
            "cell_type": "code", 
            "outputs": [
                {
                    "data": {
                        "text/plain": "array([  7.22926896,  18.18565441,  13.52423055,  10.67206599,\n         0.64185082,   1.4000462 ,  -0.29896653,  17.38064514,\n        11.36591852,  11.3984114 ,  -0.26422614,  18.01311476,\n        14.97193082,   3.8584585 ,   3.66749887,   3.59937032,\n         4.24562734,   9.18591626,   7.9701638 ,   5.80012793,\n        10.75788366,   1.60421824,   3.736558  ,   5.13103024,\n         8.93392551,  16.05975926,   2.92146552,  10.28822167,\n        11.2099274 ,  -0.7161115 ,  11.51229264,   3.94851904,\n         0.26520582,  19.5423544 ,  15.69289556,  15.98984947,\n         5.17932245,   0.65443493,  12.77642131,   5.81548096,\n         1.22109281,   9.26065077,   1.16566447,  16.66813782,\n         3.36710603,  11.74868864,   6.14962364,   9.73011153,\n         9.40444538,   3.21035654])"
                    }, 
                    "metadata": {}, 
                    "execution_count": 11, 
                    "output_type": "execute_result"
                }
            ]
        }, 
        {
            "metadata": {}, 
            "source": "model.coef_\n", 
            "execution_count": 12, 
            "cell_type": "code", 
            "outputs": [
                {
                    "data": {
                        "text/plain": "array([ 1.9776566])"
                    }, 
                    "metadata": {}, 
                    "execution_count": 12, 
                    "output_type": "execute_result"
                }
            ]
        }, 
        {
            "metadata": {}, 
            "source": "model.intercept_", 
            "execution_count": 13, 
            "cell_type": "code", 
            "outputs": [
                {
                    "data": {
                        "text/plain": "-0.90331072553111458"
                    }, 
                    "metadata": {}, 
                    "execution_count": 13, 
                    "output_type": "execute_result"
                }
            ]
        }, 
        {
            "metadata": {
                "collapsed": true
            }, 
            "source": "xfit = np.linspace(-1, 11)", 
            "execution_count": 20, 
            "cell_type": "code", 
            "outputs": []
        }, 
        {
            "metadata": {
                "collapsed": true
            }, 
            "source": "Xfit = xfit[:, np.newaxis]\nyfit = model.predict(Xfit)", 
            "execution_count": 15, 
            "cell_type": "code", 
            "outputs": []
        }, 
        {
            "metadata": {
                "collapsed": true
            }, 
            "source": "plt.scatter(x, y)\nplt.plot(xfit, yfit);", 
            "execution_count": 16, 
            "cell_type": "code", 
            "outputs": []
        }, 
        {
            "metadata": {}, 
            "source": "xfit", 
            "execution_count": 21, 
            "cell_type": "code", 
            "outputs": [
                {
                    "data": {
                        "text/plain": "array([ -1.        ,  -0.75510204,  -0.51020408,  -0.26530612,\n        -0.02040816,   0.2244898 ,   0.46938776,   0.71428571,\n         0.95918367,   1.20408163,   1.44897959,   1.69387755,\n         1.93877551,   2.18367347,   2.42857143,   2.67346939,\n         2.91836735,   3.16326531,   3.40816327,   3.65306122,\n         3.89795918,   4.14285714,   4.3877551 ,   4.63265306,\n         4.87755102,   5.12244898,   5.36734694,   5.6122449 ,\n         5.85714286,   6.10204082,   6.34693878,   6.59183673,\n         6.83673469,   7.08163265,   7.32653061,   7.57142857,\n         7.81632653,   8.06122449,   8.30612245,   8.55102041,\n         8.79591837,   9.04081633,   9.28571429,   9.53061224,\n         9.7755102 ,  10.02040816,  10.26530612,  10.51020408,\n        10.75510204,  11.        ])"
                    }, 
                    "metadata": {}, 
                    "execution_count": 21, 
                    "output_type": "execute_result"
                }
            ]
        }, 
        {
            "metadata": {}, 
            "source": "yfit", 
            "execution_count": 22, 
            "cell_type": "code", 
            "outputs": [
                {
                    "data": {
                        "text/plain": "array([ -2.88096733,  -2.39664326,  -1.9123192 ,  -1.42799513,\n        -0.94367106,  -0.459347  ,   0.02497707,   0.50930113,\n         0.9936252 ,   1.47794926,   1.96227333,   2.44659739,\n         2.93092146,   3.41524552,   3.89956959,   4.38389366,\n         4.86821772,   5.35254179,   5.83686585,   6.32118992,\n         6.80551398,   7.28983805,   7.77416211,   8.25848618,\n         8.74281024,   9.22713431,   9.71145837,  10.19578244,\n        10.68010651,  11.16443057,  11.64875464,  12.1330787 ,\n        12.61740277,  13.10172683,  13.5860509 ,  14.07037496,\n        14.55469903,  15.03902309,  15.52334716,  16.00767122,\n        16.49199529,  16.97631936,  17.46064342,  17.94496749,\n        18.42929155,  18.91361562,  19.39793968,  19.88226375,\n        20.36658781,  20.85091188])"
                    }, 
                    "metadata": {}, 
                    "execution_count": 22, 
                    "output_type": "execute_result"
                }
            ]
        }, 
        {
            "metadata": {
                "collapsed": true
            }, 
            "source": "", 
            "execution_count": null, 
            "cell_type": "code", 
            "outputs": []
        }
    ], 
    "nbformat": 4, 
    "metadata": {
        "kernelspec": {
            "name": "python2-spark21", 
            "language": "python", 
            "display_name": "Python 2 with Spark 2.1"
        }, 
        "language_info": {
            "version": "2.7.11", 
            "name": "python", 
            "pygments_lexer": "ipython2", 
            "mimetype": "text/x-python", 
            "codemirror_mode": {
                "name": "ipython", 
                "version": 2
            }, 
            "file_extension": ".py", 
            "nbconvert_exporter": "python"
        }
    }
}