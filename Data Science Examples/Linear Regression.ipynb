{
    "nbformat_minor": 1, 
    "cells": [
        {
            "metadata": {}, 
            "source": "import org.apache.spark.sql.functions._\n\ndef linearRegression (points: List[(Double,Double)]) : List[(Double,Double)] = {\n    \n    //RETURNS Y OFFSET AND SLOPE\n    \n    // http://www.statisticshowto.com/how-to-find-a-linear-regression-equation/\n    \n    //FIND n (number of samples)\n    val n = points.size\n    \n    //DIVIDE THE X AND Y VALUES\n    val xValues = points.map(_._1)\n    val yValues = points.map(_._2)\n    \n    //println(\"xValues: \" + xValues)\n    //println(\"yValues: \" + yValues)\n    \n    val xSum = xValues.sum\n    val ySum = yValues.sum\n    \n    //println(\"xSum: \" + xSum)\n    //println(\"ySum: \" + ySum)\n    \n    val xySum = points.map(x => x._1 * x._2).sum\n    \n    //println(\"xySum: \" + xySum)\n    \n    val xSquaredSum = points.map(x => x._1.toString.toFloat * x._1.toString.toFloat).sum.toString.toFloat\n    val ySquaredSum = points.map(x => x._2.toString.toFloat * x._2.toString.toFloat).sum.toString.toFloat\n    \n    //println(\"xSquaredSum: \" + xSquaredSum)\n    //println(\"ySquaredSum: \" + ySquaredSum) \n    \n    //OFFSET\n    val aValue = ((ySum * xSquaredSum) - (xSum * xySum)) / ((n * xSquaredSum) - (xSum * xSum))\n    //println(\"aValue: \" + aValue)\n\n    \n    //SLOPE\n    val bValue = ((n * xySum) - (xSum * ySum)) / ((n * xSquaredSum) - (xSum * xSum))\n    //println(\"bValue: \" + bValue)\n    \n    \n    val ab: List[(Double,Double)] = List((aValue,bValue))\n    \n   return ab\n}", 
            "execution_count": 161, 
            "cell_type": "code", 
            "outputs": []
        }, 
        {
            "metadata": {
                "collapsed": true
            }, 
            "source": "import org.apache.spark.sql.functions._\n\ndef linearRegressionSlope (points: List[(Double,Double)]) : Double = {\n    \n    //RETURNS SLOPE    \n    // http://www.statisticshowto.com/how-to-find-a-linear-regression-equation/\n\n    val n = points.size\n\n    val xValues = points.map(_._1)\n    val yValues = points.map(_._2)\n    \n    val xSum = xValues.sum\n    val ySum = yValues.sum\n    \n    val xySum = points.map(x => x._1 * x._2).sum\n    \n    val xSquaredSum = points.map(x => x._1.toString.toFloat * x._1.toString.toFloat).sum.toString.toFloat\n    \n    //SLOPE\n    val bValue = ((n * xySum) - (xSum * ySum)) / ((n * xSquaredSum) - (xSum * xSum))\n    \n   return bValue.toDouble\n}", 
            "execution_count": 164, 
            "cell_type": "code", 
            "outputs": []
        }, 
        {
            "metadata": {
                "collapsed": true
            }, 
            "source": "val testPoints: List[(Double,Double)] = List((43,99),(21,65),(25,79),(42,75),(57,87),(59,81))", 
            "execution_count": 165, 
            "cell_type": "code", 
            "outputs": []
        }, 
        {
            "metadata": {}, 
            "source": "linearRegressionSlope(testPoints)", 
            "execution_count": 166, 
            "cell_type": "code", 
            "outputs": [
                {
                    "data": {
                        "text/plain": "0.3852249832102082"
                    }, 
                    "metadata": {}, 
                    "execution_count": 166, 
                    "output_type": "execute_result"
                }
            ]
        }, 
        {
            "metadata": {
                "collapsed": true
            }, 
            "source": "", 
            "execution_count": null, 
            "cell_type": "code", 
            "outputs": []
        }
    ], 
    "nbformat": 4, 
    "metadata": {
        "kernelspec": {
            "name": "scala-spark21", 
            "language": "scala", 
            "display_name": "Scala 2.11 with Spark 2.1"
        }, 
        "language_info": {
            "version": "2.11.8", 
            "name": "scala", 
            "pygments_lexer": "scala", 
            "mimetype": "text/x-scala", 
            "codemirror_mode": "text/x-scala", 
            "file_extension": ".scala"
        }
    }
}