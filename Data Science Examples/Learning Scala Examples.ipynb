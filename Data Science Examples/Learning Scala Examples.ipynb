{
    "nbformat": 4, 
    "cells": [
        {
            "source": "# Learning Scala Notebook", 
            "cell_type": "markdown", 
            "metadata": {}
        }, 
        {
            "source": "Definitions\n\n\u2022 A literal (or literal data) is data that appears directly in the source code, like the number 5, the character A, and the text \u201cHello, World.\u201d\n\n\n\u2022 A value is an immutable, typed storage unit. A value can be assigned data when it is defined, but can never be reassigned.\n\n\n\u2022 A variable is a mutable, typed storage unit. A variable can be assigned data when it is defined and can also be reassigned data at any time.\n\n\n\u2022 A type is the kind of data you are working with, a definition or classification of data. All data in Scala corresponds to a specific type, and all Scala types are defined as classes with methods that operate on the data.\n\nSYNTAX: val <name>: <type> = <literal>\n", 
            "cell_type": "raw", 
            "metadata": {
                "collapsed": true
            }
        }, 
        {
            "source": "Defining a value. Notice you CAN'T change the value because it is immutable. Values also don't require a type- it will be infered by the compiler.", 
            "cell_type": "markdown", 
            "metadata": {}
        }, 
        {
            "outputs": [], 
            "execution_count": 1, 
            "cell_type": "code", 
            "source": "//Values are prefered over variables by convention, due to stability and predicatability\nval x: Int = 5", 
            "metadata": {
                "collapsed": true
            }
        }, 
        {
            "outputs": [
                {
                    "data": {
                        "text/plain": "5"
                    }, 
                    "execution_count": 2, 
                    "metadata": {}, 
                    "output_type": "execute_result"
                }
            ], 
            "execution_count": 2, 
            "cell_type": "code", 
            "source": "x", 
            "metadata": {
                "collapsed": false
            }
        }, 
        {
            "outputs": [
                {
                    "data": {
                        "text/plain": "10"
                    }, 
                    "execution_count": 3, 
                    "metadata": {}, 
                    "output_type": "execute_result"
                }
            ], 
            "execution_count": 3, 
            "cell_type": "code", 
            "source": "x * 2", 
            "metadata": {
                "collapsed": false
            }
        }, 
        {
            "source": "Defining a variable. Notice you CAN change the value.", 
            "cell_type": "markdown", 
            "metadata": {}
        }, 
        {
            "outputs": [], 
            "execution_count": 1, 
            "cell_type": "code", 
            "source": "var a: Double = 2.72", 
            "metadata": {
                "collapsed": true
            }
        }, 
        {
            "outputs": [], 
            "execution_count": 2, 
            "cell_type": "code", 
            "source": "a = 355.0 / 113.0", 
            "metadata": {
                "collapsed": true
            }
        }, 
        {
            "outputs": [
                {
                    "data": {
                        "text/plain": "3.1415929203539825"
                    }, 
                    "execution_count": 3, 
                    "metadata": {}, 
                    "output_type": "execute_result"
                }
            ], 
            "execution_count": 3, 
            "cell_type": "code", 
            "source": "a", 
            "metadata": {
                "collapsed": false
            }
        }, 
        {
            "outputs": [], 
            "execution_count": 5, 
            "cell_type": "code", 
            "source": "// Notice, the type is not defined!\nval b = 20", 
            "metadata": {
                "collapsed": true
            }
        }, 
        {
            "source": "### Numeric Data Types", 
            "cell_type": "markdown", 
            "metadata": {}
        }, 
        {
            "source": "Name    Description           Size    Min     Max\nByte    Signed Integer        1 byte  -127    128\nShort   Signed Integer        2 bytes -32768  32767  \nInt     Signed Integer        4 bytes -2^31   2^31-1\nLong    Signed Integer        8 bytes -2^63   2^63-1\nFloat   Signed Floating Point 4 bytes n/a     n/a\nDouble  Signed Floating Point 8 bytes n/a     n/a", 
            "cell_type": "raw", 
            "metadata": {
                "collapsed": true
            }
        }, 
        {
            "source": "### Casting", 
            "cell_type": "markdown", 
            "metadata": {
                "collapsed": true
            }
        }, 
        {
            "outputs": [], 
            "execution_count": 1, 
            "cell_type": "code", 
            "source": "val l: Long = 20", 
            "metadata": {
                "collapsed": true
            }
        }, 
        {
            "outputs": [], 
            "execution_count": 2, 
            "cell_type": "code", 
            "source": "val i: Int = l.toInt", 
            "metadata": {
                "collapsed": true
            }
        }, 
        {
            "source": "### Numeric Literals", 
            "cell_type": "markdown", 
            "metadata": {}
        }, 
        {
            "source": "Literal   Type    Description\n5         Int     Unadorned integer literals areIntby default\n0x0f      Int     The \u201c0x\u201d prefix denotes hexadecimal notation\n5l        Long    The \u201cl\u201d suffix denotes aLongtype\n5.0       Double  Unadorned decimal literals areDoubleby default \n5f        Float   The \u201cf\u201d suffix denotes aFloattype\n5d        Double  The \u201cd suffix denotes aDoubletype", 
            "cell_type": "raw", 
            "metadata": {}
        }, 
        {
            "outputs": [], 
            "execution_count": 3, 
            "cell_type": "code", 
            "source": "val yellowRgb = 0xffff00", 
            "metadata": {
                "collapsed": true
            }
        }, 
        {
            "outputs": [
                {
                    "data": {
                        "text/plain": "16776960"
                    }, 
                    "execution_count": 4, 
                    "metadata": {}, 
                    "output_type": "execute_result"
                }
            ], 
            "execution_count": 4, 
            "cell_type": "code", 
            "source": "yellowRgb", 
            "metadata": {
                "collapsed": false
            }
        }, 
        {
            "outputs": [], 
            "execution_count": 5, 
            "cell_type": "code", 
            "source": "val id = 100l", 
            "metadata": {
                "collapsed": true
            }
        }, 
        {
            "outputs": [
                {
                    "data": {
                        "text/plain": "100"
                    }, 
                    "execution_count": 6, 
                    "metadata": {}, 
                    "output_type": "execute_result"
                }
            ], 
            "execution_count": 6, 
            "cell_type": "code", 
            "source": "id", 
            "metadata": {
                "collapsed": false
            }
        }, 
        {
            "source": "### Strings", 
            "cell_type": "markdown", 
            "metadata": {}
        }, 
        {
            "outputs": [], 
            "execution_count": 10, 
            "cell_type": "code", 
            "source": "// BASIC\nval hello = \"Hello There\"", 
            "metadata": {
                "collapsed": true
            }
        }, 
        {
            "outputs": [
                {
                    "data": {
                        "text/plain": "Hello There"
                    }, 
                    "execution_count": 11, 
                    "metadata": {}, 
                    "output_type": "execute_result"
                }
            ], 
            "execution_count": 11, 
            "cell_type": "code", 
            "source": "hello", 
            "metadata": {
                "collapsed": false
            }
        }, 
        {
            "outputs": [], 
            "execution_count": 8, 
            "cell_type": "code", 
            "source": "// MULTIPLE LINES\nval signature = \"With Regards, \\nYour friend\"", 
            "metadata": {
                "collapsed": true
            }
        }, 
        {
            "outputs": [
                {
                    "data": {
                        "text/plain": "With Regards,\nYour friend"
                    }, 
                    "execution_count": 9, 
                    "metadata": {}, 
                    "output_type": "execute_result"
                }
            ], 
            "execution_count": 9, 
            "cell_type": "code", 
            "source": "signature", 
            "metadata": {
                "collapsed": false
            }
        }, 
        {
            "outputs": [
                {
                    "data": {
                        "text/plain": "Hello, World"
                    }, 
                    "execution_count": 12, 
                    "metadata": {}, 
                    "output_type": "execute_result"
                }
            ], 
            "execution_count": 12, 
            "cell_type": "code", 
            "source": "// CONCAT STRINGS\nval greeting = \"Hello, \" + \"World\"\ngreeting", 
            "metadata": {
                "collapsed": false
            }
        }, 
        {
            "outputs": [
                {
                    "data": {
                        "text/plain": "true"
                    }, 
                    "execution_count": 14, 
                    "metadata": {}, 
                    "output_type": "execute_result"
                }
            ], 
            "execution_count": 14, 
            "cell_type": "code", 
            "source": "// MATH OPERATIONS\nval matched = (greeting == \"Hello, World\")\nmatched", 
            "metadata": {
                "collapsed": false
            }
        }, 
        {
            "outputs": [
                {
                    "data": {
                        "text/plain": "\"She suggested reformatting the file\n by replacing tabs (\\t) with newlines (\\n);\n \"Why do that?\", he asked. \""
                    }, 
                    "execution_count": 18, 
                    "metadata": {}, 
                    "output_type": "execute_result"
                }
            ], 
            "execution_count": 18, 
            "cell_type": "code", 
            "source": "// MULTI LINE STRINGS USE TRIPLE QUOTES. Multiline strings are literal, and\n// so do not recognize the use of backslashes as the start of special characters\n\nval greeting = \"\"\"She suggested reformatting the file\n         | by replacing tabs (\\t) with newlines (\\n);\n         | \"Why do that?\", he asked. \"\"\"\ngreeting", 
            "metadata": {
                "collapsed": false
            }
        }, 
        {
            "source": "### String Interpolation\n\nSpecial mode where external value and variable names are recognized and resolved. The Scala notation for string interpolation is an \u201cs\u201d prefix added before the first double quote of the string. Then dollar sign operators ($) (with optional braces) can be used to note references to external data.", 
            "cell_type": "markdown", 
            "metadata": {}
        }, 
        {
            "outputs": [
                {
                    "name": "stdout", 
                    "output_type": "stream", 
                    "text": "Pi, using 355/113, is about 3.141593.\n"
                }
            ], 
            "execution_count": 19, 
            "cell_type": "code", 
            "source": "// WITHOUT INTERPOLATION\nval approx = 355/113f\nprintln(\"Pi, using 355/113, is about \" + approx + \".\" )", 
            "metadata": {
                "collapsed": false
            }
        }, 
        {
            "outputs": [
                {
                    "name": "stdout", 
                    "output_type": "stream", 
                    "text": "Pi, using 355/113, is about 3.141593.\n"
                }
            ], 
            "execution_count": 20, 
            "cell_type": "code", 
            "source": "// WITH\nprintln(s\"Pi, using 355/113, is about $approx.\" )", 
            "metadata": {
                "collapsed": false
            }
        }, 
        {
            "outputs": [
                {
                    "data": {
                        "text/plain": "How do you like them apples?"
                    }, 
                    "execution_count": 21, 
                    "metadata": {}, 
                    "output_type": "execute_result"
                }
            ], 
            "execution_count": 21, 
            "cell_type": "code", 
            "source": "val item = \"apple\"\ns\"How do you like them ${item}s?\"", 
            "metadata": {
                "collapsed": false
            }
        }, 
        {
            "outputs": [
                {
                    "data": {
                        "text/plain": "Fish n chips n vinegar, pepper pepper pepper salt"
                    }, 
                    "execution_count": 22, 
                    "metadata": {}, 
                    "output_type": "execute_result"
                }
            ], 
            "execution_count": 22, 
            "cell_type": "code", 
            "source": "//MAKE IT DISPLAY 3 TIMES\ns\"Fish n chips n vinegar, ${\"pepper \"*3}salt\"", 
            "metadata": {
                "collapsed": false
            }
        }, 
        {
            "source": "printf notation, very useful when you want to control the data formatting such as the character count or display of decimal values. To use printf notation change the prefix to an \u201cf \u201d and follow the end of the reference immediately with the printf notation", 
            "cell_type": "markdown", 
            "metadata": {}
        }, 
        {
            "outputs": [
                {
                    "data": {
                        "text/plain": "I wrote a new app today"
                    }, 
                    "execution_count": 23, 
                    "metadata": {}, 
                    "output_type": "execute_result"
                }
            ], 
            "execution_count": 23, 
            "cell_type": "code", 
            "source": "\nf\"I wrote a new $item%.3s today\"", 
            "metadata": {
                "collapsed": false
            }
        }, 
        {
            "outputs": [
                {
                    "data": {
                        "text/plain": "Enjoying this apple 3.14159 times today"
                    }, 
                    "execution_count": 24, 
                    "metadata": {}, 
                    "output_type": "execute_result"
                }
            ], 
            "execution_count": 24, 
            "cell_type": "code", 
            "source": "f\"Enjoying this $item ${355/113.0}%.5f times today\"", 
            "metadata": {
                "collapsed": false
            }
        }, 
        {
            "source": "### Regular Expressions\n\nBased off java.util.regex.Pattern\n\nmatches       \"Froggy want a' courting\" matches \".* courting     Retuns true if the regex matches the entire string\n\n\nreplaceAll    \"mile, tea, muck\" replaceAll (\"m[^ ]+k\", \"coffee\") Replaces all matches with the replacement text.\n\n\nreplaceFirst  \"milk,tea,muck\"replaceFirst(\"m[^]+k\", \"coffee\")    Replaces the first match with replacement text.\n", 
            "cell_type": "markdown", 
            "metadata": {}
        }, 
        {
            "source": "SYNTAX: val <Regex value>(<identifier>) = <input string>", 
            "cell_type": "raw", 
            "metadata": {}
        }, 
        {
            "outputs": [], 
            "execution_count": 25, 
            "cell_type": "code", 
            "source": "val input = \"Enjoying this apple 3.14159 times today\"", 
            "metadata": {
                "collapsed": true
            }
        }, 
        {
            "outputs": [], 
            "execution_count": 34, 
            "cell_type": "code", 
            "source": "//The capture group is the series of digits and a period between the words apple and times.\n\nval pattern = \"\"\".* apple ([\\d.]+) times .*\"\"\".r", 
            "metadata": {
                "collapsed": true
            }
        }, 
        {
            "outputs": [], 
            "execution_count": 31, 
            "cell_type": "code", 
            "source": "val pattern(amountText) = input", 
            "metadata": {
                "collapsed": false
            }
        }, 
        {
            "outputs": [], 
            "execution_count": 32, 
            "cell_type": "code", 
            "source": "val amount = amountText.toDouble", 
            "metadata": {
                "collapsed": true
            }
        }, 
        {
            "outputs": [
                {
                    "data": {
                        "text/plain": "3.14159"
                    }, 
                    "execution_count": 33, 
                    "metadata": {}, 
                    "output_type": "execute_result"
                }
            ], 
            "execution_count": 33, 
            "cell_type": "code", 
            "source": "amount", 
            "metadata": {
                "collapsed": false
            }
        }, 
        {
            "source": "### Type Operations (Conversions)", 
            "cell_type": "markdown", 
            "metadata": {}
        }, 
        {
            "outputs": [
                {
                    "data": {
                        "text/plain": "double"
                    }, 
                    "execution_count": 35, 
                    "metadata": {}, 
                    "output_type": "execute_result"
                }
            ], 
            "execution_count": 35, 
            "cell_type": "code", 
            "source": "//Returns the type (i.e., the class) of a value.\n(7.0 / 5).getClass", 
            "metadata": {
                "collapsed": false
            }
        }, 
        {
            "outputs": [
                {
                    "data": {
                        "text/plain": "5"
                    }, 
                    "execution_count": 36, 
                    "metadata": {}, 
                    "output_type": "execute_result"
                }
            ], 
            "execution_count": 36, 
            "cell_type": "code", 
            "source": "// (AVOID) Converts the value to a value of the desired type. Causes an error if the value is not compatible with the new type.\n5.asInstanceOf[Long]", 
            "metadata": {
                "collapsed": false
            }
        }, 
        {
            "outputs": [
                {
                    "data": {
                        "text/plain": "false"
                    }, 
                    "execution_count": 37, 
                    "metadata": {}, 
                    "output_type": "execute_result"
                }
            ], 
            "execution_count": 37, 
            "cell_type": "code", 
            "source": "//Returns true if the value has the given type.\n(5.0).isInstanceOf[Float]", 
            "metadata": {
                "collapsed": false
            }
        }, 
        {
            "outputs": [
                {
                    "data": {
                        "text/plain": "65"
                    }, 
                    "execution_count": 38, 
                    "metadata": {}, 
                    "output_type": "execute_result"
                }
            ], 
            "execution_count": 38, 
            "cell_type": "code", 
            "source": "// Returns the hash code of the value, useful for hash- based collections.\n\"A\".hashCode", 
            "metadata": {
                "collapsed": false
            }
        }, 
        {
            "outputs": [], 
            "execution_count": 39, 
            "cell_type": "code", 
            "source": "// Conversion functions to convert a value to a compatible value.\n20.toByte; 47.toFloat", 
            "metadata": {
                "collapsed": true
            }
        }, 
        {
            "outputs": [
                {
                    "data": {
                        "text/plain": "0.75"
                    }, 
                    "execution_count": 40, 
                    "metadata": {}, 
                    "output_type": "execute_result"
                }
            ], 
            "execution_count": 40, 
            "cell_type": "code", 
            "source": "// Renders the value to aString\n(3.0 / 4.0).toString", 
            "metadata": {
                "collapsed": false
            }
        }, 
        {
            "source": "### Tuples\n\nA tuple is an ordered container of two or more values, all of which may have different types.\nUnlike lists and arrays, however, there is no way to iterate through elements in a tuple. Its purpose is only as a container for more than one value.", 
            "cell_type": "markdown", 
            "metadata": {}
        }, 
        {
            "source": "SYNTAX: ( <value 1>, <value 2>[, <value 3>...] )", 
            "cell_type": "raw", 
            "metadata": {}
        }, 
        {
            "outputs": [
                {
                    "data": {
                        "text/plain": "(5,Korben,true)"
                    }, 
                    "execution_count": 41, 
                    "metadata": {}, 
                    "output_type": "execute_result"
                }
            ], 
            "execution_count": 41, 
            "cell_type": "code", 
            "source": "val info = (5, \"Korben\", true)\ninfo", 
            "metadata": {
                "collapsed": false
            }
        }, 
        {
            "outputs": [
                {
                    "data": {
                        "text/plain": "Korben"
                    }, 
                    "execution_count": 42, 
                    "metadata": {}, 
                    "output_type": "execute_result"
                }
            ], 
            "execution_count": 42, 
            "cell_type": "code", 
            "source": "//HOW TO ACCESS\nval name = info._2\nname", 
            "metadata": {
                "collapsed": false
            }
        }, 
        {
            "outputs": [
                {
                    "data": {
                        "text/plain": "(red,0xff0000)"
                    }, 
                    "execution_count": 44, 
                    "metadata": {}, 
                    "output_type": "execute_result"
                }
            ], 
            "execution_count": 44, 
            "cell_type": "code", 
            "source": "// An alternate form of creating a 2-sized tuple is with the relation operator (->).\nval red = \"red\" -> \"0xff0000\"\nred", 
            "metadata": {
                "collapsed": false
            }
        }, 
        {
            "outputs": [
                {
                    "data": {
                        "text/plain": "(0xff0000,red)"
                    }, 
                    "execution_count": 45, 
                    "metadata": {}, 
                    "output_type": "execute_result"
                }
            ], 
            "execution_count": 45, 
            "cell_type": "code", 
            "source": "val reversed = red._2 -> red._1\nreversed", 
            "metadata": {
                "collapsed": false
            }
        }, 
        {
            "source": "### Expressions", 
            "cell_type": "markdown", 
            "metadata": {}
        }, 
        {
            "source": "SYNTAX:\nval <identifier>[: <type>] = <expression>\nvar <identifier>[: <type>] = <expression>", 
            "cell_type": "raw", 
            "metadata": {}
        }, 
        {
            "outputs": [
                {
                    "data": {
                        "text/plain": "110"
                    }, 
                    "execution_count": 51, 
                    "metadata": {}, 
                    "output_type": "execute_result"
                }
            ], 
            "execution_count": 51, 
            "cell_type": "code", 
            "source": "//EXPRESSION BLOCKS\n// val x = 5 * 20; val amount = x + 10\n// vs. \nval amount = { \n    val x = 5 * 20\n    x + 10 \n    }\namount", 
            "metadata": {
                "collapsed": false
            }
        }, 
        {
            "source": "### If Statements", 
            "cell_type": "markdown", 
            "metadata": {}
        }, 
        {
            "source": "SYNTAX: if (<Boolean expression>) <expression>", 
            "cell_type": "raw", 
            "metadata": {}
        }, 
        {
            "outputs": [
                {
                    "name": "stdout", 
                    "output_type": "stream", 
                    "text": "Not a multiple of 3\n"
                }
            ], 
            "execution_count": 52, 
            "cell_type": "code", 
            "source": "if ( 47 % 3 > 0 ) println(\"Not a multiple of 3\")", 
            "metadata": {
                "collapsed": false
            }
        }, 
        {
            "outputs": [
                {
                    "data": {
                        "text/plain": "()"
                    }, 
                    "execution_count": 54, 
                    "metadata": {}, 
                    "output_type": "execute_result"
                }
            ], 
            "execution_count": 54, 
            "cell_type": "code", 
            "source": "//BETTER BECAUSE IT RETURNS SOMETHING, EVEN IF IT'S EMPTY\nval result = if ( false ) \"what does this return?\"\nresult", 
            "metadata": {
                "collapsed": false
            }
        }, 
        {
            "source": "### If-Else Expressions", 
            "cell_type": "markdown", 
            "metadata": {}
        }, 
        {
            "source": "SYNTAX:\n\n    if (<Boolean expression>) <expression>\n    else <expression>\n", 
            "cell_type": "raw", 
            "metadata": {}
        }, 
        {
            "outputs": [], 
            "execution_count": 55, 
            "cell_type": "code", 
            "source": "val x = 10; val y = 20", 
            "metadata": {
                "collapsed": true
            }
        }, 
        {
            "outputs": [
                {
                    "data": {
                        "text/plain": "20"
                    }, 
                    "execution_count": 57, 
                    "metadata": {}, 
                    "output_type": "execute_result"
                }
            ], 
            "execution_count": 57, 
            "cell_type": "code", 
            "source": "val max = if (x > y) x else y\nmax", 
            "metadata": {
                "collapsed": false
            }
        }, 
        {
            "source": "### Match Expressions\n\nScala devs prefer this over if/else. Match expressions are akin to C\u2019s and Java\u2019s \u201cswitch\u201d statements. Unlike them, only zero or one patterns can match; ", 
            "cell_type": "markdown", 
            "metadata": {}
        }, 
        {
            "source": "SYNTAX:\n\n<expression> match {\n      case <pattern match> => <expression>\n      [case...]\n}\n", 
            "cell_type": "raw", 
            "metadata": {}
        }, 
        {
            "outputs": [], 
            "execution_count": 59, 
            "cell_type": "code", 
            "source": "val x = 10; val y = 20", 
            "metadata": {
                "collapsed": true
            }
        }, 
        {
            "outputs": [
                {
                    "data": {
                        "text/plain": "20"
                    }, 
                    "execution_count": 70, 
                    "metadata": {}, 
                    "output_type": "execute_result"
                }
            ], 
            "execution_count": 70, 
            "cell_type": "code", 
            "source": "// EXAMPLE\nval max = x > y match {\n            case true => x\n            case false => y\n    }\nmax", 
            "metadata": {
                "collapsed": false
            }
        }, 
        {
            "outputs": [
                {
                    "name": "stdout", 
                    "output_type": "stream", 
                    "text": "ERROR - the service encountered an error\n"
                }, 
                {
                    "data": {
                        "text/plain": "error"
                    }, 
                    "execution_count": 71, 
                    "metadata": {}, 
                    "output_type": "execute_result"
                }
            ], 
            "execution_count": 71, 
            "cell_type": "code", 
            "source": "//Multiple Expressions on match\nval status = 500\nval message = status match {\ncase 200 =>\n    \"ok\"\ncase 400 => {\n    println(\"ERROR - we called the service incorrectly\")\n    \"error\"\n    }\ncase 500 => {\n    println(\"ERROR - the service encountered an error\")\n    \"error\"\n    }\n}\nmessage", 
            "metadata": {
                "collapsed": false
            }
        }, 
        {
            "outputs": [
                {
                    "data": {
                        "text/plain": "weekday"
                    }, 
                    "execution_count": 72, 
                    "metadata": {}, 
                    "output_type": "execute_result"
                }
            ], 
            "execution_count": 72, 
            "cell_type": "code", 
            "source": "//USING PIPES\nval day = \"MON\"\nval kind = day match {\n    case \"MON\" | \"TUE\" | \"WED\" | \"THU\" | \"FRI\" =>\n      \"weekday\"\n     case \"SAT\" | \"SUN\" =>\n      \"weekend\"\n}\nkind", 
            "metadata": {
                "collapsed": false
            }
        }, 
        {
            "source": "### Matching with Wildcard Patterns\n\nThere are two kinds of wildcard patterns you can use in a match expression: value binding and wildcard (aka \u201cunderscore\u201d) operators.\n", 
            "cell_type": "markdown", 
            "metadata": {}
        }, 
        {
            "outputs": [], 
            "execution_count": 75, 
            "cell_type": "code", 
            "source": "val message = \"Ok2\"", 
            "metadata": {
                "collapsed": true
            }
        }, 
        {
            "outputs": [
                {
                    "name": "stdout", 
                    "output_type": "stream", 
                    "text": "Couldn't parse Unauthorized Unauthorized\n"
                }, 
                {
                    "data": {
                        "text/plain": "-1"
                    }, 
                    "execution_count": 87, 
                    "metadata": {}, 
                    "output_type": "execute_result"
                }
            ], 
            "execution_count": 87, 
            "cell_type": "code", 
            "source": "// Value Binding\n// SYNTAX: case <identifier> => <one or more expressions>\nval status = message match {\n    case \"Ok\" => 200\n    case other => {\n        println(s\"Couldn't parse $other\")\n        -1\n    }\n}\nstatus", 
            "metadata": {
                "collapsed": false
            }
        }, 
        {
            "outputs": [
                {
                    "name": "stdout", 
                    "output_type": "stream", 
                    "text": "Couldn't parse Unauthorized\n"
                }
            ], 
            "execution_count": 86, 
            "cell_type": "code", 
            "source": "//A Wildcard Operator Pattern\n// SYNTAX : case _ => <one or more expressions>\nval message = \"Unauthorized\"\nval status = message match {\n    case \"Ok\" => 200\n    case _ => {\n        println(s\"Couldn't parse $message\")\n        -1\n    }\n}\n", 
            "metadata": {
                "collapsed": false
            }
        }, 
        {
            "source": "### Matching with Pattern Guards\n\nA pattern guard adds an if expression to a value-binding pattern, making it possible to mix conditional logic into match expressions. When a pattern guard is used the pattern will only be matched when the if expression returns true.", 
            "cell_type": "markdown", 
            "metadata": {}
        }, 
        {
            "source": "SYNTAX: case <pattern> if <Boolean expression> => <one or more expressions>", 
            "cell_type": "raw", 
            "metadata": {}
        }, 
        {
            "outputs": [
                {
                    "name": "stdout", 
                    "output_type": "stream", 
                    "text": "Error! Received a null response\n"
                }
            ], 
            "execution_count": 88, 
            "cell_type": "code", 
            "source": "val response: String = null\nresponse match {\n        case s if s != null => println(s\"Received '$s'\")\n        case s => println(\"Error! Received a null response\")\n      }", 
            "metadata": {
                "collapsed": false
            }
        }, 
        {
            "outputs": [
                {
                    "data": {
                        "text/plain": "12180i"
                    }, 
                    "execution_count": 89, 
                    "metadata": {}, 
                    "output_type": "execute_result"
                }
            ], 
            "execution_count": 89, 
            "cell_type": "code", 
            "source": "// BY TYPE\n// SYNTAX : case <identifier>: <type> => <one or more expressions>\n\nval x: Int = 12180\nval y: Any = x\n\ny match {\n        case x: String => s\"'x'\"\n        case x: Double => f\"$x%.2f\"\n        case x: Float => f\"$x%.2f\"\n        case x: Long => s\"${x}l\"\n        case x: Int => s\"${x}i\"\n      }", 
            "metadata": {
                "collapsed": false
            }
        }, 
        {
            "source": "### Loops", 
            "cell_type": "markdown", 
            "metadata": {}
        }, 
        {
            "source": "GENERAL SYNTAX : <starting integer> [to|until] <ending integer> [by increment]\n\nThe yield keyword is optional. If it is specified along with an expression, the return value of every expression that gets invoked will be returned as a collection. If it isn\u2019t specified, but the expression is still specified, the expression will be invoked but its return values will not be accessible.", 
            "cell_type": "raw", 
            "metadata": {}
        }, 
        {
            "outputs": [
                {
                    "name": "stdout", 
                    "output_type": "stream", 
                    "text": "Day 1:\nDay 2:\nDay 3:\nDay 4:\nDay 5:\nDay 6:\nDay 7:\n"
                }
            ], 
            "execution_count": 90, 
            "cell_type": "code", 
            "source": "//FOR LOOP : SYNTAX: for (<identifier> <- <iterator>) [yield] [<expression>]\n\nfor (x <- 1 to 7) { println(s\"Day $x:\") }", 
            "metadata": {
                "collapsed": false
            }
        }, 
        {
            "outputs": [], 
            "execution_count": 93, 
            "cell_type": "code", 
            "source": "//USE YEILD TO APPLY LIKE A MAP (TO EVERY LINE) THIS PRODUCES A VECTOR\nval x = for (x <- 1 to 7) yield { s\"Day $x:\" }", 
            "metadata": {
                "collapsed": false
            }
        }, 
        {
            "outputs": [
                {
                    "name": "stdout", 
                    "output_type": "stream", 
                    "text": "Day 1:, Day 2:, Day 3:, Day 4:, Day 5:, Day 6:, Day 7:, "
                }
            ], 
            "execution_count": 95, 
            "cell_type": "code", 
            "source": "for (day <- x) print(day + \", \")", 
            "metadata": {
                "collapsed": false
            }
        }, 
        {
            "source": "### Iterator Guards\n\nLike a pattern guard in a match expression, an iterator guard (also known as a filter) adds an if expression to an iterator. When an iterator guard is used, an iteration will be skipped unless the if expression returns true.", 
            "cell_type": "markdown", 
            "metadata": {}
        }, 
        {
            "source": "SYNTAX : for (<identifier> <- <iterator> if <Boolean expression>) ...", 
            "cell_type": "raw", 
            "metadata": {}
        }, 
        {
            "outputs": [
                {
                    "data": {
                        "text/plain": "Vector(3, 6, 9, 12, 15, 18)"
                    }, 
                    "execution_count": 96, 
                    "metadata": {}, 
                    "output_type": "execute_result"
                }
            ], 
            "execution_count": 96, 
            "cell_type": "code", 
            "source": "val threes = for (i <- 1 to 20 if i % 3 == 0) yield i\nthrees", 
            "metadata": {
                "collapsed": false
            }
        }, 
        {
            "outputs": [
                {
                    "name": "stdout", 
                    "output_type": "stream", 
                    "text": "Faith\nHope\nCharity\n"
                }
            ], 
            "execution_count": 97, 
            "cell_type": "code", 
            "source": "//MULTIPLE LINES\nval quote = \"Faith,Hope,,Charity\"\nfor {\n        t <- quote.split(\",\")\n        if t != null\n        if t.size > 0\n      }\n      { println(t) }", 
            "metadata": {
                "collapsed": false
            }
        }, 
        {
            "source": "### Nested Iterators", 
            "cell_type": "markdown", 
            "metadata": {}
        }, 
        {
            "outputs": [
                {
                    "name": "stdout", 
                    "output_type": "stream", 
                    "text": "(1,1) (1,2) (1,3) (2,1) (2,2) (2,3) "
                }
            ], 
            "execution_count": 98, 
            "cell_type": "code", 
            "source": "for { x <- 1 to 2\n      y <- 1 to 3 }\n      { print(s\"($x,$y) \") }", 
            "metadata": {
                "collapsed": false
            }
        }, 
        {
            "outputs": [
                {
                    "data": {
                        "text/plain": "Vector(1, 2, 4, 8, 16, 32, 64, 128, 256)"
                    }, 
                    "execution_count": 101, 
                    "metadata": {}, 
                    "output_type": "execute_result"
                }
            ], 
            "execution_count": 101, 
            "cell_type": "code", 
            "source": "val powersOf2 = for (i <- 0 to 8; pow = 1 << i) yield pow\npowersOf2", 
            "metadata": {
                "collapsed": false
            }
        }, 
        {
            "source": "### While and Do/While Loops", 
            "cell_type": "markdown", 
            "metadata": {}
        }, 
        {
            "source": "// SYNTAX : while (<Boolean expression>) statement", 
            "cell_type": "raw", 
            "metadata": {}
        }, 
        {
            "outputs": [
                {
                    "name": "stdout", 
                    "output_type": "stream", 
                    "text": "Here I am, x = 0\n"
                }, 
                {
                    "data": {
                        "text/plain": "0"
                    }, 
                    "execution_count": 104, 
                    "metadata": {}, 
                    "output_type": "execute_result"
                }
            ], 
            "execution_count": 104, 
            "cell_type": "code", 
            "source": "val x = 0\ndo println(s\"Here I am, x = $x\") while (x > 0)\nx", 
            "metadata": {
                "collapsed": false
            }
        }, 
        {
            "source": "## Functions", 
            "cell_type": "markdown", 
            "metadata": {}
        }, 
        {
            "source": "SYNTAX Defining a Function with a Return Type: def <identifier> = <expression>", 
            "cell_type": "raw", 
            "metadata": {}
        }, 
        {
            "outputs": [
                {
                    "data": {
                        "text/plain": "hi"
                    }, 
                    "execution_count": 2, 
                    "metadata": {}, 
                    "output_type": "execute_result"
                }
            ], 
            "execution_count": 2, 
            "cell_type": "code", 
            "source": "def hiFunction = \"hi\"\nhiFunction", 
            "metadata": {
                "collapsed": false
            }
        }, 
        {
            "source": "Syntax: Defining a Function : def <identifier>(<identifier>: <type>[, ... ]): <type> = <expression>", 
            "cell_type": "raw", 
            "metadata": {}
        }, 
        {
            "outputs": [
                {
                    "data": {
                        "text/plain": "42"
                    }, 
                    "execution_count": 106, 
                    "metadata": {}, 
                    "output_type": "execute_result"
                }
            ], 
            "execution_count": 106, 
            "cell_type": "code", 
            "source": "def multiplier(x: Int, y: Int): Int = { x * y }\nmultiplier(6, 7)", 
            "metadata": {
                "collapsed": false
            }
        }, 
        {
            "outputs": [
                {
                    "data": {
                        "text/plain": "null"
                    }, 
                    "execution_count": 3, 
                    "metadata": {}, 
                    "output_type": "execute_result"
                }
            ], 
            "execution_count": 3, 
            "cell_type": "code", 
            "source": "//BLOCK STATEMENT:\n\ndef safeTrim(s: String): String = {\n        if (s == null) return null\n        s.trim()\n      }\nsafeTrim(null)", 
            "metadata": {
                "collapsed": false
            }
        }, 
        {
            "source": "## First Class Functions", 
            "cell_type": "markdown", 
            "metadata": {}
        }, 
        {
            "outputs": [
                {
                    "data": {
                        "text/plain": "10"
                    }, 
                    "execution_count": 3, 
                    "metadata": {}, 
                    "output_type": "execute_result"
                }
            ], 
            "execution_count": 3, 
            "cell_type": "code", 
            "source": "def double(x: Int): Int = x * 2\ndouble(5)", 
            "metadata": {
                "collapsed": false
            }
        }, 
        {
            "outputs": [
                {
                    "data": {
                        "text/plain": "10"
                    }, 
                    "execution_count": 4, 
                    "metadata": {}, 
                    "output_type": "execute_result"
                }
            ], 
            "execution_count": 4, 
            "cell_type": "code", 
            "source": "val myDouble: (Int) => Int = double\nmyDouble(5)", 
            "metadata": {
                "collapsed": false
            }
        }, 
        {
            "outputs": [
                {
                    "data": {
                        "text/plain": "10"
                    }, 
                    "execution_count": 5, 
                    "metadata": {}, 
                    "output_type": "execute_result"
                }
            ], 
            "execution_count": 5, 
            "cell_type": "code", 
            "source": "val myDoubleCopy = myDouble\nmyDoubleCopy(5) ", 
            "metadata": {
                "collapsed": false
            }
        }, 
        {
            "outputs": [], 
            "execution_count": null, 
            "cell_type": "code", 
            "source": "// Assigning a function with the Wildcard operator\ndef double(x: Int): Int = x * 2\nval myDouble = double _\nval amount = myDouble(20)", 
            "metadata": {
                "collapsed": true
            }
        }, 
        {
            "outputs": [
                {
                    "data": {
                        "text/plain": "50"
                    }, 
                    "execution_count": 6, 
                    "metadata": {}, 
                    "output_type": "execute_result"
                }
            ], 
            "execution_count": 6, 
            "cell_type": "code", 
            "source": "//Another example\ndef max(a: Int, b: Int) = if (a > b) a else b\n\nval maximize: (Int, Int) => Int = max\nmaximize(50, 30)", 
            "metadata": {
                "collapsed": false
            }
        }, 
        {
            "outputs": [
                {
                    "data": {
                        "text/plain": "2"
                    }, 
                    "execution_count": 9, 
                    "metadata": {}, 
                    "output_type": "execute_result"
                }
            ], 
            "execution_count": 9, 
            "cell_type": "code", 
            "source": "val maximize2 = max _\nval test = maximize2(1,2)\ntest", 
            "metadata": {
                "collapsed": false
            }
        }, 
        {
            "outputs": [], 
            "execution_count": 10, 
            "cell_type": "code", 
            "source": "val doubler = (x: Int) => x * 2\nval doubled = doubler(22)", 
            "metadata": {
                "collapsed": true
            }
        }, 
        {
            "outputs": [
                {
                    "data": {
                        "text/plain": "Hello, World"
                    }, 
                    "execution_count": 14, 
                    "metadata": {}, 
                    "output_type": "execute_result"
                }
            ], 
            "execution_count": 14, 
            "cell_type": "code", 
            "source": "val greeter = (name: String) => s\"Hello, $name\"\nval hi = greeter(\"World\")\nhi", 
            "metadata": {
                "collapsed": false
            }
        }, 
        {
            "outputs": [], 
            "execution_count": null, 
            "cell_type": "code", 
            "source": "// The original max() function\ndef max(a: Int, b: Int) = if (a > b) a else b \n// as assigned to a function value \nval maximize: (Int, Int) => Int = max     \n// as redefined with a function literal (anonymous function)\nval maximize = (a: Int, b: Int) => if (a > b) a else b ", 
            "metadata": {
                "collapsed": true
            }
        }, 
        {
            "outputs": [], 
            "execution_count": null, 
            "cell_type": "code", 
            "source": "//Another example:\ndef logStart() = \"=\" * 50 + \"\\nStarting NOW\\n\" + \"=\" * 50\n//vs\nval start = () => \"=\" * 50 + \"\\nStarting NOW\\n\" + \"=\" * 50", 
            "metadata": {
                "collapsed": true
            }
        }, 
        {
            "outputs": [
                {
                    "data": {
                        "text/plain": "ydaeR"
                    }, 
                    "execution_count": 15, 
                    "metadata": {}, 
                    "output_type": "execute_result"
                }
            ], 
            "execution_count": 15, 
            "cell_type": "code", 
            "source": "//function literals can be defined inside of higher-order function invocations\n\ndef safeStringOp(s: String, f: String => String) = {\n        if (s != null) f(s) else s\n      }\n      \nsafeStringOp(null, (s: String) => s.reverse)\n\nsafeStringOp(\"Ready\", (s: String) => s.reverse)", 
            "metadata": {
                "collapsed": false
            }
        }, 
        {
            "outputs": [
                {
                    "data": {
                        "text/plain": "ydaeR"
                    }, 
                    "execution_count": 16, 
                    "metadata": {}, 
                    "output_type": "execute_result"
                }
            ], 
            "execution_count": 16, 
            "cell_type": "code", 
            "source": "//Simpler Syntax than above\n\nsafeStringOp(\"Ready\", s => s.reverse)", 
            "metadata": {
                "collapsed": false
            }
        }, 
        {
            "outputs": [
                {
                    "data": {
                        "text/plain": "ydaeR"
                    }, 
                    "execution_count": 18, 
                    "metadata": {}, 
                    "output_type": "execute_result"
                }
            ], 
            "execution_count": 18, 
            "cell_type": "code", 
            "source": "// Using a wildcard like above\nsafeStringOp(\"Ready\", _.reverse)", 
            "metadata": {
                "collapsed": false
            }
        }, 
        {
            "outputs": [
                {
                    "data": {
                        "text/plain": "2130"
                    }, 
                    "execution_count": 21, 
                    "metadata": {}, 
                    "output_type": "execute_result"
                }
            ], 
            "execution_count": 21, 
            "cell_type": "code", 
            "source": "def tripleOp[A,B](a: A, b: A, c: A, f: (A, A, A) => B) = f(a,b,c)\ntripleOp[Int,Int](23, 92, 14, _ * _ + _)", 
            "metadata": {
                "collapsed": false
            }
        }, 
        {
            "source": "### Procedures\nA procedure is a function that doesn\u2019t have a return value. ", 
            "cell_type": "markdown", 
            "metadata": {}
        }, 
        {
            "outputs": [
                {
                    "name": "stdout", 
                    "output_type": "stream", 
                    "text": "Got value 3.30\n"
                }
            ], 
            "execution_count": 108, 
            "cell_type": "code", 
            "source": "def log(d: Double) = println(f\"Got value $d%.2f\")\nlog(3.3)", 
            "metadata": {
                "collapsed": false
            }
        }, 
        {
            "outputs": [], 
            "execution_count": 2, 
            "cell_type": "code", 
            "source": "def formatEuro(amt: Double) = f\"\u20ac$amt%.2f\"", 
            "metadata": {
                "collapsed": true
            }
        }, 
        {
            "outputs": [
                {
                    "data": {
                        "text/plain": "\u20ac3.46"
                    }, 
                    "execution_count": 3, 
                    "metadata": {}, 
                    "output_type": "execute_result"
                }
            ], 
            "execution_count": 3, 
            "cell_type": "code", 
            "source": "formatEuro(3.4645)", 
            "metadata": {
                "collapsed": false
            }
        }, 
        {
            "outputs": [
                {
                    "data": {
                        "text/plain": "\u20ac7.97"
                    }, 
                    "execution_count": 4, 
                    "metadata": {}, 
                    "output_type": "execute_result"
                }
            ], 
            "execution_count": 4, 
            "cell_type": "code", 
            "source": "formatEuro { val rate = 1.32; 0.235 + 0.7123 + rate * 5.32 }", 
            "metadata": {
                "collapsed": false
            }
        }, 
        {
            "source": "### Recursive Functions", 
            "cell_type": "markdown", 
            "metadata": {}
        }, 
        {
            "outputs": [
                {
                    "data": {
                        "text/plain": "256"
                    }, 
                    "execution_count": 5, 
                    "metadata": {}, 
                    "output_type": "execute_result"
                }
            ], 
            "execution_count": 5, 
            "cell_type": "code", 
            "source": "def power(x: Int, n: Int): Long = {\n        if (n >= 1) x * power(x, n-1)\n        else 1\n      }\npower(2, 8)", 
            "metadata": {
                "collapsed": false
            }
        }, 
        {
            "source": "### Nested Functions", 
            "cell_type": "markdown", 
            "metadata": {}
        }, 
        {
            "outputs": [
                {
                    "data": {
                        "text/plain": "181"
                    }, 
                    "execution_count": 6, 
                    "metadata": {}, 
                    "output_type": "execute_result"
                }
            ], 
            "execution_count": 6, 
            "cell_type": "code", 
            "source": "def max(a: Int, b: Int, c: Int) = {\n        def max(x: Int, y: Int) = if (x > y) x else y\n        max(a, max(b, c))\n      }\nmax(42, 181, 19)", 
            "metadata": {
                "collapsed": false
            }
        }, 
        {
            "source": "### Specifying a Parameter by Name", 
            "cell_type": "markdown", 
            "metadata": {}
        }, 
        {
            "outputs": [
                {
                    "data": {
                        "text/plain": "Mr Brown"
                    }, 
                    "execution_count": 8, 
                    "metadata": {}, 
                    "output_type": "execute_result"
                }
            ], 
            "execution_count": 8, 
            "cell_type": "code", 
            "source": "def greet(prefix: String, name: String) = s\"$prefix $name\"\nval greeting1 = greet(\"Ms\", \"Brown\")\ngreeting1\nval greeting2 = greet(name = \"Brown\", prefix = \"Mr\")\ngreeting2", 
            "metadata": {
                "collapsed": false
            }
        }, 
        {
            "source": "### Specifying a Default Value for a Function Parameter", 
            "cell_type": "markdown", 
            "metadata": {}
        }, 
        {
            "outputs": [
                {
                    "data": {
                        "text/plain": "Paul"
                    }, 
                    "execution_count": 9, 
                    "metadata": {}, 
                    "output_type": "execute_result"
                }
            ], 
            "execution_count": 9, 
            "cell_type": "code", 
            "source": "def greet(prefix: String = \"\", name: String) = s\"$prefix$name\"\nval greeting1 = greet(name = \"Paul\")\ngreeting1", 
            "metadata": {
                "collapsed": false
            }
        }, 
        {
            "outputs": [
                {
                    "data": {
                        "text/plain": "Ms. Ola"
                    }, 
                    "execution_count": 14, 
                    "metadata": {}, 
                    "output_type": "execute_result"
                }
            ], 
            "execution_count": 14, 
            "cell_type": "code", 
            "source": "def greet(name: String, prefix: String = \"Ms. \") = s\"$prefix$name\"\nval greeting2 = greet(\"Ola\")\ngreeting2", 
            "metadata": {
                "collapsed": false
            }
        }, 
        {
            "source": "### Vararg Parameters", 
            "cell_type": "markdown", 
            "metadata": {}
        }, 
        {
            "outputs": [
                {
                    "data": {
                        "text/plain": "60"
                    }, 
                    "execution_count": 15, 
                    "metadata": {}, 
                    "output_type": "execute_result"
                }
            ], 
            "execution_count": 15, 
            "cell_type": "code", 
            "source": "def sum(items: Int*): Int = {\n        var total = 0\n        for (i <- items) total += i\n        total\n      }\nsum(10, 20, 30)", 
            "metadata": {
                "collapsed": false
            }
        }, 
        {
            "source": "### Parameter Groups\n\nOption to break these into groups of parameters, each separated with their own parentheses.", 
            "cell_type": "markdown", 
            "metadata": {}
        }, 
        {
            "outputs": [
                {
                    "data": {
                        "text/plain": "39"
                    }, 
                    "execution_count": 17, 
                    "metadata": {}, 
                    "output_type": "execute_result"
                }
            ], 
            "execution_count": 17, 
            "cell_type": "code", 
            "source": "def max(x: Int)(y: Int) = if (x > y) x else y\nval larger = max(20)(39)\nlarger", 
            "metadata": {
                "collapsed": false
            }
        }, 
        {
            "source": "## Common Collections", 
            "cell_type": "markdown", 
            "metadata": {}
        }, 
        {
            "source": "### Lists, Sets, and Maps", 
            "cell_type": "markdown", 
            "metadata": {}
        }, 
        {
            "outputs": [
                {
                    "name": "stdout", 
                    "output_type": "stream", 
                    "text": "I have 3 colors: List(red, green, blue)\n"
                }
            ], 
            "execution_count": 19, 
            "cell_type": "code", 
            "source": "//NUMBERS EXAMPLE\nval numbers = List(32, 95, 24, 21, 17)\n\n//STRINGS EXAMPLE\nval colors = List(\"red\", \"green\", \"blue\")\nprintln(s\"I have ${colors.size} colors: $colors\")", 
            "metadata": {
                "collapsed": false
            }
        }, 
        {
            "outputs": [
                {
                    "data": {
                        "text/plain": "red"
                    }, 
                    "execution_count": 20, 
                    "metadata": {}, 
                    "output_type": "execute_result"
                }
            ], 
            "execution_count": 20, 
            "cell_type": "code", 
            "source": "colors.head", 
            "metadata": {
                "collapsed": false
            }
        }, 
        {
            "outputs": [
                {
                    "data": {
                        "text/plain": "List(green, blue)"
                    }, 
                    "execution_count": 21, 
                    "metadata": {}, 
                    "output_type": "execute_result"
                }
            ], 
            "execution_count": 21, 
            "cell_type": "code", 
            "source": "colors.tail", 
            "metadata": {
                "collapsed": false
            }
        }, 
        {
            "outputs": [
                {
                    "data": {
                        "text/plain": "green"
                    }, 
                    "execution_count": 22, 
                    "metadata": {}, 
                    "output_type": "execute_result"
                }
            ], 
            "execution_count": 22, 
            "cell_type": "code", 
            "source": "colors(1)", 
            "metadata": {
                "collapsed": false
            }
        }, 
        {
            "outputs": [
                {
                    "data": {
                        "text/plain": "blue"
                    }, 
                    "execution_count": 23, 
                    "metadata": {}, 
                    "output_type": "execute_result"
                }
            ], 
            "execution_count": 23, 
            "cell_type": "code", 
            "source": "colors(2)", 
            "metadata": {
                "collapsed": false
            }
        }, 
        {
            "outputs": [
                {
                    "data": {
                        "text/plain": "189"
                    }, 
                    "execution_count": 25, 
                    "metadata": {}, 
                    "output_type": "execute_result"
                }
            ], 
            "execution_count": 25, 
            "cell_type": "code", 
            "source": "//HOW TO APPLY TO FOR LOOPS\nvar total = 0; for (i <- numbers) { total += i }\ntotal", 
            "metadata": {
                "collapsed": false
            }
        }, 
        {
            "outputs": [
                {
                    "name": "stdout", 
                    "output_type": "stream", 
                    "text": "red\ngreen\nblue\n"
                }
            ], 
            "execution_count": 26, 
            "cell_type": "code", 
            "source": "for (c <- colors) { println(c) }", 
            "metadata": {
                "collapsed": false
            }
        }, 
        {
            "outputs": [
                {
                    "name": "stdout", 
                    "output_type": "stream", 
                    "text": "red\ngreen\nblue\n"
                }
            ], 
            "execution_count": 27, 
            "cell_type": "code", 
            "source": "// foreach() takes a function (a procedure, to be accurate) and invokes it with every item in the list.\ncolors.foreach( (c: String) => println(c) )", 
            "metadata": {
                "collapsed": false
            }
        }, 
        {
            "outputs": [
                {
                    "data": {
                        "text/plain": "List(3, 5, 4)"
                    }, 
                    "execution_count": 28, 
                    "metadata": {}, 
                    "output_type": "execute_result"
                }
            ], 
            "execution_count": 28, 
            "cell_type": "code", 
            "source": "// map() takes a function that converts a single list element to another value and/or type. \nval sizes = colors.map( (c: String) => c.size )\nsizes", 
            "metadata": {
                "collapsed": false
            }
        }, 
        {
            "outputs": [
                {
                    "data": {
                        "text/plain": "189"
                    }, 
                    "execution_count": 30, 
                    "metadata": {}, 
                    "output_type": "execute_result"
                }
            ], 
            "execution_count": 30, 
            "cell_type": "code", 
            "source": "// reduce() takes a function that combines two list elements into a single element. \nval total = numbers.reduce( (a: Int, b: Int) => a + b )\ntotal", 
            "metadata": {
                "collapsed": false
            }
        }, 
        {
            "outputs": [
                {
                    "data": {
                        "text/plain": "60"
                    }, 
                    "execution_count": 4, 
                    "metadata": {}, 
                    "output_type": "execute_result"
                }
            ], 
            "execution_count": 4, 
            "cell_type": "code", 
            "source": "//A Set is an immutable and unordered collection of unique elements, but works similarly to List. \nval unique = Set(10, 20, 30, 20, 20, 10)\n// The result below is Set(10, 20, 30)\nval sum = unique.reduce( (a: Int, b: Int) => a + b )\nsum", 
            "metadata": {
                "collapsed": false
            }
        }, 
        {
            "outputs": [], 
            "execution_count": 6, 
            "cell_type": "code", 
            "source": "//Maps\nval colorMap = Map(\"red\" -> 0xFF0000, \"green\" -> 0xFF00, \"blue\" -> 0xFF)", 
            "metadata": {
                "collapsed": true
            }
        }, 
        {
            "outputs": [
                {
                    "data": {
                        "text/plain": "16711680"
                    }, 
                    "execution_count": 7, 
                    "metadata": {}, 
                    "output_type": "execute_result"
                }
            ], 
            "execution_count": 7, 
            "cell_type": "code", 
            "source": "val redRGB = colorMap(\"red\")\nredRGB", 
            "metadata": {
                "collapsed": false
            }
        }, 
        {
            "outputs": [
                {
                    "data": {
                        "text/plain": "65535"
                    }, 
                    "execution_count": 9, 
                    "metadata": {}, 
                    "output_type": "execute_result"
                }
            ], 
            "execution_count": 9, 
            "cell_type": "code", 
            "source": "//Does an OR operation on the bits, FFFF = 65535\nval cyanRGB = colorMap(\"green\") | colorMap(\"blue\")\ncyanRGB", 
            "metadata": {
                "collapsed": false
            }
        }, 
        {
            "outputs": [
                {
                    "data": {
                        "text/plain": "false"
                    }, 
                    "execution_count": 11, 
                    "metadata": {}, 
                    "output_type": "execute_result"
                }
            ], 
            "execution_count": 11, 
            "cell_type": "code", 
            "source": "val hasWhite = colorMap.contains(\"white\")\nhasWhite", 
            "metadata": {
                "collapsed": false
            }
        }, 
        {
            "outputs": [
                {
                    "name": "stdout", 
                    "output_type": "stream", 
                    "text": "(red,16711680)\n(green,65280)\n(blue,255)\n"
                }
            ], 
            "execution_count": 12, 
            "cell_type": "code", 
            "source": " for (pairs <- colorMap) { println(pairs) }", 
            "metadata": {
                "collapsed": false
            }
        }, 
        {
            "source": "#### List", 
            "cell_type": "markdown", 
            "metadata": {}
        }, 
        {
            "outputs": [], 
            "execution_count": 13, 
            "cell_type": "code", 
            "source": "val colors = List(\"red\", \"green\", \"blue\")", 
            "metadata": {
                "collapsed": true
            }
        }, 
        {
            "outputs": [], 
            "execution_count": 15, 
            "cell_type": "code", 
            "source": "// List containing collections\nval oddsAndEvents = List(List(1, 3, 5), List(2, 4, 6))", 
            "metadata": {
                "collapsed": true
            }
        }, 
        {
            "outputs": [], 
            "execution_count": 16, 
            "cell_type": "code", 
            "source": "// Tuples:\n\nval keyValues = List(('A', 65), ('B',66), ('C',67))", 
            "metadata": {
                "collapsed": true
            }
        }, 
        {
            "outputs": [
                {
                    "data": {
                        "text/plain": "2"
                    }, 
                    "execution_count": 18, 
                    "metadata": {}, 
                    "output_type": "execute_result"
                }
            ], 
            "execution_count": 18, 
            "cell_type": "code", 
            "source": "//ACCESS\nval primes = List(2, 3, 5, 7, 11, 13)\nval first = primes(0)\nfirst", 
            "metadata": {
                "collapsed": false
            }
        }, 
        {
            "outputs": [
                {
                    "data": {
                        "text/plain": "2"
                    }, 
                    "execution_count": 19, 
                    "metadata": {}, 
                    "output_type": "execute_result"
                }
            ], 
            "execution_count": 19, 
            "cell_type": "code", 
            "source": "val first = primes.head\nfirst", 
            "metadata": {
                "collapsed": false
            }
        }, 
        {
            "outputs": [
                {
                    "data": {
                        "text/plain": "List(3, 5, 7, 11, 13)"
                    }, 
                    "execution_count": 20, 
                    "metadata": {}, 
                    "output_type": "execute_result"
                }
            ], 
            "execution_count": 20, 
            "cell_type": "code", 
            "source": "// A List is an immutable and recursive data structure, so each item in the list has its own head and incrementally shorter tail. \nval remaining = primes.tail\nremaining", 
            "metadata": {
                "collapsed": false
            }
        }, 
        {
            "outputs": [
                {
                    "name": "stdout", 
                    "output_type": "stream", 
                    "text": "2, 3, 5, 7, 11, 13, "
                }
            ], 
            "execution_count": 21, 
            "cell_type": "code", 
            "source": "val primes = List(2, 3, 5, 7, 11, 13)\nvar i = primes\nwhile(! i.isEmpty) { print(i.head + \", \"); i = i.tail }", 
            "metadata": {
                "collapsed": false
            }
        }, 
        {
            "outputs": [
                {
                    "name": "stdout", 
                    "output_type": "stream", 
                    "text": "2, 3, 5, 7, 11, 13, "
                }
            ], 
            "execution_count": 23, 
            "cell_type": "code", 
            "source": "// Or, in recursive form, here is a function that traverses the list without using a mutable variable:\nval primes = List(2, 3, 5, 7, 11, 13)\n\ndef visit(i: List[Int]) { if (i.size > 0) { print(i.head + \", \");\n        visit(i.tail) } }\n        \nvisit(primes)", 
            "metadata": {
                "collapsed": false
            }
        }, 
        {
            "outputs": [
                {
                    "name": "stdout", 
                    "output_type": "stream", 
                    "text": "2, 3, 5, 7, 11, 13, "
                }
            ], 
            "execution_count": 24, 
            "cell_type": "code", 
            "source": "visit(primes)", 
            "metadata": {
                "collapsed": false
            }
        }, 
        {
            "outputs": [
                {
                    "name": "stdout", 
                    "output_type": "stream", 
                    "text": "2, 3, 5, 7, 11, 13, "
                }
            ], 
            "execution_count": 25, 
            "cell_type": "code", 
            "source": "// All lists end with an instance of Nil as their terminus, so an iterator can check for the list\u2019s end by comparing the current element to Nil\n// Nil is essentially a singleton instance of List[Nothing], Creating a new, empty list will actually return Nil instead of a fresh instance. \nval primes = List(2, 3, 5, 7, 11, 13)\nvar i = primes\nwhile(i != Nil) { print(i.head + \", \"); i = i.tail }", 
            "metadata": {
                "collapsed": false
            }
        }, 
        {
            "outputs": [
                {
                    "data": {
                        "text/plain": "List()"
                    }, 
                    "execution_count": 26, 
                    "metadata": {}, 
                    "output_type": "execute_result"
                }
            ], 
            "execution_count": 26, 
            "cell_type": "code", 
            "source": "// Likewise, creating a new list that has a single entry just creates a single list element that points to Nil as its tail.\nval l: List[Int] = List()\nl", 
            "metadata": {
                "collapsed": false
            }
        }, 
        {
            "outputs": [
                {
                    "data": {
                        "text/plain": "true"
                    }, 
                    "execution_count": 27, 
                    "metadata": {}, 
                    "output_type": "execute_result"
                }
            ], 
            "execution_count": 27, 
            "cell_type": "code", 
            "source": "l == Nil", 
            "metadata": {
                "collapsed": false
            }
        }, 
        {
            "outputs": [
                {
                    "data": {
                        "text/plain": "a"
                    }, 
                    "execution_count": 29, 
                    "metadata": {}, 
                    "output_type": "execute_result"
                }
            ], 
            "execution_count": 29, 
            "cell_type": "code", 
            "source": "val m: List[String] = List(\"a\")\nm.head", 
            "metadata": {
                "collapsed": false
            }
        }, 
        {
            "outputs": [
                {
                    "data": {
                        "text/plain": "true"
                    }, 
                    "execution_count": 30, 
                    "metadata": {}, 
                    "output_type": "execute_result"
                }
            ], 
            "execution_count": 30, 
            "cell_type": "code", 
            "source": " m.tail == Nil", 
            "metadata": {
                "collapsed": false
            }
        }, 
        {
            "source": "#### The Cons Operator", 
            "cell_type": "markdown", 
            "metadata": {}
        }, 
        {
            "outputs": [], 
            "execution_count": 31, 
            "cell_type": "code", 
            "source": "// :: is simply a method in List. It takes a single value that becomes the head of a new list, its tail pointing to the list on which :: was called\nval numbers = 1 :: 2 :: 3 :: Nil", 
            "metadata": {
                "collapsed": true
            }
        }, 
        {
            "source": "#### List Arithmetic", 
            "cell_type": "markdown", 
            "metadata": {}
        }, 
        {
            "outputs": [
                {
                    "data": {
                        "text/plain": "List(1, 2)"
                    }, 
                    "execution_count": 32, 
                    "metadata": {}, 
                    "output_type": "execute_result"
                }
            ], 
            "execution_count": 32, 
            "cell_type": "code", 
            "source": "1 :: 2 :: Nil", 
            "metadata": {
                "collapsed": false
            }
        }, 
        {
            "outputs": [
                {
                    "data": {
                        "text/plain": "List(1, 2, 2, 3)"
                    }, 
                    "execution_count": 33, 
                    "metadata": {}, 
                    "output_type": "execute_result"
                }
            ], 
            "execution_count": 33, 
            "cell_type": "code", 
            "source": "List(1, 2) ::: List(2, 3)", 
            "metadata": {
                "collapsed": false
            }
        }, 
        {
            "outputs": [
                {
                    "data": {
                        "text/plain": "List(1, 2, 3, 4)"
                    }, 
                    "execution_count": 34, 
                    "metadata": {}, 
                    "output_type": "execute_result"
                }
            ], 
            "execution_count": 34, 
            "cell_type": "code", 
            "source": "List(1, 2) ++ Set(3, 4, 3)", 
            "metadata": {
                "collapsed": false
            }
        }, 
        {
            "outputs": [
                {
                    "data": {
                        "text/plain": "true"
                    }, 
                    "execution_count": 35, 
                    "metadata": {}, 
                    "output_type": "execute_result"
                }
            ], 
            "execution_count": 35, 
            "cell_type": "code", 
            "source": "// Returns true if the collection types and contents are equal.\n\nList(1, 2) == List(1, 2)", 
            "metadata": {
                "collapsed": false
            }
        }, 
        {
            "outputs": [
                {
                    "data": {
                        "text/plain": "List(3, 5, 4)"
                    }, 
                    "execution_count": 36, 
                    "metadata": {}, 
                    "output_type": "execute_result"
                }
            ], 
            "execution_count": 36, 
            "cell_type": "code", 
            "source": "List(3, 5, 4, 3, 4).distinct", 
            "metadata": {
                "collapsed": false
            }
        }, 
        {
            "outputs": [
                {
                    "data": {
                        "text/plain": "List(c, d)"
                    }, 
                    "execution_count": 48, 
                    "metadata": {}, 
                    "output_type": "execute_result"
                }
            ], 
            "execution_count": 48, 
            "cell_type": "code", 
            "source": "// Subtracts the first n elements from the list.\nList('a', 'b', 'c', 'd') drop 2", 
            "metadata": {
                "collapsed": false
            }
        }, 
        {
            "outputs": [
                {
                    "data": {
                        "text/plain": "List(1, 2, 3, 4)"
                    }, 
                    "execution_count": 38, 
                    "metadata": {}, 
                    "output_type": "execute_result"
                }
            ], 
            "execution_count": 38, 
            "cell_type": "code", 
            "source": "List(List(1, 2), List(3, 4)).flatten", 
            "metadata": {
                "collapsed": false
            }
        }, 
        {
            "outputs": [
                {
                    "data": {
                        "text/plain": "(List(1, 2),List(3, 4, 5))"
                    }, 
                    "execution_count": 39, 
                    "metadata": {}, 
                    "output_type": "execute_result"
                }
            ], 
            "execution_count": 39, 
            "cell_type": "code", 
            "source": "// Groups elements into a tuple of two lists based on the result of a true/false function.\nList(1, 2, 3, 4, 5) partition (_ < 3)", 
            "metadata": {
                "collapsed": false
            }
        }, 
        {
            "outputs": [
                {
                    "data": {
                        "text/plain": "List(3, 2, 1)"
                    }, 
                    "execution_count": 40, 
                    "metadata": {}, 
                    "output_type": "execute_result"
                }
            ], 
            "execution_count": 40, 
            "cell_type": "code", 
            "source": "// Reverses the list.\nList(1, 2, 3).reverse", 
            "metadata": {
                "collapsed": false
            }
        }, 
        {
            "outputs": [
                {
                    "data": {
                        "text/plain": "List(3, 5)"
                    }, 
                    "execution_count": 41, 
                    "metadata": {}, 
                    "output_type": "execute_result"
                }
            ], 
            "execution_count": 41, 
            "cell_type": "code", 
            "source": "// Returns a segment of the list from the first index up to but not including the second index.\nList(2, 3, 5, 7) slice (1, 3)", 
            "metadata": {
                "collapsed": false
            }
        }, 
        {
            "outputs": [
                {
                    "data": {
                        "text/plain": "List(to, apple)"
                    }, 
                    "execution_count": 42, 
                    "metadata": {}, 
                    "output_type": "execute_result"
                }
            ], 
            "execution_count": 42, 
            "cell_type": "code", 
            "source": "List(\"apple\", \"to\") sortBy (_.size)", 
            "metadata": {
                "collapsed": false
            }
        }, 
        {
            "outputs": [
                {
                    "data": {
                        "text/plain": "(List(2, 3),List(5, 7))"
                    }, 
                    "execution_count": 43, 
                    "metadata": {}, 
                    "output_type": "execute_result"
                }
            ], 
            "execution_count": 43, 
            "cell_type": "code", 
            "source": "// Groups elements into a tuple of two lists based on if they fall before or after the given index.\nList(2, 3, 5, 7) splitAt 2", 
            "metadata": {
                "collapsed": false
            }
        }, 
        {
            "outputs": [
                {
                    "data": {
                        "text/plain": "List(2, 3, 5)"
                    }, 
                    "execution_count": 44, 
                    "metadata": {}, 
                    "output_type": "execute_result"
                }
            ], 
            "execution_count": 44, 
            "cell_type": "code", 
            "source": "List(2, 3, 5, 7, 11, 13) take 3", 
            "metadata": {
                "collapsed": false
            }
        }, 
        {
            "outputs": [
                {
                    "data": {
                        "text/plain": "List((1,a), (2,b))"
                    }, 
                    "execution_count": 45, 
                    "metadata": {}, 
                    "output_type": "execute_result"
                }
            ], 
            "execution_count": 45, 
            "cell_type": "code", 
            "source": "// Combines two lists into a list of tuples of elements at each index.\nList(1, 2) zip List(\"a\", \"b\")", 
            "metadata": {
                "collapsed": false
            }
        }, 
        {
            "outputs": [
                {
                    "data": {
                        "text/plain": "List()"
                    }, 
                    "execution_count": 53, 
                    "metadata": {}, 
                    "output_type": "execute_result"
                }
            ], 
            "execution_count": 53, 
            "cell_type": "code", 
            "source": "// it\u2019s still considered good form to prefer operations on the start of a list over those that work on the end.\nNil", 
            "metadata": {
                "collapsed": false
            }
        }, 
        {
            "source": "#### Mapping Lists\n\nMap methods are those that take a function and apply it to every member of a list, collecting the results into a new list.\n\n", 
            "cell_type": "markdown", 
            "metadata": {}
        }, 
        {
            "outputs": [
                {
                    "data": {
                        "text/plain": "List(not ok, ok, not ok)"
                    }, 
                    "execution_count": 57, 
                    "metadata": {}, 
                    "output_type": "execute_result"
                }
            ], 
            "execution_count": 57, 
            "cell_type": "code", 
            "source": "// Transforms each element using a partial function, retaining applicable elements.\nList(0, 1, 0) collect {case 1 => \"ok\" case 0 => \"not ok\"}", 
            "metadata": {
                "collapsed": false
            }
        }, 
        {
            "outputs": [
                {
                    "data": {
                        "text/plain": "List(milk, tea)"
                    }, 
                    "execution_count": 59, 
                    "metadata": {}, 
                    "output_type": "execute_result"
                }
            ], 
            "execution_count": 59, 
            "cell_type": "code", 
            "source": "//Transforms each element using the given function and \u201cflattens\u201d the list of results into this list.\nList(\"milk.tea\") flatMap (_.split('.'))", 
            "metadata": {
                "collapsed": false
            }
        }, 
        {
            "outputs": [
                {
                    "data": {
                        "text/plain": "List(MILK, TEA)"
                    }, 
                    "execution_count": 60, 
                    "metadata": {}, 
                    "output_type": "execute_result"
                }
            ], 
            "execution_count": 60, 
            "cell_type": "code", 
            "source": "//  Transforms each element using the given function.\nList(\"milk\",\"tea\") map (_.toUpperCase)", 
            "metadata": {
                "collapsed": false
            }
        }, 
        {
            "source": "#### Reducing Lists", 
            "cell_type": "markdown", 
            "metadata": {}
        }, 
        {
            "outputs": [
                {
                    "data": {
                        "text/plain": "59"
                    }, 
                    "execution_count": 61, 
                    "metadata": {}, 
                    "output_type": "execute_result"
                }
            ], 
            "execution_count": 61, 
            "cell_type": "code", 
            "source": "List(41, 59, 26).max", 
            "metadata": {
                "collapsed": false
            }
        }, 
        {
            "outputs": [
                {
                    "data": {
                        "text/plain": "4.23"
                    }, 
                    "execution_count": 62, 
                    "metadata": {}, 
                    "output_type": "execute_result"
                }
            ], 
            "execution_count": 62, 
            "cell_type": "code", 
            "source": "List(10.9, 32.5, 4.23, 5.67).min", 
            "metadata": {
                "collapsed": false
            }
        }, 
        {
            "outputs": [
                {
                    "data": {
                        "text/plain": "210"
                    }, 
                    "execution_count": 63, 
                    "metadata": {}, 
                    "output_type": "execute_result"
                }
            ], 
            "execution_count": 63, 
            "cell_type": "code", 
            "source": "List(5, 6, 7).product", 
            "metadata": {
                "collapsed": false
            }
        }, 
        {
            "outputs": [
                {
                    "data": {
                        "text/plain": "42.0"
                    }, 
                    "execution_count": 64, 
                    "metadata": {}, 
                    "output_type": "execute_result"
                }
            ], 
            "execution_count": 64, 
            "cell_type": "code", 
            "source": "List(11.3, 23.5, 7.2).sum", 
            "metadata": {
                "collapsed": false
            }
        }, 
        {
            "outputs": [
                {
                    "data": {
                        "text/plain": "true"
                    }, 
                    "execution_count": 65, 
                    "metadata": {}, 
                    "output_type": "execute_result"
                }
            ], 
            "execution_count": 65, 
            "cell_type": "code", 
            "source": "List(34, 29, 18) contains 29", 
            "metadata": {
                "collapsed": false
            }
        }, 
        {
            "outputs": [
                {
                    "data": {
                        "text/plain": "true"
                    }, 
                    "execution_count": 66, 
                    "metadata": {}, 
                    "output_type": "execute_result"
                }
            ], 
            "execution_count": 66, 
            "cell_type": "code", 
            "source": "List(0, 4, 3) endsWith List(4, 3)", 
            "metadata": {
                "collapsed": false
            }
        }, 
        {
            "outputs": [
                {
                    "data": {
                        "text/plain": "true"
                    }, 
                    "execution_count": 67, 
                    "metadata": {}, 
                    "output_type": "execute_result"
                }
            ], 
            "execution_count": 67, 
            "cell_type": "code", 
            "source": "// Checks if a predicate holds true for at least one element in the list.\nList(24, 17, 32) exists (_ < 18)", 
            "metadata": {
                "collapsed": false
            }
        }, 
        {
            "outputs": [
                {
                    "data": {
                        "text/plain": "false"
                    }, 
                    "execution_count": 68, 
                    "metadata": {}, 
                    "output_type": "execute_result"
                }
            ], 
            "execution_count": 68, 
            "cell_type": "code", 
            "source": "// Checks if a predicate holds true for every element in the list.\nList(24, 17, 32) forall (_ < 18)", 
            "metadata": {
                "collapsed": false
            }
        }, 
        {
            "outputs": [
                {
                    "data": {
                        "text/plain": "true"
                    }, 
                    "execution_count": 69, 
                    "metadata": {}, 
                    "output_type": "execute_result"
                }
            ], 
            "execution_count": 69, 
            "cell_type": "code", 
            "source": "List(0, 4, 3) startsWith List(0)", 
            "metadata": {
                "collapsed": false
            }
        }, 
        {
            "outputs": [], 
            "execution_count": 2, 
            "cell_type": "code", 
            "source": "// Different ways to do this:\n\nval validations = List(true, true, false, true, true, true)\nval valid2 = validations forall (_ == true)\nval valid1 = !(validations contains false)\nval valid3 = validations.exists(_ == false) == false", 
            "metadata": {
                "collapsed": false
            }
        }, 
        {
            "outputs": [
                {
                    "data": {
                        "text/plain": "15"
                    }, 
                    "execution_count": 4, 
                    "metadata": {}, 
                    "output_type": "execute_result"
                }
            ], 
            "execution_count": 4, 
            "cell_type": "code", 
            "source": "// FOLDING\n\n// Reduces the list given a starting value and a reduction function.reduction function.\nList(4, 5, 6).foldLeft(0)(_ + _)\n", 
            "metadata": {
                "collapsed": false
            }
        }, 
        {
            "outputs": [
                {
                    "data": {
                        "text/plain": "15"
                    }, 
                    "execution_count": 5, 
                    "metadata": {}, 
                    "output_type": "execute_result"
                }
            ], 
            "execution_count": 5, 
            "cell_type": "code", 
            "source": "// Reduces the list from left to right given a starting value and a reduction function.\n\nList(4, 5, 6).foldRight(0)(_ + _)", 
            "metadata": {
                "collapsed": false
            }
        }, 
        {
            "outputs": [
                {
                    "data": {
                        "text/plain": "15"
                    }, 
                    "execution_count": 6, 
                    "metadata": {}, 
                    "output_type": "execute_result"
                }
            ], 
            "execution_count": 6, 
            "cell_type": "code", 
            "source": "// Reduces the list from right to left given a starting value and a reduction function.\n\nList(4, 5, 6).reduce(_ + _)", 
            "metadata": {
                "collapsed": false
            }
        }, 
        {
            "outputs": [
                {
                    "data": {
                        "text/plain": "15"
                    }, 
                    "execution_count": 7, 
                    "metadata": {}, 
                    "output_type": "execute_result"
                }
            ], 
            "execution_count": 7, 
            "cell_type": "code", 
            "source": "// Reduces the list from left to right given a reduction function, starting with the first element in the list.\n\nList(4, 5, 6).reduceLeft(_ + _)", 
            "metadata": {
                "collapsed": false
            }
        }, 
        {
            "outputs": [
                {
                    "data": {
                        "text/plain": "15"
                    }, 
                    "execution_count": 8, 
                    "metadata": {}, 
                    "output_type": "execute_result"
                }
            ], 
            "execution_count": 8, 
            "cell_type": "code", 
            "source": "// Reduces the list from right to left given a reduction function, starting with the first element in the list.\n\nList(4, 5, 6).reduceRight(_ + _)", 
            "metadata": {
                "collapsed": false
            }
        }, 
        {
            "outputs": [
                {
                    "data": {
                        "text/plain": "List(0, 4, 9, 15)"
                    }, 
                    "execution_count": 9, 
                    "metadata": {}, 
                    "output_type": "execute_result"
                }
            ], 
            "execution_count": 9, 
            "cell_type": "code", 
            "source": "// Takes a starting value and a reduction function and returns a list of each accumulated value.\n\nList(4, 5, 6).scan(0)(_ + _)", 
            "metadata": {
                "collapsed": false
            }
        }, 
        {
            "outputs": [
                {
                    "data": {
                        "text/plain": "List(0, 4, 9, 15)"
                    }, 
                    "execution_count": 10, 
                    "metadata": {}, 
                    "output_type": "execute_result"
                }
            ], 
            "execution_count": 10, 
            "cell_type": "code", 
            "source": "// Takes a starting value and a reduction function and returns a list of each accumulated value from left to right.\n\nList(4, 5, 6).scanLeft(0)(_ + _)", 
            "metadata": {
                "collapsed": false
            }
        }, 
        {
            "outputs": [
                {
                    "data": {
                        "text/plain": "List(15, 11, 6, 0)"
                    }, 
                    "execution_count": 11, 
                    "metadata": {}, 
                    "output_type": "execute_result"
                }
            ], 
            "execution_count": 11, 
            "cell_type": "code", 
            "source": "// Takes a starting value and a reduction function and returns a list of each accumulated value from right to left.\n\nList(4, 5, 6).scanRight(0)(_ + _)", 
            "metadata": {
                "collapsed": false
            }
        }, 
        {
            "source": "### Converting Collections", 
            "cell_type": "markdown", 
            "metadata": {}
        }, 
        {
            "outputs": [
                {
                    "data": {
                        "text/plain": "24, 24, 99, 104"
                    }, 
                    "execution_count": 13, 
                    "metadata": {}, 
                    "output_type": "execute_result"
                }
            ], 
            "execution_count": 13, 
            "cell_type": "code", 
            "source": "// Renders a collection to a Set using the given delimiters.\nList(24, 99, 104).mkString(\", \")", 
            "metadata": {
                "collapsed": false
            }
        }, 
        {
            "outputs": [
                {
                    "data": {
                        "text/plain": "ArrayBuffer(f, t)"
                    }, 
                    "execution_count": 14, 
                    "metadata": {}, 
                    "output_type": "execute_result"
                }
            ], 
            "execution_count": 14, 
            "cell_type": "code", 
            "source": "// Converts an immutable collection to a mutable one.\nList('f', 't').toBuffer", 
            "metadata": {
                "collapsed": false
            }
        }, 
        {
            "outputs": [
                {
                    "data": {
                        "text/plain": "List((a,1), (b,2))"
                    }, 
                    "execution_count": 15, 
                    "metadata": {}, 
                    "output_type": "execute_result"
                }
            ], 
            "execution_count": 15, 
            "cell_type": "code", 
            "source": "// Converts a collection to a List.\nMap(\"a\" -> 1, \"b\" -> 2).toList", 
            "metadata": {
                "collapsed": false
            }
        }, 
        {
            "outputs": [
                {
                    "data": {
                        "text/plain": "Map(1 -> true, 3 -> true)"
                    }, 
                    "execution_count": 16, 
                    "metadata": {}, 
                    "output_type": "execute_result"
                }
            ], 
            "execution_count": 16, 
            "cell_type": "code", 
            "source": "// Converts a collection of 2-arity (length) tuples to a Map.\nSet(1 -> true, 3 -> true).toMap", 
            "metadata": {
                "collapsed": false
            }
        }, 
        {
            "outputs": [
                {
                    "data": {
                        "text/plain": "Set(2, 5, 3)"
                    }, 
                    "execution_count": 17, 
                    "metadata": {}, 
                    "output_type": "execute_result"
                }
            ], 
            "execution_count": 17, 
            "cell_type": "code", 
            "source": "// Converts a collection to a Set.\nList(2, 5, 5, 3, 2).toSet", 
            "metadata": {
                "collapsed": false
            }
        }, 
        {
            "outputs": [
                {
                    "data": {
                        "text/plain": "List(2, 5, 5, 3, 2)"
                    }, 
                    "execution_count": 18, 
                    "metadata": {}, 
                    "output_type": "execute_result"
                }
            ], 
            "execution_count": 18, 
            "cell_type": "code", 
            "source": "// Renders a collection to a String, including the collection\u2019s type.\nList(2, 5, 5, 3, 2).toString", 
            "metadata": {
                "collapsed": false
            }
        }, 
        {
            "source": "### Java and Scala Collection Compatibility\n\nBecause Scala compiles to and runs on the JVM, interacting with the JDK as well as any Java libraries you may add is a common requirement. ", 
            "cell_type": "markdown", 
            "metadata": {}
        }, 
        {
            "outputs": [], 
            "execution_count": 19, 
            "cell_type": "code", 
            "source": "import collection.JavaConverters._", 
            "metadata": {
                "collapsed": true
            }
        }, 
        {
            "outputs": [
                {
                    "data": {
                        "text/plain": "[12, 29]"
                    }, 
                    "execution_count": 21, 
                    "metadata": {}, 
                    "output_type": "execute_result"
                }
            ], 
            "execution_count": 21, 
            "cell_type": "code", 
            "source": "// Converts this Scala collection to a corresponding Java collection.\nList(12, 29).asJava", 
            "metadata": {
                "collapsed": false
            }
        }, 
        {
            "outputs": [
                {
                    "data": {
                        "text/plain": "Buffer()"
                    }, 
                    "execution_count": 22, 
                    "metadata": {}, 
                    "output_type": "execute_result"
                }
            ], 
            "execution_count": 22, 
            "cell_type": "code", 
            "source": "// Converts this Java collection to a corresponding Scala collection.\nnew java.util.ArrayList(5).asScala", 
            "metadata": {
                "collapsed": false
            }
        }, 
        {
            "source": "### Pattern Matching with Collections", 
            "cell_type": "markdown", 
            "metadata": {}
        }, 
        {
            "outputs": [], 
            "execution_count": 23, 
            "cell_type": "code", 
            "source": " val statuses = List(500, 404)", 
            "metadata": {
                "collapsed": true
            }
        }, 
        {
            "outputs": [
                {
                    "data": {
                        "text/plain": "whoah, an error"
                    }, 
                    "execution_count": 25, 
                    "metadata": {}, 
                    "output_type": "execute_result"
                }
            ], 
            "execution_count": 25, 
            "cell_type": "code", 
            "source": "val msg = statuses.head match {\n        case x if x < 500 => \"okay\"\n        case _ => \"whoah, an error\"\n     }\n     msg", 
            "metadata": {
                "collapsed": false
            }
        }, 
        {
            "outputs": [
                {
                    "data": {
                        "text/plain": "has error"
                    }, 
                    "execution_count": 26, 
                    "metadata": {}, 
                    "output_type": "execute_result"
                }
            ], 
            "execution_count": 26, 
            "cell_type": "code", 
            "source": "val msg = statuses match {\n        case x if x contains(500) => \"has error\"\n        case _ => \"okay\"\n      }\n      msg", 
            "metadata": {
                "collapsed": false
            }
        }, 
        {
            "outputs": [
                {
                    "data": {
                        "text/plain": "error & not found"
                    }, 
                    "execution_count": 28, 
                    "metadata": {}, 
                    "output_type": "execute_result"
                }
            ], 
            "execution_count": 28, 
            "cell_type": "code", 
            "source": "val msg = statuses match {\n        case List(404, 500) => \"not found & error\"\n        case List(500, 404) => \"error & not found\"\n        case List(200, 200) => \"okay\"\n        case _ => \"not sure what happened\"\n      }\n      msg", 
            "metadata": {
                "collapsed": false
            }
        }, 
        {
            "outputs": [
                {
                    "data": {
                        "text/plain": "Error followed by 404"
                    }, 
                    "execution_count": 30, 
                    "metadata": {}, 
                    "output_type": "execute_result"
                }
            ], 
            "execution_count": 30, 
            "cell_type": "code", 
            "source": "val msg = statuses match {\n        case List(500, x) => s\"Error followed by $x\"\n        case List(e, x) => s\"$e was followed by $x\"\n      }\n      msg", 
            "metadata": {
                "collapsed": false
            }
        }, 
        {
            "outputs": [
                {
                    "data": {
                        "text/plain": "r"
                    }, 
                    "execution_count": 31, 
                    "metadata": {}, 
                    "output_type": "execute_result"
                }
            ], 
            "execution_count": 31, 
            "cell_type": "code", 
            "source": "val head = List('r','g','b') match {\n        case x :: xs => x\n        case Nil => ' '\n      }\n      head", 
            "metadata": {
                "collapsed": false
            }
        }, 
        {
            "outputs": [
                {
                    "data": {
                        "text/plain": "204"
                    }, 
                    "execution_count": 32, 
                    "metadata": {}, 
                    "output_type": "execute_result"
                }
            ], 
            "execution_count": 32, 
            "cell_type": "code", 
            "source": "val code = ('h', 204, true) match {\n        case (_, _, false) => 501\n        case ('c', _, true) => 302\n        case ('h', x, true) => x\n        case (c, x, true) => {\n          println(s\"Did not expect code $c\")\n          x\n        }\n      }\n      code", 
            "metadata": {
                "collapsed": false
            }
        }, 
        {
            "source": "### More Collections\n\nThe List, Set, and Map immutable collections we are familiar with cannot be changed after they have been created (see the definition of \u201cimmutable\u201d). They can, however, be transformed into new collections. For example, we can create an immutable map, and then transform it by removing one mapping and adding another:", 
            "cell_type": "markdown", 
            "metadata": {}
        }, 
        {
            "outputs": [], 
            "execution_count": 1, 
            "cell_type": "code", 
            "source": "val m = Map(\"AAPL\" -> 597, \"MSFT\" -> 40)", 
            "metadata": {
                "collapsed": true
            }
        }, 
        {
            "outputs": [], 
            "execution_count": 2, 
            "cell_type": "code", 
            "source": "val n = m - \"AAPL\" + (\"GOOG\" -> 521)", 
            "metadata": {
                "collapsed": true
            }
        }, 
        {
            "outputs": [
                {
                    "data": {
                        "text/plain": "Map(AAPL -> 597, MSFT -> 40)"
                    }, 
                    "execution_count": 3, 
                    "metadata": {}, 
                    "output_type": "execute_result"
                }
            ], 
            "execution_count": 3, 
            "cell_type": "code", 
            "source": "m", 
            "metadata": {
                "collapsed": false
            }
        }, 
        {
            "source": "### Creating New Mutable Collections\n\nHowever, there are times when you want something Immutable.", 
            "cell_type": "markdown", 
            "metadata": {}
        }, 
        {
            "outputs": [
                {
                    "data": {
                        "text/plain": "ArrayBuffer(1, 2, 3, 4, 5, 6, 7, 8, 9, 10)"
                    }, 
                    "execution_count": 5, 
                    "metadata": {}, 
                    "output_type": "execute_result"
                }
            ], 
            "execution_count": 5, 
            "cell_type": "code", 
            "source": "val nums = collection.mutable.Buffer(1)\nfor (i <- 2 to 10) nums += i\nnums", 
            "metadata": {
                "collapsed": false
            }
        }, 
        {
            "outputs": [
                {
                    "data": {
                        "text/plain": "ArrayBuffer(1, 2, 3, 4, 5, 6, 7, 8, 9, 10)"
                    }, 
                    "execution_count": 6, 
                    "metadata": {}, 
                    "output_type": "execute_result"
                }
            ], 
            "execution_count": 6, 
            "cell_type": "code", 
            "source": "// Because there is no default value, we will have to specify the collection\u2019s type with a type parameter (Int, in this case)\n\nval nums = collection.mutable.Buffer[Int]()\nfor (i <- 1 to 10) nums += i\nnums", 
            "metadata": {
                "collapsed": false
            }
        }, 
        {
            "outputs": [], 
            "execution_count": null, 
            "cell_type": "code", 
            "source": "", 
            "metadata": {
                "collapsed": true
            }
        }
    ], 
    "metadata": {
        "language_info": {
            "version": "2.11.8", 
            "name": "scala"
        }, 
        "kernelspec": {
            "language": "scala", 
            "display_name": "Scala 2.11 with Spark 2.0", 
            "name": "scala-spark20"
        }
    }, 
    "nbformat_minor": 0
}