{
 "cells": [
  {
   "cell_type": "markdown",
   "metadata": {},
   "source": [
    "<h1>Exploring bivariate numerical data</h1>\n",
    "\n",
    "https://www.khanacademy.org/math/statistics-probability/describing-relationships-quantitative-data\n",
    "\n",
    "You can use scatterplots to look for patters.\n",
    "\n",
    "Driver is on the x access\n",
    "What's being driven is on the y access.\n",
    "\n",
    "bivariate = for each x data point, there is a y data point"
   ]
  },
  {
   "cell_type": "markdown",
   "metadata": {},
   "source": [
    "<h2>Correlation coefficient</h2>\n",
    "\n",
    "Measure how well a liner model can describe a relationship between two axis.\n",
    "\n",
    "The correlation coefficient r measures the direction and strength of a linear relationship.\n",
    "\n",
    "    It always has a value between -1 and 1.\n",
    "    Strong positive linear relationships have values of r closer to 1.\n",
    "    Strong negative linear relationships have values of r closer to −1.\n",
    "    Weaker relationships have values of r closer to 0.\n",
    "\n",
    "x&#772; = mean\n",
    "\n",
    "s with small x = x standard deviation (similar to y)\n",
    "\n",
    "\n",
    "The coefficient returns a value between -1 and 1 that represents the limits of correlation from a full negative correlation to a full positive correlation. A value of 0 means no correlation. The value must be interpreted, where often a value below -0.5 or above 0.5 indicates a notable correlation, and values below those values suggests a less notable correlation."
   ]
  },
  {
   "cell_type": "code",
   "execution_count": 1,
   "metadata": {},
   "outputs": [],
   "source": [
    "from numpy import mean\n",
    "from numpy import std\n",
    "from numpy.random import randn\n",
    "from numpy.random import seed\n",
    "from matplotlib import pyplot"
   ]
  },
  {
   "cell_type": "code",
   "execution_count": 2,
   "metadata": {},
   "outputs": [
    {
     "name": "stdout",
     "output_type": "stream",
     "text": [
      "data1: mean=100.776 stdv=19.620\n",
      "data2: mean=151.050 stdv=22.358\n"
     ]
    }
   ],
   "source": [
    "# seed random number generator\n",
    "seed(1)\n",
    "# prepare data\n",
    "data1 = 20 * randn(1000) + 100\n",
    "data2 = data1 + (10 * randn(1000) + 50)\n",
    "# summarize\n",
    "print('data1: mean=%.3f stdv=%.3f' % (mean(data1), std(data1)))\n",
    "print('data2: mean=%.3f stdv=%.3f' % (mean(data2), std(data2)))"
   ]
  },
  {
   "cell_type": "code",
   "execution_count": 3,
   "metadata": {},
   "outputs": [
    {
     "data": {
      "image/png": "[encoded data removed]",
      "text/plain": [
       "<Figure size 432x288 with 1 Axes>"
      ]
     },
     "metadata": {
      "needs_background": "light"
     },
     "output_type": "display_data"
    }
   ],
   "source": [
    "# plot\n",
    "pyplot.scatter(data1, data2)\n",
    "pyplot.show()"
   ]
  },
  {
   "cell_type": "code",
   "execution_count": 5,
   "metadata": {},
   "outputs": [],
   "source": [
    "#data1"
   ]
  },
  {
   "cell_type": "code",
   "execution_count": 7,
   "metadata": {},
   "outputs": [
    {
     "name": "stdout",
     "output_type": "stream",
     "text": [
      "Pearsons correlation: 0.888\n"
     ]
    }
   ],
   "source": [
    "# calculate the Pearson's correlation between two variables\n",
    "from numpy.random import randn\n",
    "from numpy.random import seed\n",
    "from scipy.stats import pearsonr\n",
    "\n",
    "# calculate Pearson's correlation\n",
    "corr, _ = pearsonr(data1, data2)\n",
    "print('Pearsons correlation: %.3f' % corr)"
   ]
  },
  {
   "cell_type": "code",
   "execution_count": 90,
   "metadata": {},
   "outputs": [],
   "source": [
    "from numpy.random import randn\n",
    "from numpy.random import seed\n",
    "from scipy.stats import pearsonr\n",
    "#https://machinelearningmastery.com/how-to-use-correlation-to-understand-the-relationship-between-variables/\n",
    "#TODO : Add spearman\n",
    "def getCorrelationCoefficent(xArrayOfNumbers, yArrayOfNumbers, EL5TrueFalse=False):\n",
    "    if(EL5TrueFalse is True):\n",
    "        print(\"This determines how linear a set of x,y values are a scatterplot are. It is represnted as r\")\n",
    "    \n",
    "    # calculate Pearson's correlation\n",
    "    corr, _ = pearsonr(xArrayOfNumbers, yArrayOfNumbers)\n",
    "    if(EL5TrueFalse is True):\n",
    "        print('Pearsons correlation: %.3f' % corr)\n",
    "        if(corr < -0.5):\n",
    "            print(\"Noteable negative linear relation detected between points in data. The closer to -1, the closer the linear relationship.\")\n",
    "        if(corr > 0.5):\n",
    "            print(\"Noteable postive linear relation detected between points in data. The closer to 1, the closer the linear relationship.\")\n",
    "        \n",
    "    return corr"
   ]
  },
  {
   "cell_type": "code",
   "execution_count": 11,
   "metadata": {},
   "outputs": [
    {
     "name": "stdout",
     "output_type": "stream",
     "text": [
      "This determines how linear a set of x,y values are a scatterplot are.\n",
      "Pearsons correlation: 0.888\n",
      "Noteable postive linear relation detected between points in data. The closer to 1, the closer the relationship.\n"
     ]
    },
    {
     "data": {
      "text/plain": [
       "0.8876119085795311"
      ]
     },
     "execution_count": 11,
     "metadata": {},
     "output_type": "execute_result"
    }
   ],
   "source": [
    "getCorrelationCoefficent(data1, data2, True)"
   ]
  },
  {
   "cell_type": "markdown",
   "metadata": {},
   "source": [
    "<h2>Least-squares regression equations</h2>\n",
    "\n",
    "The predicted value (or line) of least squared is written as y hat.\n",
    "\n",
    "It minimizes the squared value of each point, called residuals, on a graph. A point above a residual is a postive residual, a point below negative."
   ]
  },
  {
   "cell_type": "code",
   "execution_count": 52,
   "metadata": {},
   "outputs": [
    {
     "name": "stdout",
     "output_type": "stream",
     "text": [
      "\n",
      "First, get the slope (m). This is r (The coorelation coefficent) times the std Dev of y divided by the std dev of x\n",
      "Next, we get the intercept (b). This is r times the average of x minus the average of y.\n",
      "The final equation: yHat = 0.7789170522747931(x) + -72.55316473922403\n"
     ]
    },
    {
     "data": {
      "text/plain": [
       "'yHat = 0.7789170522747931(x) + -72.55316473922403'"
      ]
     },
     "execution_count": 52,
     "metadata": {},
     "output_type": "execute_result"
    }
   ],
   "source": [
    "getEquationForRegressionLine(data1, data2, True)"
   ]
  },
  {
   "cell_type": "code",
   "execution_count": 62,
   "metadata": {},
   "outputs": [],
   "source": [
    "from numpy import mean\n",
    "from numpy import std\n",
    "from scipy.stats import norm\n",
    "\n",
    "def getEquationForRegressionLine(xArrayOfNumbers, yArrayOfNumbers, EL5TrueFalse=False):\n",
    "    r = getCorrelationCoefficent(data1, data2, False)\n",
    "    \n",
    "    xListOfNumbers = xArrayOfNumbers.tolist()\n",
    "    yListOfNumbers = yArrayOfNumbers.tolist()\n",
    "    \n",
    "    xStdDev = std(xListOfNumbers)\n",
    "    yStdDev = std(yListOfNumbers)\n",
    "    \n",
    "    m = r * (xStdDev/yStdDev)\n",
    "    \n",
    "    b = (m * mean(xListOfNumbers)) - mean(yListOfNumbers)\n",
    "    \n",
    "    if(EL5TrueFalse is True):\n",
    "        print(\"\\nFirst, get the slope (m). This is r (The coorelation coefficent) times the std Dev of y divided by the std dev of x\")\n",
    "        print(\"Next, we get the intercept (b). This is r times the average of x minus the average of y.\")\n",
    "        print(\"The final equation: yHat = \" + str(m) + \"(x)\" + \" + \" + str(b))\n",
    "    \n",
    "    \n",
    "    return \"yHat = \" + str(m) + \"(x)\" + \" + \" + str(b)\n",
    "\n",
    "def getPredictedValueForRegressionLine(xArrayOfNumbers, yArrayOfNumbers, predictedValue, EL5TrueFalse=False):\n",
    "    r = getCorrelationCoefficent(data1, data2, False)\n",
    "    \n",
    "    xListOfNumbers = xArrayOfNumbers.tolist()\n",
    "    yListOfNumbers = yArrayOfNumbers.tolist()\n",
    "    \n",
    "    xStdDev = std(xListOfNumbers)\n",
    "    yStdDev = std(yListOfNumbers)\n",
    "    \n",
    "    m = r * (xStdDev/yStdDev)\n",
    "    \n",
    "    b = (m * mean(xListOfNumbers)) - mean(yListOfNumbers)\n",
    "    \n",
    "    yHat = m*predictedValue + b\n",
    "    \n",
    "    if(EL5TrueFalse is True):\n",
    "        print(\"\\nFirst, get the slope (m). This is r (The coorelation coefficent) times the std Dev of y divided by the std dev of x\")\n",
    "        print(\"Next, we get the intercept (b). This is r times the average of x minus the average of y.\")\n",
    "        print(\"The final equation: yHat = \" + str(m) + \"*\" + str(predictedValue) + \" + \" + str(b) + \", making yHat \" + str(yHat))\n",
    "     \n",
    "    return yHat"
   ]
  },
  {
   "cell_type": "code",
   "execution_count": 61,
   "metadata": {},
   "outputs": [
    {
     "name": "stdout",
     "output_type": "stream",
     "text": [
      "\n",
      "First, get the slope (m). This is r (The coorelation coefficent) times the std Dev of y divided by the std dev of x\n",
      "Next, we get the intercept (b). This is r times the average of x minus the average of y.\n",
      "The final equation: yHat = 0.7789170522747931*4000 + -72.55316473922403, making yHat 3043.1150443599486\n"
     ]
    },
    {
     "data": {
      "text/plain": [
       "3043.1150443599486"
      ]
     },
     "execution_count": 61,
     "metadata": {},
     "output_type": "execute_result"
    }
   ],
   "source": [
    "getPredictedValueForRegressionLine(data1, data2,4000, True)"
   ]
  },
  {
   "cell_type": "markdown",
   "metadata": {},
   "source": [
    "<h2>Assessing the fit in least-squares regression</h2>\n",
    "\n",
    "<h3>R squared </h3>\n",
    "\n",
    "What  % of total variation is described by the line.\n",
    "\n",
    "Close to 1 means the values are close to the line."
   ]
  },
  {
   "cell_type": "code",
   "execution_count": 92,
   "metadata": {},
   "outputs": [],
   "source": [
    "#https://www.kite.com/python/answers/how-to-calculate-r-squared-with-numpy-in-python\n",
    "\n",
    "def getRSquared(xArrayOfNumbers, yArrayOfNumbers, EL5TrueFalse=False):\n",
    "\n",
    "    x_values = xArrayOfNumbers.tolist()\n",
    "    y_values = yArrayOfNumbers.tolist()\n",
    "    \n",
    "    correlation_matrix = np.corrcoef(x_values, y_values)\n",
    "    correlation_xy = correlation_matrix[0,1]\n",
    "    r_squared = correlation_xy**2\n",
    "    \n",
    "    if(EL5TrueFalse is True):\n",
    "        print(\"\\nR squared is % of total variation is described by the regression line. This would be used for x and y values around this line.\")\n",
    "        print(\"A value close to 1 means values are closer to the line.\")\n",
    "        print(\"*** RMSE will explicitly know how much our predictions deviate, on average, from the actual values in the dataset. This will give you more info than R squared if desired because R squared is a ratio.\")\n",
    "        print(\"The R Squared is : \" + str(r_squared))\n",
    "        \n",
    "    \n",
    "    return r_squared"
   ]
  },
  {
   "cell_type": "code",
   "execution_count": 89,
   "metadata": {},
   "outputs": [
    {
     "name": "stdout",
     "output_type": "stream",
     "text": [
      "\n",
      "R squared is % of total variation is described by the regression line. This would be used for x and y values around this line.\n",
      "A value close to 1 means values are closer to the line.\n",
      "*** RMSE will explicitly know how much our predictions deviate, on average, from the actual values in the dataset. This will give you more info than R squared if desired because R squared is a ratio.\n",
      "The R Squared is : 0.7878549002521983\n"
     ]
    },
    {
     "data": {
      "text/plain": [
       "0.7878549002521983"
      ]
     },
     "execution_count": 89,
     "metadata": {},
     "output_type": "execute_result"
    }
   ],
   "source": [
    "getRSquared(data1, data2, True)"
   ]
  },
  {
   "cell_type": "markdown",
   "metadata": {},
   "source": [
    "<h3>Root Mean Squared Error</h3>\n",
    "\n",
    "How much a linear model disagrees with the actual data\n",
    "\n",
    "Lower the number to 0, the better the fit of the data"
   ]
  },
  {
   "cell_type": "code",
   "execution_count": 119,
   "metadata": {},
   "outputs": [],
   "source": [
    "#RETURNS PREDICTED VALUES FOR X IN A LIST\n",
    "def getPredictedValues(xArrayOfNumbers, yArrayOfNumbers, EL5TrueFalse=False):\n",
    "    r = getCorrelationCoefficent(data1, data2, False)\n",
    "    \n",
    "    xListOfNumbers = xArrayOfNumbers.tolist()\n",
    "    yListOfNumbers = yArrayOfNumbers.tolist()\n",
    "    \n",
    "    xStdDev = std(xListOfNumbers)\n",
    "    yStdDev = std(yListOfNumbers)\n",
    "    \n",
    "    m = r * (xStdDev/yStdDev)\n",
    "    \n",
    "    b = (m * mean(xListOfNumbers)) - mean(yListOfNumbers)\n",
    "    \n",
    "    y_predicted = []\n",
    "    for i in xListOfNumbers:\n",
    "        yHat = m*i + b\n",
    "        y_predicted.append(yHat)\n",
    "    return y_predicted\n",
    "\n",
    "#How much a linear model disagrees with the actual data\n",
    "#Lower the number to 0, the better the fit of the data\n",
    "\n",
    "#https://towardsdatascience.com/metrics-and-python-850b60710e0c\n",
    "#https://www.askpython.com/python/examples/rmse-root-mean-square-error\n",
    "import math\n",
    "def getRSME(xArrayOfNumbers, yArrayOfNumbers, EL5TrueFalse=False):\n",
    "    y_actual = yArrayOfNumbers.tolist()\n",
    "    y_predicted = getPredictedValues(xArrayOfNumbers, yArrayOfNumbers)\n",
    "    \n",
    "    MSE = np.square(np.subtract(y_actual,y_predicted)).mean() \n",
    "    \n",
    "    RMSE = math.sqrt(MSE)\n",
    "    \n",
    "    if(EL5TrueFalse is True):\n",
    "        print(\"RSME is How much a linear model disagrees with the actual data. Lower the number to 0, the better the fit of the data.\")\n",
    "        print(\"Root Mean Square Error: \" + str(RMSE))\n",
    "        \n",
    "    return RMSE"
   ]
  },
  {
   "cell_type": "code",
   "execution_count": 120,
   "metadata": {},
   "outputs": [
    {
     "name": "stdout",
     "output_type": "stream",
     "text": [
      "RSME is How much a linear model disagrees with the actual data. Lower the number to 0, the better the fit of the data.\n",
      "Root Mean Square Error: 145.5428219724349\n"
     ]
    },
    {
     "data": {
      "text/plain": [
       "145.5428219724349"
      ]
     },
     "execution_count": 120,
     "metadata": {},
     "output_type": "execute_result"
    }
   ],
   "source": [
    "getRSME(data1,data2, True)"
   ]
  },
  {
   "cell_type": "code",
   "execution_count": null,
   "metadata": {},
   "outputs": [],
   "source": []
  },
  {
   "cell_type": "code",
   "execution_count": null,
   "metadata": {},
   "outputs": [],
   "source": []
  },
  {
   "cell_type": "code",
   "execution_count": null,
   "metadata": {},
   "outputs": [],
   "source": []
  },
  {
   "cell_type": "code",
   "execution_count": null,
   "metadata": {},
   "outputs": [],
   "source": []
  },
  {
   "cell_type": "code",
   "execution_count": 22,
   "metadata": {},
   "outputs": [],
   "source": [
    "# Library from 2 - Summarizing qunative data\n",
    "\n",
    "import statistics\n",
    "import math\n",
    "\n",
    "def meanOfList(num):\n",
    "    sumOfNumbers = 0\n",
    "    for t in num:\n",
    "        sumOfNumbers = sumOfNumbers + t\n",
    "\n",
    "    avg = sumOfNumbers / len(num)\n",
    "    return avg\n",
    "\n",
    "import numpy as np \n",
    "#DETERMINE THE SPREAD OF THE NUMBERS. HIGHER NUMBERS MEAN MORE SPREAD.\n",
    "def IQROfList(numbersList, EL5TrueFalse=False):\n",
    "    \n",
    "    ELI5 = EL5TrueFalse\n",
    "    \n",
    "    if(ELI5 == True):\n",
    "        print(\"IQR Determines how spread numbers are. Higher numbers mean more spread. IQR is better with outliers\")\n",
    "        print(\"\\nFirst, it sorts the numbers. Then, takes the first 25% and finds the midpoint. Next, the last 75% and finds the midpoint. Then subtracts both midpoints for the IQR.\")\n",
    "        \n",
    "    numbersList = sorted(numbersList, key=lambda x: x if x is not None else -math.inf)\n",
    "    \n",
    "    # First quartile (Q1) \n",
    "    Q1 = np.percentile(numbersList, 25, interpolation = 'midpoint') \n",
    "    \n",
    "    if(ELI5 == True):\n",
    "        print(\"\\nQ1 (First 25%) midpoint:\",Q1)\n",
    "    \n",
    "    # Third quartile (Q3) \n",
    "    Q3 = np.percentile(numbersList, 75, interpolation = 'midpoint') \n",
    "  \n",
    "    if(ELI5 == True):\n",
    "        print(\"\\nQ3 (Last 75%) midpoint:\",Q3)\n",
    "    \n",
    "    # Interquaritle range (IQR) \n",
    "    IQR = Q3 - Q1\n",
    "    \n",
    "    if(ELI5 == True):\n",
    "        print(\"\\nQ3-Q1 (the IQR)=\",IQR)\n",
    "    \n",
    "    #return numbersList\n",
    "    return IQR\n",
    "\n",
    "\n",
    "def rangeOfList(numbersList):\n",
    "    return numbersList[-1]-numbersList[0]\n",
    "\n",
    "def simpleSkewCheck(mean, median, mode):\n",
    "    #Simple Check for Skewness\n",
    "    #Mode< Median< Mean : then the distribution is positively skewed\n",
    "    #Mode> Median> Mean : then the distribution is negatively skewed\n",
    "    #https://blog.usejournal.com/descriptive-statistics-with-python-6c7acb1d3671\n",
    "    if(mode < median < mean):\n",
    "        print(\"*** Simple Analysis : Distribution is positively skewed (mode < median < mean)\")\n",
    "        return True\n",
    "    elif(mode > median > mean):\n",
    "        print(\"*** Simple Analysis : Distribution is positively skewed (mode > median > mean)\")\n",
    "        return True\n",
    "    else:\n",
    "        return False\n",
    "\n",
    "def populationVarianceOfList(numbersList, EL5TrueFalse=False):\n",
    "    \n",
    "    ELI5 = EL5TrueFalse\n",
    "\n",
    "    meanNumber = meanOfList(numbersList)\n",
    "    count = 0 \n",
    "    sumList = 0\n",
    "\n",
    "    if(ELI5 == True):\n",
    "        print(\"The formula for population variance (sigma squared symbol) is the sum of all data points minus the mean. Square each and add them together. Then divide by the number of data points.\\n\")\n",
    "        print(\"First, lets get the mean...\\n\")\n",
    "        print(\"The mean (mu) is : \",meanNumber,\"\\n\")\n",
    "        print (\"Next, take each value in the dataset, subtracting it from the mean and squaring, then adding all of these.\\n\")\n",
    "\n",
    "    for t in numbersList:\n",
    "        \n",
    "        valueMinusMean = t-meanNumber\n",
    "        valueMinusMeanSquared = valueMinusMean ** 2\n",
    "        if(ELI5 == True):\n",
    "            print (\"Summing (\",t,\"-\",meanNumber,\")^2 =\",valueMinusMeanSquared)\n",
    "        count=count+1\n",
    "        sumList = sumList + valueMinusMeanSquared\n",
    "\n",
    "    if(ELI5 == True):        \n",
    "        print(\"Total:\", sumList)    \n",
    "        print(\"\\nNow, divide the sum by the number of data points: \", sumList, \"divided by \", count, \"gives the variance of...\")\n",
    "\n",
    "    Variance = sumList/count\n",
    "\n",
    "    if(ELI5 == True):\n",
    "        print(\"\\nVariance: \", Variance,\"\\n\")\n",
    "        print(\"What does it mean? The smaller the variance, the less dispurse the dataset is.\")\n",
    "        \n",
    "    return Variance\n",
    "\n",
    "def sampleVarianceOfList(numbersList, EL5TrueFalse=False):\n",
    "    \n",
    "    ELI5 = EL5TrueFalse\n",
    "\n",
    "    meanNumber = meanOfList(numbersList)\n",
    "    count = 0 \n",
    "    sumList = 0\n",
    "\n",
    "    if(ELI5 == True):\n",
    "        print(\"The formula for sample variance (sigma squared symbol) is the sum of all data points minus the mean-1. Square each and add them together. Then divide by the number of data points.\\n\")\n",
    "        print(\"First, lets get the mean...\\n\")\n",
    "        print(\"The mean (mu) is : \",meanNumber,\"\\n\")\n",
    "        print (\"Next, take each value in the dataset, subtracting it from the mean and squaring, then adding all of these.\\n\")\n",
    "\n",
    "    for t in numbersList:\n",
    "        \n",
    "        valueMinusMean = t-meanNumber\n",
    "        valueMinusMeanSquared = valueMinusMean ** 2\n",
    "        if(ELI5 == True):\n",
    "            print (\"Summing (\",t,\"-\",meanNumber,\")^2 =\",valueMinusMeanSquared)\n",
    "        count=count+1\n",
    "        sumList = sumList + valueMinusMeanSquared\n",
    "\n",
    "    if(ELI5 == True):        \n",
    "        print(\"Total:\", sumList)    \n",
    "        print(\"\\nNow, divide the sum by the number of data points: \", sumList, \"divided by \", count-1, \"gives the variance of...\")\n",
    "\n",
    "    Variance = sumList/count-1\n",
    "\n",
    "    if(ELI5 == True):\n",
    "        print(\"\\nVariance: \", Variance,\"\\n\")\n",
    "        print(\"What does it mean? The smaller the variance, the less dispurse the dataset is.\")\n",
    "        \n",
    "    return Variance\n",
    "\n",
    "def populationStdDeviationOfList(numbersList, EL5TrueFalse=False):\n",
    "    ELI5 = EL5TrueFalse\n",
    "    \n",
    "    if(ELI5 == True):\n",
    "        print(\"Population Standard Deviation is how far away on average we are from the mean. The larger the standard deviation, the more spread out the data is.\\n\")\n",
    "        \n",
    "        print(\"To calculate Standard deviation (sigma) you take the square root of the variance.\\n\")\n",
    "    \n",
    "    if(ELI5 == True):\n",
    "        variance = populationVarianceOfList(numbersList, True)\n",
    "        print(\"First we need the variance which is \\n\", variance)\n",
    "        \n",
    "        standardDeviation = math.sqrt(variance)\n",
    "        \n",
    "        print(\"\\nNow we take the square root of the variance (sigma squared), which is \",standardDeviation)\n",
    "                                      \n",
    "        return standardDeviation\n",
    "    else:\n",
    "        variance = populationVarianceOfList(numbersList)\n",
    "        standardDeviation = math.sqrt(variance)                     \n",
    "        return standardDeviation\n",
    "    \n",
    "def sampleStdDeviationOfList(numbersList, EL5TrueFalse=False):\n",
    "    ELI5 = EL5TrueFalse\n",
    "    \n",
    "    if(ELI5 == True):\n",
    "        print(\"Sample Standard Deviation is how far away on average we are from the mean. The larger the standard deviation, the more spread out the data is.\\n\")\n",
    "        \n",
    "        print(\"To calculate Standard deviation (sigma) you take the square root of the variance.\\n\")\n",
    "    \n",
    "    if(ELI5 == True):\n",
    "        variance = sampleVarianceOfList(numbersList, True)\n",
    "        print(\"First we need the variance which is \\n\", variance)\n",
    "        \n",
    "        standardDeviation = math.sqrt(variance)\n",
    "        \n",
    "        print(\"\\nNow we take the square root of the variance (sigma squared), which is \",standardDeviation)\n",
    "                                      \n",
    "        return standardDeviation\n",
    "    else:\n",
    "        variance = sampleVarianceOfList(numbersList)\n",
    "        standardDeviation = math.sqrt(variance)                     \n",
    "        return standardDeviation\n",
    "    \n",
    "#TODO: Check for outliers. IQR is robust to outliers, whereas variance can be hugely affected by a single observation.\n",
    "\n",
    "#Parameters: Data, if it's a sample or population set (true for sample (default) False for population)\n",
    "def runDescriptiveStatisticsPopulation(numbersList):\n",
    "    \n",
    "    numbersList = sorted(numbersList, key=lambda x: x if x is not None else -math.inf)\n",
    "    \n",
    "    mean = meanOfList(numbersList)\n",
    "    median = statistics.median(numbersList)\n",
    "    mode = 'NaN'\n",
    "    \n",
    "    print(\"Population Mean : \" + str(mean))\n",
    "    print(\"Population Median : \" + str(median))\n",
    "    \n",
    "    \n",
    "    isSkewed = False\n",
    "    # check different lengths, if different we have dups \n",
    "    if len(set(numbersList)) != len(numbersList):\n",
    "        mode = statistics.mode(numbersList)\n",
    "        modeCount = reduce(lambda sum, j: sum  + (1 if j == mode else 0), numbersList, 0) \n",
    "        modePercent = modeCount/len(numbersList) * 100\n",
    "        \n",
    "        print(\"Population Mode : \" + str(mode) + \" which is \" + str(modePercent) + \"% of population\")\n",
    "        \n",
    "        isSkewed = simpleSkewCheck(mean, median, mode)\n",
    "        \n",
    "        if(isSkewed is True):\n",
    "            print(\"*** Data is skewed. Mode or Median might be a better representation of the distribution\")\n",
    "            \n",
    "            meanGreaterThanList = sum(i < mean for i in numbersList)\n",
    "            percentMeanGreater = meanGreaterThanList / len(numbersList)\n",
    "            \n",
    "            if(percentMeanGreater > .75):\n",
    "                print(\"*** Mean is greater than 75% of the data in the list, usually median should be used.\")\n",
    "\n",
    "            if(percentMeanGreater < .25):\n",
    "                print(\"*** Mean is less than 75% of the data in the list, usually median should be used.\")    \n",
    " \n",
    "        else:\n",
    "            print(\"*** Data is not skewed. Mean might be accurate representation of data\")\n",
    "    \n",
    "    else:\n",
    "        print(\"Mode : No Duplicates - \" + mode)\n",
    "        print(\"*** No mode to check for skew.\")\n",
    "\n",
    "    IQR = IQROfList(numbersList)\n",
    "    print(\"IQR : \" + str(IQR))\n",
    "    \n",
    "    outliers = getOutliersCount(numbersList, False, 1.5)\n",
    "    print(\"Number of outliers based off 1.5 * IQR (the standard): \", outliers)\n",
    "    \n",
    "    if(outliers > 0):\n",
    "        print(\"*** Because the outliers is greater than 0, the mid range could be influenced and may not be accurate.\")\n",
    "    else:\n",
    "        print(\"*** No outliers detected, mid range may be an accurate represntation of the middle and represent the mean.\")\n",
    "    \n",
    "    print(\"Mid-range : \", midRange(numbersList))\n",
    "    \n",
    "    stdDeviation = populationStdDeviationOfList(numbersList)\n",
    "    \n",
    "    print(\"Population Standard Deviation : \" + str(stdDeviation))\n",
    "    \n",
    "    MAD = meanAbsoluteStandardDeviation(numbersList)\n",
    "    print(\"Population Mean Absolute Deviation : \" + str(MAD))\n",
    "    \n",
    "    if(isSkewed is True):\n",
    "        print(\"*** Data is skewed. Because IQR uses the median(s) for calulations which are not influenced by skew (or less influenced), it better represents the center vs std deviation which uses the mean that is influenced by the skew.\")\n",
    "    else:\n",
    "        print(\"*** Data is not skewed. Standard Deviation might be a good representation as the average from the center.\")\n",
    "\n",
    "#TODO: Check for outliers. IQR is robust to outliers, whereas variance can be hugely affected by a single observation.\n",
    "\n",
    "#Parameters: Data, if it's a sample or population set (true for sample (default) False for population)\n",
    "def runDescriptiveStatisticsSample(numbersList, ELI5TrueFalse=False):\n",
    "    \n",
    "    ELI5 = ELI5TrueFalse\n",
    "    \n",
    "    numbersList = sorted(numbersList, key=lambda x: x if x is not None else -math.inf)\n",
    "    \n",
    "    mean = meanOfList(numbersList)\n",
    "    median = statistics.median(numbersList)\n",
    "    mode = 'NaN'\n",
    "    if(ELI5 is True):\n",
    "            print(\"All numbers added together, then divided by the sample. Skew influnces this number.\")\n",
    "    print(\"Sample Mean : \" + str(mean))\n",
    "    \n",
    "    if(ELI5 is True):\n",
    "            print(\"The middle numbers sorted. It is less influenced by skew.\")\n",
    "    print(\"Sample Median : \" + str(median))\n",
    "    \n",
    "    if(ELI5 is True):\n",
    "            print(\"The Median on the left of the average subtracted by the median on the right of the average.\")\n",
    "            print(\"Higher numbers mean more spread out data.\")\n",
    "    IQR = IQROfList(numbersList)\n",
    "    \n",
    "    \n",
    "    print(\"IQR : \" + str(IQR))\n",
    "    \n",
    "    if(ELI5 is True):\n",
    "            print(\"The Square root of variance. How far the number are from the average. Skew influences this.\")\n",
    "    stdDeviation = sampleStdDeviationOfList(numbersList)\n",
    "    MAD = meanAbsoluteStandardDeviation(numbersList)\n",
    "    \n",
    "    if(ELI5 is True):\n",
    "            print(\"average distance between each data value and the mean. Mean absolute deviation is a way to describe variation in a data set. Mean absolute deviation helps us get a sense of how \\\"spread out\\\" the values in a data set are.\")\n",
    "    print(\"Sample Mean Absolute Deviation : \" + str(MAD))\n",
    "    print(\"Sample Standard Deviation : \" + str(stdDeviation))\n",
    "    \n",
    "    \n",
    "from functools import reduce\n",
    "\n",
    "def getOutliersCount(numbersList, EL5TrueFalse=False, Threshold=1.5):\n",
    "    \n",
    "    ELI5 = EL5TrueFalse\n",
    "    \n",
    "    if(ELI5 is True):\n",
    "        print(\"*** < Q1 - 1.5 * IQR or > Q3 - 1.5 * IQR is the usual agreed upon.\")\n",
    "    \n",
    "    IQR = IQROfList(numbersList)\n",
    "    Q1 = np.percentile(numbersList, 25, interpolation = 'midpoint') \n",
    "    Q3 = np.percentile(numbersList, 75, interpolation = 'midpoint')\n",
    "    outliersLeft = Q1 - Threshold*IQR\n",
    "    outliersRight = Q3 + Threshold*IQR\n",
    "    \n",
    "    countRight = reduce(lambda sum, j: sum  + (1 if j > outliersRight else 0), numbersList, 0) \n",
    "    countLeft = reduce(lambda sum, j: sum  + (1 if j < outliersLeft else 0), numbersList, 0)\n",
    "    \n",
    "    countTotal = countRight + countLeft\n",
    "    \n",
    "    if(ELI5 is True):\n",
    "        \n",
    "        print(\"Total Outliers Right : \", countRight)\n",
    "        print(\"Total Outliers Left : \", countLeft)\n",
    "        print(\"Total Outliers Count : \", countTotal)\n",
    "        \n",
    "        print(\"\\nAnything Left Of this is an Outlier: \", outliersLeft )\n",
    "        print(\"Anything Right Of this is an Outlier : \", outliersRight)\n",
    "    return countTotal\n",
    "\n",
    "def midRange(numbersList, EL5TrueFalse=False):\n",
    "    ELI5 = EL5TrueFalse\n",
    "    \n",
    "    if (ELI5 is True):\n",
    "        print(\"* Mid Range is the average between the larges and smallest value in the dataset.\")\n",
    "        print(\"* It is highly influenced by outliers.\")\n",
    "        \n",
    "    return (numbersList[0] + numbersList[-1])/2\n",
    "\n",
    "def meanAbsoluteStandardDeviation(numbersList, EL5TrueFalse=False):\n",
    "    ELI5 = EL5TrueFalse\n",
    "    \n",
    "    if (ELI5 is True):\n",
    "        print(\"1. Get the mean, 2. Subtract the mean from every item,take the absolute value of each. Add them. 3. Divide by the number of Items.\")\n",
    "        print(\"MAD is good for normally distributed (bell curve) data.\")\n",
    "    \n",
    "    mean = meanOfList(numbersList)\n",
    "    count = 0\n",
    "    total = 0\n",
    "    for i in numbersList:\n",
    "        if (ELI5 is True):\n",
    "            print (\"Adding Absolute Value of \",i, \"-\",mean)\n",
    "    \n",
    "        total = total + abs(i - mean)\n",
    "        count = count + 1\n",
    "    \n",
    "    if (ELI5 is True):\n",
    "        print(\"Total : \", total)\n",
    "        print(\"Divided by:\", count)\n",
    "        print(total/count)\n",
    "    \n",
    "    return total/count\n",
    "\n",
    "\n"
   ]
  },
  {
   "cell_type": "code",
   "execution_count": null,
   "metadata": {},
   "outputs": [],
   "source": []
  }
 ],
 "metadata": {
  "kernelspec": {
   "display_name": "Python 3",
   "language": "python",
   "name": "python3"
  },
  "language_info": {
   "codemirror_mode": {
    "name": "ipython",
    "version": 3
   },
   "file_extension": ".py",
   "mimetype": "text/x-python",
   "name": "python",
   "nbconvert_exporter": "python",
   "pygments_lexer": "ipython3",
   "version": "3.7.4"
  }
 },
 "nbformat": 4,
 "nbformat_minor": 2
}
