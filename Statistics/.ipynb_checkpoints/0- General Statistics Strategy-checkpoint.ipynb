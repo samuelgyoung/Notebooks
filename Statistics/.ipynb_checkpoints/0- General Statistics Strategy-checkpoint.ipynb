{
 "cells": [
  {
   "cell_type": "markdown",
   "metadata": {},
   "source": [
    "General Strategy:\n",
    "\n",
    "Very Basic (See Analyzing categorical data.ipynb):\n",
    "\n",
    "1. Generate Two way table\n",
    "2. Get the Marginal Distribution (Percents for each row in the catagory) from the two way table\n",
    "3. Calculat Conditional Relationships from Two way table"
   ]
  },
  {
   "cell_type": "code",
   "execution_count": null,
   "metadata": {},
   "outputs": [],
   "source": []
  }
 ],
 "metadata": {
  "kernelspec": {
   "display_name": "Python 3",
   "language": "python",
   "name": "python3"
  },
  "language_info": {
   "codemirror_mode": {
    "name": "ipython",
    "version": 3
   },
   "file_extension": ".py",
   "mimetype": "text/x-python",
   "name": "python",
   "nbconvert_exporter": "python",
   "pygments_lexer": "ipython3",
   "version": "3.7.4"
  }
 },
 "nbformat": 4,
 "nbformat_minor": 2
}
