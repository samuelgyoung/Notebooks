{
 "cells": [
  {
   "cell_type": "markdown",
   "metadata": {},
   "source": [
    "<h1>3 Modeling data distributions</h1>\n",
    "\n",
    "https://www.khanacademy.org/math/statistics-probability\n"
   ]
  },
  {
   "cell_type": "markdown",
   "metadata": {},
   "source": [
    "<h2>Percentile Rank</h2>\n",
    "\n",
    "What percentage of a group is greater or smaller than something. \n",
    "\n",
    "e.g., various work hours for each person daily, what is the percentile rank for someone who works 4 hours a day?\n",
    "\n"
   ]
  },
  {
   "cell_type": "code",
   "execution_count": 1,
   "metadata": {},
   "outputs": [],
   "source": [
    "#GET PERCENTAGE RANK ON A VALUES THAT ARE GREATER THAN A NUMBER, DO NOT INCLUDE THE VALUE\n",
    "def percentileRankGreaterExclusive(numbersList, numberToEvaluate, EL5TrueFalse=False):\n",
    "    greaterCountExclusive = len([i for i in numbersList if i > numberToEvaluate])\n",
    "    totalCount = len(numbersList)\n",
    "    \n",
    "    if(EL5TrueFalse is True):\n",
    "        print(\"Percent values greater than test number in list, not including test number: \",(greaterCountExclusive/totalCount)*100)\n",
    "    \n",
    "    return greaterCountExclusive/totalCount\n",
    "\n",
    "#GET PERCENTAGE RANK ON A VALUES THAT ARE GREATER THAN A NUMBER, INCLUDE THE VALUE\n",
    "def percentileRankGreaterInclusive(numbersList, numberToEvaluate, EL5TrueFalse=False):\n",
    "    greaterCountInclusive = len([i for i in numbersList if i >= numberToEvaluate])\n",
    "    totalCount = len(numbersList)\n",
    "    \n",
    "    if(EL5TrueFalse is True):\n",
    "        print(\"Percent values greater than test number in list, including test number: \",(greaterCountInclusive/totalCount)*100)\n",
    "    \n",
    "    return greaterCountInclusive/totalCount\n",
    "\n",
    "#GET PERCENTAGE RANK ON A VALUES THAT ARE LESS THAN A NUMBER, DO NOT INCLUDE THE VALUE\n",
    "def percentileRankLessExclusive(numbersList, numberToEvaluate, EL5TrueFalse=False):\n",
    "    lessCountExclusive = len([i for i in numbersList if i < numberToEvaluate])\n",
    "    totalCount = len(numbersList)\n",
    "    \n",
    "    if(EL5TrueFalse is True):\n",
    "        print(\"Percent values less than test number in list, not including test number: \",(lessCountExclusive/totalCount)*100)\n",
    "    \n",
    "    return lessCountExclusive/totalCount\n",
    "\n",
    "#GET PERCENTAGE RANK ON A VALUES THAT ARE LESS THAN A NUMBER, DO NOT INCLUDE THE VALUE\n",
    "def percentileRankLessInclusive(numbersList, numberToEvaluate, EL5TrueFalse=False):\n",
    "    lessCountExclusive = len([i for i in numbersList if i <= numberToEvaluate])\n",
    "    totalCount = len(numbersList)\n",
    "    if(EL5TrueFalse is True):\n",
    "        print(\"Percent values less than test number in list, including test number: \",(lessCountExclusive/totalCount)*100)\n",
    "    \n",
    "    return lessCountExclusive/totalCount"
   ]
  },
  {
   "cell_type": "code",
   "execution_count": 2,
   "metadata": {},
   "outputs": [],
   "source": [
    "numbersList = [1, 7, 5, 6, 3, 8, 2, 4, 9, 10,15,3,3,3,3,3] "
   ]
  },
  {
   "cell_type": "code",
   "execution_count": 3,
   "metadata": {},
   "outputs": [
    {
     "data": {
      "text/plain": [
       "1.0"
      ]
     },
     "execution_count": 3,
     "metadata": {},
     "output_type": "execute_result"
    }
   ],
   "source": [
    "percentileRankGreaterExclusive(numbersList,0)"
   ]
  },
  {
   "cell_type": "code",
   "execution_count": 4,
   "metadata": {},
   "outputs": [
    {
     "data": {
      "text/plain": [
       "0.1875"
      ]
     },
     "execution_count": 4,
     "metadata": {},
     "output_type": "execute_result"
    }
   ],
   "source": [
    "percentileRankGreaterExclusive(numbersList,8)"
   ]
  },
  {
   "cell_type": "code",
   "execution_count": 5,
   "metadata": {},
   "outputs": [
    {
     "data": {
      "text/plain": [
       "0.25"
      ]
     },
     "execution_count": 5,
     "metadata": {},
     "output_type": "execute_result"
    }
   ],
   "source": [
    "percentileRankGreaterInclusive(numbersList,8)"
   ]
  },
  {
   "cell_type": "code",
   "execution_count": 6,
   "metadata": {},
   "outputs": [
    {
     "data": {
      "text/plain": [
       "0.0625"
      ]
     },
     "execution_count": 6,
     "metadata": {},
     "output_type": "execute_result"
    }
   ],
   "source": [
    "percentileRankLessExclusive(numbersList,2)"
   ]
  },
  {
   "cell_type": "code",
   "execution_count": 7,
   "metadata": {},
   "outputs": [
    {
     "data": {
      "text/plain": [
       "0.125"
      ]
     },
     "execution_count": 7,
     "metadata": {},
     "output_type": "execute_result"
    }
   ],
   "source": [
    "percentileRankLessInclusive(numbersList,2)"
   ]
  },
  {
   "cell_type": "markdown",
   "metadata": {},
   "source": [
    "<h2>Z-Score</h2>\n",
    "\n",
    "A z-score measures exactly how many standard deviations above or below the mean a data point is.\n",
    "\n",
    "z = (data point−mean) / standard deviation\n",
    "\n",
    "\n",
    "Here are some important facts about z-scores:\n",
    "- positive z-score says the data point is above average.\n",
    "- negative z-score says the data point is below average.\n",
    "- A z-score close to 0 says the data point is close to average.\n",
    "- A data point can be considered unusual if its z-score is above 3 or below -3\n",
    "\n",
    "If the sample is less than 30, you use a t-score instead."
   ]
  },
  {
   "cell_type": "code",
   "execution_count": 8,
   "metadata": {},
   "outputs": [],
   "source": [
    "#GET THE Z-SCORE FROM A SAMPLE SET OF DATA\n",
    "#isSample means it's from a sample set of data\n",
    "def getZScoreSample(numbersList, dataPoint, EL5TrueFalse=False):\n",
    "    if(EL5TrueFalse is True):\n",
    "        print(\"Number is how many standard deviations a data point is from the mean.\")\n",
    "    \n",
    "\n",
    "    mean = meanOfList(numbersList)\n",
    "    \n",
    "    if(EL5TrueFalse is True):\n",
    "        print(\"Mean :\", mean)\n",
    "    \n",
    "    stdDev = 0\n",
    "\n",
    "    if(len(numbersList) < 30):\n",
    "        print(\"*** Data point count is less than 30. Using t-Score instead of z-Score\")\n",
    "        stdDev = sampleStdDeviationOfList(numbersList)\n",
    "    else:\n",
    "        stdDev = populationStdDeviationOfList(numbersList)\n",
    "        \n",
    "    zScore = (dataPoint - mean)/stdDev\n",
    "    \n",
    "    if(EL5TrueFalse is True):\n",
    "        if(zScore > 0):\n",
    "            print(\"This data point is above average.\")\n",
    "        elif (zScore < 0):\n",
    "            print(\"This data point is below average.\")\n",
    "        else:\n",
    "            print(\"This data points score is 0, which is close to average.\")\n",
    "            \n",
    "        if(zScore < 0.2 and zScore > -0.2):\n",
    "            print(\"This data points score is close to 0, making it close to average.\")\n",
    "    \n",
    "        if(abs(zScore) > 3):\n",
    "            print(\"This data points score is above -3 or 3, it is unusual.\")\n",
    "    \n",
    "    if(EL5TrueFalse is True):\n",
    "        print(\"Z-Score : \", zScore)\n",
    "    \n",
    "    return zScore"
   ]
  },
  {
   "cell_type": "code",
   "execution_count": 11,
   "metadata": {},
   "outputs": [
    {
     "name": "stdout",
     "output_type": "stream",
     "text": [
      "*** Data point count is less than 30. Using t-Score instead of z-Score\n"
     ]
    },
    {
     "data": {
      "text/plain": [
       "-0.6756371031589776"
      ]
     },
     "execution_count": 11,
     "metadata": {},
     "output_type": "execute_result"
    }
   ],
   "source": [
    "getZScoreSample(numbersList, 3, False)"
   ]
  },
  {
   "cell_type": "markdown",
   "metadata": {},
   "source": [
    "<h2>Density Curves</h2>\n",
    "\n",
    "A density curve is a graph that shows probability. The area under the curve is equal to 100 percent of all probabilities.\n",
    "\n",
    "An example would be \"normal distribution\" (one of the most common density curves). \n",
    "\n",
    "Questions you can ask are \"how many people drank between 2 and 3 glasses of water in our data?\" and the answer would be something like 24%. It's the area under the curve.\n",
    "\n",
    "Sources:\n",
    "\n",
    "https://machinelearningmastery.com/probability-density-estimation/"
   ]
  },
  {
   "cell_type": "markdown",
   "metadata": {},
   "source": [
    "The first step is to visualize the data in bins:"
   ]
  },
  {
   "cell_type": "code",
   "execution_count": 12,
   "metadata": {},
   "outputs": [
    {
     "data": {
      "text/plain": [
       "<Figure size 640x480 with 1 Axes>"
      ]
     },
     "metadata": {},
     "output_type": "display_data"
    }
   ],
   "source": [
    "import matplotlib\n",
    "import matplotlib.pyplot as pyplot\n",
    "\n",
    "# plot the histogram and pdf\n",
    "pyplot.hist(numbersList, bins=10, density=True)\n",
    "pyplot.show()"
   ]
  },
  {
   "cell_type": "code",
   "execution_count": 13,
   "metadata": {},
   "outputs": [
    {
     "data": {
      "image/png": "[encoded data removed]",
      "text/plain": [
       "<Figure size 432x288 with 1 Axes>"
      ]
     },
     "metadata": {
      "needs_background": "light"
     },
     "output_type": "display_data"
    }
   ],
   "source": [
    "#GETS A NORMAL DISTRIBUTION DATA\n",
    "\n",
    "# example of plotting a histogram of a random sample\n",
    "from matplotlib import pyplot\n",
    "from numpy.random import normal\n",
    "# generate a sample\n",
    "sample = normal(loc=50, scale=5, size=1000)\n",
    "# plot a histogram of the sample\n",
    "pyplot.hist(sample, bins=10)\n",
    "pyplot.show()"
   ]
  },
  {
   "cell_type": "code",
   "execution_count": 14,
   "metadata": {},
   "outputs": [
    {
     "name": "stdout",
     "output_type": "stream",
     "text": [
      "Mean=50.110, Standard Deviation=5.044\n"
     ]
    }
   ],
   "source": [
    "from numpy import mean\n",
    "from numpy import std\n",
    "from scipy.stats import norm\n",
    "\n",
    "# calculate parameters\n",
    "sample_mean = mean(sample)\n",
    "sample_std = std(sample)\n",
    "print('Mean=%.3f, Standard Deviation=%.3f' % (sample_mean, sample_std))"
   ]
  },
  {
   "cell_type": "code",
   "execution_count": 15,
   "metadata": {},
   "outputs": [],
   "source": [
    "\n",
    "# define the distribution\n",
    "dist = norm(sample_mean, sample_std)"
   ]
  },
  {
   "cell_type": "code",
   "execution_count": null,
   "metadata": {},
   "outputs": [],
   "source": []
  },
  {
   "cell_type": "code",
   "execution_count": 16,
   "metadata": {},
   "outputs": [],
   "source": [
    "# sample probabilities for a range of outcomes\n",
    "values = [value for value in range(30, 70)]\n",
    "\n",
    "#pdf: Probability Density Function\n",
    "probabilities = [dist.pdf(value) for value in values]"
   ]
  },
  {
   "cell_type": "code",
   "execution_count": 17,
   "metadata": {},
   "outputs": [],
   "source": [
    "#probabilities"
   ]
  },
  {
   "cell_type": "code",
   "execution_count": 18,
   "metadata": {},
   "outputs": [
    {
     "data": {
      "text/plain": [
       "3.3235394809171605e-05"
      ]
     },
     "execution_count": 18,
     "metadata": {},
     "output_type": "execute_result"
    }
   ],
   "source": [
    "#WHAT ARE THE ODDS FOR 70 ONLY IN THAT SERIES OF NUMBERS (IT SHOULDB E SMALL)\n",
    "dist.pdf(70)"
   ]
  },
  {
   "cell_type": "code",
   "execution_count": 22,
   "metadata": {},
   "outputs": [
    {
     "data": {
      "text/plain": [
       "0.07907435535074754"
      ]
     },
     "execution_count": 22,
     "metadata": {},
     "output_type": "execute_result"
    }
   ],
   "source": [
    "#WHAT ARE THE ODDS FOR 50 ONLY IN THAT SERIES OF NUMBERS (IT SHOULD BE SIGNIFICANTLY LARGER BECAUSE CENTER)\n",
    "dist.pdf(50)"
   ]
  },
  {
   "cell_type": "code",
   "execution_count": 19,
   "metadata": {},
   "outputs": [
    {
     "data": {
      "text/plain": [
       "0.9999598142870495"
      ]
     },
     "execution_count": 19,
     "metadata": {},
     "output_type": "execute_result"
    }
   ],
   "source": [
    "#WHAT ARE THE ODDS FOR EVERYTHING UP TO 70?\n",
    "dist.cdf(70)"
   ]
  },
  {
   "cell_type": "code",
   "execution_count": 20,
   "metadata": {},
   "outputs": [
    {
     "data": {
      "text/plain": [
       "<bound method rv_frozen.stats of <scipy.stats._distn_infrastructure.rv_frozen object at 0x7fae8e746a10>>"
      ]
     },
     "execution_count": 20,
     "metadata": {},
     "output_type": "execute_result"
    }
   ],
   "source": [
    "dist.stats"
   ]
  },
  {
   "cell_type": "code",
   "execution_count": 21,
   "metadata": {},
   "outputs": [
    {
     "data": {
      "text/plain": [
       "[<matplotlib.lines.Line2D at 0x7fae8efadf90>]"
      ]
     },
     "execution_count": 21,
     "metadata": {},
     "output_type": "execute_result"
    },
    {
     "data": {
      "image/png": "[encoded data removed]",
      "text/plain": [
       "<Figure size 432x288 with 1 Axes>"
      ]
     },
     "metadata": {
      "needs_background": "light"
     },
     "output_type": "display_data"
    }
   ],
   "source": [
    "# plot the histogram and pdf\n",
    "pyplot.hist(sample, bins=10, density=True)\n",
    "pyplot.plot(values, probabilities)"
   ]
  },
  {
   "cell_type": "markdown",
   "metadata": {},
   "source": [
    "<h2>Normal distributions and the empirical rule</h2>\n",
    "\n"
   ]
  },
  {
   "cell_type": "code",
   "execution_count": 69,
   "metadata": {},
   "outputs": [
    {
     "data": {
      "image/jpeg": "[encoded data removed]",
      "text/plain": [
       "<IPython.core.display.Image object>"
      ]
     },
     "execution_count": 69,
     "metadata": {},
     "output_type": "execute_result"
    }
   ],
   "source": [
    "from IPython.display import Image\n",
    "Image(filename='standardDistribution.jpg') "
   ]
  },
  {
   "cell_type": "code",
   "execution_count": 23,
   "metadata": {},
   "outputs": [
    {
     "data": {
      "text/plain": [
       "[1, 7, 5, 6, 3, 8, 2, 4, 9, 10, 15, 3, 3, 3, 3, 3]"
      ]
     },
     "execution_count": 23,
     "metadata": {},
     "output_type": "execute_result"
    }
   ],
   "source": [
    "numbersList"
   ]
  },
  {
   "cell_type": "code",
   "execution_count": 68,
   "metadata": {},
   "outputs": [
    {
     "name": "stdout",
     "output_type": "stream",
     "text": [
      "Population Standard Deviation: 3.565787956398978\n",
      "Sample Standard Deviation: 3.422695392523267\n",
      "The Emperical rule states 68% of data falls within 1 std deviation, 95 within 2 and 99.7 within 3.\n",
      "NOTE! This is assuming a normal distribution!\n",
      "Mean : 5.3125\n",
      "\n",
      "If this is population data, the % probability of values between\n",
      "1st std Devation: 68%  1.746712043601022 and 8.878287956398978\n",
      "2nd std Devation: 95%-1.819075912797956 and 12.444075912797956\n",
      "3rd std Devation: 99.7%  -5.384863869196934 and 16.009863869196934\n",
      "\n",
      "If this is sample data, data, the % probability of values between\n",
      "1st std Devation: 68%  1.8898046074767332 and 8.735195392523266\n",
      "2nd std Devation: 95%  -1.5328907850465336 and 12.157890785046533\n",
      "3rd std Devation: 99.7%  -4.955586177569801 and 15.580586177569801\n"
     ]
    }
   ],
   "source": [
    "getNumberEmpiricalRule(numbersList, True)"
   ]
  },
  {
   "cell_type": "code",
   "execution_count": 67,
   "metadata": {},
   "outputs": [],
   "source": [
    "def getNumberEmpiricalRule(numbersList, EL5TrueFalse=False):\n",
    "    populationStdDeviation = populationStdDeviationOfList(numbersList)\n",
    "    \n",
    "    if(EL5TrueFalse is True):\n",
    "        print(\"Population Standard Deviation: \" + str(populationStdDeviation))\n",
    "    \n",
    "    sampleStdDeviation = sampleStdDeviationOfList(numbersList)\n",
    "    if(EL5TrueFalse is True):\n",
    "        print(\"Sample Standard Deviation: \" + str(sampleStdDeviation))\n",
    "        \n",
    "    if(EL5TrueFalse is True):\n",
    "        print(\"The Emperical rule states 68% of data falls within 1 std deviation, 95 within 2 and 99.7 within 3.\")\n",
    "        print(\"NOTE! This is assuming a normal distribution!\")\n",
    "    \n",
    "    mean = meanOfList(numbersList)\n",
    "    \n",
    "    print (\"Mean : \" + str(mean))\n",
    "    \n",
    "    print (\"\\nIf this is population data, the % probability of values between\")\n",
    "    print (\"1st std Devation: 68%  \" + str(mean - populationStdDeviation) + \" and \" + str(mean + populationStdDeviation))\n",
    "    print (\"2nd std Devation: 95%\" + str(mean - (2*populationStdDeviation)) + \" and \" + str(mean + (2*populationStdDeviation)))\n",
    "    print (\"3rd std Devation: 99.7%  \" + str(mean - (3*populationStdDeviation)) + \" and \" + str(mean + (3*populationStdDeviation)))\n",
    "    \n",
    "\n",
    "    print (\"\\nIf this is sample data, data, the % probability of values between\")\n",
    "    print (\"1st std Devation: 68%  \" + str(mean - sampleStdDeviation) + \" and \" + str(mean + sampleStdDeviation))\n",
    "    print (\"2nd std Devation: 95%  \" + str(mean - (2*sampleStdDeviation)) + \" and \" + str(mean + (2*sampleStdDeviation)))\n",
    "    print (\"3rd std Devation: 99.7%  \" + str(mean - (3*sampleStdDeviation)) + \" and \" + str(mean + (3*sampleStdDeviation)))"
   ]
  },
  {
   "cell_type": "markdown",
   "metadata": {},
   "source": [
    "<h2>Normal distribution calculations</h2>"
   ]
  },
  {
   "cell_type": "code",
   "execution_count": null,
   "metadata": {},
   "outputs": [],
   "source": []
  },
  {
   "cell_type": "code",
   "execution_count": null,
   "metadata": {},
   "outputs": [],
   "source": []
  },
  {
   "cell_type": "code",
   "execution_count": null,
   "metadata": {},
   "outputs": [],
   "source": []
  },
  {
   "cell_type": "code",
   "execution_count": null,
   "metadata": {},
   "outputs": [],
   "source": []
  },
  {
   "cell_type": "code",
   "execution_count": null,
   "metadata": {},
   "outputs": [],
   "source": []
  },
  {
   "cell_type": "code",
   "execution_count": null,
   "metadata": {},
   "outputs": [],
   "source": []
  },
  {
   "cell_type": "code",
   "execution_count": null,
   "metadata": {},
   "outputs": [],
   "source": []
  },
  {
   "cell_type": "markdown",
   "metadata": {},
   "source": [
    "<h2>Helper Function</h2>"
   ]
  },
  {
   "cell_type": "code",
   "execution_count": 10,
   "metadata": {},
   "outputs": [],
   "source": [
    "# Library from 2 - Summarizing qunative data\n",
    "\n",
    "import statistics\n",
    "import math\n",
    "\n",
    "def meanOfList(num):\n",
    "    sumOfNumbers = 0\n",
    "    for t in num:\n",
    "        sumOfNumbers = sumOfNumbers + t\n",
    "\n",
    "    avg = sumOfNumbers / len(num)\n",
    "    return avg\n",
    "\n",
    "import numpy as np \n",
    "#DETERMINE THE SPREAD OF THE NUMBERS. HIGHER NUMBERS MEAN MORE SPREAD.\n",
    "def IQROfList(numbersList, EL5TrueFalse=False):\n",
    "    \n",
    "    ELI5 = EL5TrueFalse\n",
    "    \n",
    "    if(ELI5 == True):\n",
    "        print(\"IQR Determines how spread numbers are. Higher numbers mean more spread. IQR is better with outliers\")\n",
    "        print(\"\\nFirst, it sorts the numbers. Then, takes the first 25% and finds the midpoint. Next, the last 75% and finds the midpoint. Then subtracts both midpoints for the IQR.\")\n",
    "        \n",
    "    numbersList = sorted(numbersList, key=lambda x: x if x is not None else -math.inf)\n",
    "    \n",
    "    # First quartile (Q1) \n",
    "    Q1 = np.percentile(numbersList, 25, interpolation = 'midpoint') \n",
    "    \n",
    "    if(ELI5 == True):\n",
    "        print(\"\\nQ1 (First 25%) midpoint:\",Q1)\n",
    "    \n",
    "    # Third quartile (Q3) \n",
    "    Q3 = np.percentile(numbersList, 75, interpolation = 'midpoint') \n",
    "  \n",
    "    if(ELI5 == True):\n",
    "        print(\"\\nQ3 (Last 75%) midpoint:\",Q3)\n",
    "    \n",
    "    # Interquaritle range (IQR) \n",
    "    IQR = Q3 - Q1\n",
    "    \n",
    "    if(ELI5 == True):\n",
    "        print(\"\\nQ3-Q1 (the IQR)=\",IQR)\n",
    "    \n",
    "    #return numbersList\n",
    "    return IQR\n",
    "\n",
    "\n",
    "def rangeOfList(numbersList):\n",
    "    return numbersList[-1]-numbersList[0]\n",
    "\n",
    "def simpleSkewCheck(mean, median, mode):\n",
    "    #Simple Check for Skewness\n",
    "    #Mode< Median< Mean : then the distribution is positively skewed\n",
    "    #Mode> Median> Mean : then the distribution is negatively skewed\n",
    "    #https://blog.usejournal.com/descriptive-statistics-with-python-6c7acb1d3671\n",
    "    if(mode < median < mean):\n",
    "        print(\"*** Simple Analysis : Distribution is positively skewed (mode < median < mean)\")\n",
    "        return True\n",
    "    elif(mode > median > mean):\n",
    "        print(\"*** Simple Analysis : Distribution is positively skewed (mode > median > mean)\")\n",
    "        return True\n",
    "    else:\n",
    "        return False\n",
    "\n",
    "def populationVarianceOfList(numbersList, EL5TrueFalse=False):\n",
    "    \n",
    "    ELI5 = EL5TrueFalse\n",
    "\n",
    "    meanNumber = meanOfList(numbersList)\n",
    "    count = 0 \n",
    "    sumList = 0\n",
    "\n",
    "    if(ELI5 == True):\n",
    "        print(\"The formula for population variance (sigma squared symbol) is the sum of all data points minus the mean. Square each and add them together. Then divide by the number of data points.\\n\")\n",
    "        print(\"First, lets get the mean...\\n\")\n",
    "        print(\"The mean (mu) is : \",meanNumber,\"\\n\")\n",
    "        print (\"Next, take each value in the dataset, subtracting it from the mean and squaring, then adding all of these.\\n\")\n",
    "\n",
    "    for t in numbersList:\n",
    "        \n",
    "        valueMinusMean = t-meanNumber\n",
    "        valueMinusMeanSquared = valueMinusMean ** 2\n",
    "        if(ELI5 == True):\n",
    "            print (\"Summing (\",t,\"-\",meanNumber,\")^2 =\",valueMinusMeanSquared)\n",
    "        count=count+1\n",
    "        sumList = sumList + valueMinusMeanSquared\n",
    "\n",
    "    if(ELI5 == True):        \n",
    "        print(\"Total:\", sumList)    \n",
    "        print(\"\\nNow, divide the sum by the number of data points: \", sumList, \"divided by \", count, \"gives the variance of...\")\n",
    "\n",
    "    Variance = sumList/count\n",
    "\n",
    "    if(ELI5 == True):\n",
    "        print(\"\\nVariance: \", Variance,\"\\n\")\n",
    "        print(\"What does it mean? The smaller the variance, the less dispurse the dataset is.\")\n",
    "        \n",
    "    return Variance\n",
    "\n",
    "def sampleVarianceOfList(numbersList, EL5TrueFalse=False):\n",
    "    \n",
    "    ELI5 = EL5TrueFalse\n",
    "\n",
    "    meanNumber = meanOfList(numbersList)\n",
    "    count = 0 \n",
    "    sumList = 0\n",
    "\n",
    "    if(ELI5 == True):\n",
    "        print(\"The formula for sample variance (sigma squared symbol) is the sum of all data points minus the mean-1. Square each and add them together. Then divide by the number of data points.\\n\")\n",
    "        print(\"First, lets get the mean...\\n\")\n",
    "        print(\"The mean (mu) is : \",meanNumber,\"\\n\")\n",
    "        print (\"Next, take each value in the dataset, subtracting it from the mean and squaring, then adding all of these.\\n\")\n",
    "\n",
    "    for t in numbersList:\n",
    "        \n",
    "        valueMinusMean = t-meanNumber\n",
    "        valueMinusMeanSquared = valueMinusMean ** 2\n",
    "        if(ELI5 == True):\n",
    "            print (\"Summing (\",t,\"-\",meanNumber,\")^2 =\",valueMinusMeanSquared)\n",
    "        count=count+1\n",
    "        sumList = sumList + valueMinusMeanSquared\n",
    "\n",
    "    if(ELI5 == True):        \n",
    "        print(\"Total:\", sumList)    \n",
    "        print(\"\\nNow, divide the sum by the number of data points: \", sumList, \"divided by \", count-1, \"gives the variance of...\")\n",
    "\n",
    "    Variance = sumList/count-1\n",
    "\n",
    "    if(ELI5 == True):\n",
    "        print(\"\\nVariance: \", Variance,\"\\n\")\n",
    "        print(\"What does it mean? The smaller the variance, the less dispurse the dataset is.\")\n",
    "        \n",
    "    return Variance\n",
    "\n",
    "def populationStdDeviationOfList(numbersList, EL5TrueFalse=False):\n",
    "    ELI5 = EL5TrueFalse\n",
    "    \n",
    "    if(ELI5 == True):\n",
    "        print(\"Population Standard Deviation is how far away on average we are from the mean. The larger the standard deviation, the more spread out the data is.\\n\")\n",
    "        \n",
    "        print(\"To calculate Standard deviation (sigma) you take the square root of the variance.\\n\")\n",
    "    \n",
    "    if(ELI5 == True):\n",
    "        variance = populationVarianceOfList(numbersList, True)\n",
    "        print(\"First we need the variance which is \\n\", variance)\n",
    "        \n",
    "        standardDeviation = math.sqrt(variance)\n",
    "        \n",
    "        print(\"\\nNow we take the square root of the variance (sigma squared), which is \",standardDeviation)\n",
    "                                      \n",
    "        return standardDeviation\n",
    "    else:\n",
    "        variance = populationVarianceOfList(numbersList)\n",
    "        standardDeviation = math.sqrt(variance)                     \n",
    "        return standardDeviation\n",
    "    \n",
    "def sampleStdDeviationOfList(numbersList, EL5TrueFalse=False):\n",
    "    ELI5 = EL5TrueFalse\n",
    "    \n",
    "    if(ELI5 == True):\n",
    "        print(\"Sample Standard Deviation is how far away on average we are from the mean. The larger the standard deviation, the more spread out the data is.\\n\")\n",
    "        \n",
    "        print(\"To calculate Standard deviation (sigma) you take the square root of the variance.\\n\")\n",
    "    \n",
    "    if(ELI5 == True):\n",
    "        variance = sampleVarianceOfList(numbersList, True)\n",
    "        print(\"First we need the variance which is \\n\", variance)\n",
    "        \n",
    "        standardDeviation = math.sqrt(variance)\n",
    "        \n",
    "        print(\"\\nNow we take the square root of the variance (sigma squared), which is \",standardDeviation)\n",
    "                                      \n",
    "        return standardDeviation\n",
    "    else:\n",
    "        variance = sampleVarianceOfList(numbersList)\n",
    "        standardDeviation = math.sqrt(variance)                     \n",
    "        return standardDeviation\n",
    "    \n",
    "#TODO: Check for outliers. IQR is robust to outliers, whereas variance can be hugely affected by a single observation.\n",
    "\n",
    "#Parameters: Data, if it's a sample or population set (true for sample (default) False for population)\n",
    "def runDescriptiveStatisticsPopulation(numbersList):\n",
    "    \n",
    "    numbersList = sorted(numbersList, key=lambda x: x if x is not None else -math.inf)\n",
    "    \n",
    "    mean = meanOfList(numbersList)\n",
    "    median = statistics.median(numbersList)\n",
    "    mode = 'NaN'\n",
    "    \n",
    "    print(\"Population Mean : \" + str(mean))\n",
    "    print(\"Population Median : \" + str(median))\n",
    "    \n",
    "    \n",
    "    isSkewed = False\n",
    "    # check different lengths, if different we have dups \n",
    "    if len(set(numbersList)) != len(numbersList):\n",
    "        mode = statistics.mode(numbersList)\n",
    "        modeCount = reduce(lambda sum, j: sum  + (1 if j == mode else 0), numbersList, 0) \n",
    "        modePercent = modeCount/len(numbersList) * 100\n",
    "        \n",
    "        print(\"Population Mode : \" + str(mode) + \" which is \" + str(modePercent) + \"% of population\")\n",
    "        \n",
    "        isSkewed = simpleSkewCheck(mean, median, mode)\n",
    "        \n",
    "        if(isSkewed is True):\n",
    "            print(\"*** Data is skewed. Mode or Median might be a better representation of the distribution\")\n",
    "            \n",
    "            meanGreaterThanList = sum(i < mean for i in numbersList)\n",
    "            percentMeanGreater = meanGreaterThanList / len(numbersList)\n",
    "            \n",
    "            if(percentMeanGreater > .75):\n",
    "                print(\"*** Mean is greater than 75% of the data in the list, usually median should be used.\")\n",
    "\n",
    "            if(percentMeanGreater < .25):\n",
    "                print(\"*** Mean is less than 75% of the data in the list, usually median should be used.\")    \n",
    " \n",
    "        else:\n",
    "            print(\"*** Data is not skewed. Mean might be accurate representation of data\")\n",
    "    \n",
    "    else:\n",
    "        print(\"Mode : No Duplicates - \" + mode)\n",
    "        print(\"*** No mode to check for skew.\")\n",
    "\n",
    "    IQR = IQROfList(numbersList)\n",
    "    print(\"IQR : \" + str(IQR))\n",
    "    \n",
    "    outliers = getOutliersCount(numbersList, False, 1.5)\n",
    "    print(\"Number of outliers based off 1.5 * IQR (the standard): \", outliers)\n",
    "    \n",
    "    if(outliers > 0):\n",
    "        print(\"*** Because the outliers is greater than 0, the mid range could be influenced and may not be accurate.\")\n",
    "    else:\n",
    "        print(\"*** No outliers detected, mid range may be an accurate represntation of the middle and represent the mean.\")\n",
    "    \n",
    "    print(\"Mid-range : \", midRange(numbersList))\n",
    "    \n",
    "    stdDeviation = populationStdDeviationOfList(numbersList)\n",
    "    \n",
    "    print(\"Population Standard Deviation : \" + str(stdDeviation))\n",
    "    \n",
    "    MAD = meanAbsoluteStandardDeviation(numbersList)\n",
    "    print(\"Population Mean Absolute Deviation : \" + str(MAD))\n",
    "    \n",
    "    if(isSkewed is True):\n",
    "        print(\"*** Data is skewed. Because IQR uses the median(s) for calulations which are not influenced by skew (or less influenced), it better represents the center vs std deviation which uses the mean that is influenced by the skew.\")\n",
    "    else:\n",
    "        print(\"*** Data is not skewed. Standard Deviation might be a good representation as the average from the center.\")\n",
    "\n",
    "#TODO: Check for outliers. IQR is robust to outliers, whereas variance can be hugely affected by a single observation.\n",
    "\n",
    "#Parameters: Data, if it's a sample or population set (true for sample (default) False for population)\n",
    "def runDescriptiveStatisticsSample(numbersList, ELI5TrueFalse=False):\n",
    "    \n",
    "    ELI5 = ELI5TrueFalse\n",
    "    \n",
    "    numbersList = sorted(numbersList, key=lambda x: x if x is not None else -math.inf)\n",
    "    \n",
    "    mean = meanOfList(numbersList)\n",
    "    median = statistics.median(numbersList)\n",
    "    mode = 'NaN'\n",
    "    if(ELI5 is True):\n",
    "            print(\"All numbers added together, then divided by the sample. Skew influnces this number.\")\n",
    "    print(\"Sample Mean : \" + str(mean))\n",
    "    \n",
    "    if(ELI5 is True):\n",
    "            print(\"The middle numbers sorted. It is less influenced by skew.\")\n",
    "    print(\"Sample Median : \" + str(median))\n",
    "    \n",
    "    if(ELI5 is True):\n",
    "            print(\"The Median on the left of the average subtracted by the median on the right of the average.\")\n",
    "            print(\"Higher numbers mean more spread out data.\")\n",
    "    IQR = IQROfList(numbersList)\n",
    "    \n",
    "    \n",
    "    print(\"IQR : \" + str(IQR))\n",
    "    \n",
    "    if(ELI5 is True):\n",
    "            print(\"The Square root of variance. How far the number are from the average. Skew influences this.\")\n",
    "    stdDeviation = sampleStdDeviationOfList(numbersList)\n",
    "    MAD = meanAbsoluteStandardDeviation(numbersList)\n",
    "    \n",
    "    if(ELI5 is True):\n",
    "            print(\"average distance between each data value and the mean. Mean absolute deviation is a way to describe variation in a data set. Mean absolute deviation helps us get a sense of how \\\"spread out\\\" the values in a data set are.\")\n",
    "    print(\"Sample Mean Absolute Deviation : \" + str(MAD))\n",
    "    print(\"Sample Standard Deviation : \" + str(stdDeviation))\n",
    "    \n",
    "    \n",
    "from functools import reduce\n",
    "\n",
    "def getOutliersCount(numbersList, EL5TrueFalse=False, Threshold=1.5):\n",
    "    \n",
    "    ELI5 = EL5TrueFalse\n",
    "    \n",
    "    if(ELI5 is True):\n",
    "        print(\"*** < Q1 - 1.5 * IQR or > Q3 - 1.5 * IQR is the usual agreed upon.\")\n",
    "    \n",
    "    IQR = IQROfList(numbersList)\n",
    "    Q1 = np.percentile(numbersList, 25, interpolation = 'midpoint') \n",
    "    Q3 = np.percentile(numbersList, 75, interpolation = 'midpoint')\n",
    "    outliersLeft = Q1 - Threshold*IQR\n",
    "    outliersRight = Q3 + Threshold*IQR\n",
    "    \n",
    "    countRight = reduce(lambda sum, j: sum  + (1 if j > outliersRight else 0), numbersList, 0) \n",
    "    countLeft = reduce(lambda sum, j: sum  + (1 if j < outliersLeft else 0), numbersList, 0)\n",
    "    \n",
    "    countTotal = countRight + countLeft\n",
    "    \n",
    "    if(ELI5 is True):\n",
    "        \n",
    "        print(\"Total Outliers Right : \", countRight)\n",
    "        print(\"Total Outliers Left : \", countLeft)\n",
    "        print(\"Total Outliers Count : \", countTotal)\n",
    "        \n",
    "        print(\"\\nAnything Left Of this is an Outlier: \", outliersLeft )\n",
    "        print(\"Anything Right Of this is an Outlier : \", outliersRight)\n",
    "    return countTotal\n",
    "\n",
    "def midRange(numbersList, EL5TrueFalse=False):\n",
    "    ELI5 = EL5TrueFalse\n",
    "    \n",
    "    if (ELI5 is True):\n",
    "        print(\"* Mid Range is the average between the larges and smallest value in the dataset.\")\n",
    "        print(\"* It is highly influenced by outliers.\")\n",
    "        \n",
    "    return (numbersList[0] + numbersList[-1])/2\n",
    "\n",
    "def meanAbsoluteStandardDeviation(numbersList, EL5TrueFalse=False):\n",
    "    ELI5 = EL5TrueFalse\n",
    "    \n",
    "    if (ELI5 is True):\n",
    "        print(\"1. Get the mean, 2. Subtract the mean from every item,take the absolute value of each. Add them. 3. Divide by the number of Items.\")\n",
    "        print(\"MAD is good for normally distributed (bell curve) data.\")\n",
    "    \n",
    "    mean = meanOfList(numbersList)\n",
    "    count = 0\n",
    "    total = 0\n",
    "    for i in numbersList:\n",
    "        if (ELI5 is True):\n",
    "            print (\"Adding Absolute Value of \",i, \"-\",mean)\n",
    "    \n",
    "        total = total + abs(i - mean)\n",
    "        count = count + 1\n",
    "    \n",
    "    if (ELI5 is True):\n",
    "        print(\"Total : \", total)\n",
    "        print(\"Divided by:\", count)\n",
    "        print(total/count)\n",
    "    \n",
    "    return total/count\n",
    "\n"
   ]
  },
  {
   "cell_type": "code",
   "execution_count": null,
   "metadata": {},
   "outputs": [],
   "source": []
  }
 ],
 "metadata": {
  "kernelspec": {
   "display_name": "Python 3",
   "language": "python",
   "name": "python3"
  },
  "language_info": {
   "codemirror_mode": {
    "name": "ipython",
    "version": 3
   },
   "file_extension": ".py",
   "mimetype": "text/x-python",
   "name": "python",
   "nbconvert_exporter": "python",
   "pygments_lexer": "ipython3",
   "version": "3.7.4"
  }
 },
 "nbformat": 4,
 "nbformat_minor": 2
}
