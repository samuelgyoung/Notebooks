{
 "cells": [
  {
   "cell_type": "code",
   "execution_count": 169,
   "metadata": {},
   "outputs": [],
   "source": [
    "import pandas as pd"
   ]
  },
  {
   "cell_type": "code",
   "execution_count": 170,
   "metadata": {},
   "outputs": [],
   "source": [
    "humans_pd = pd.read_csv('/Users/sgyoung/Desktop/Humans.csv')"
   ]
  },
  {
   "cell_type": "code",
   "execution_count": 171,
   "metadata": {},
   "outputs": [],
   "source": [
    "humans_pd_samp = humans_pd.head(3)"
   ]
  },
  {
   "cell_type": "code",
   "execution_count": 172,
   "metadata": {},
   "outputs": [],
   "source": [
    "#humans_pd"
   ]
  },
  {
   "cell_type": "code",
   "execution_count": 173,
   "metadata": {},
   "outputs": [],
   "source": [
    "destination_pd = pd.read_csv('/Users/sgyoung/Desktop/Destintaion.csv')"
   ]
  },
  {
   "cell_type": "code",
   "execution_count": 174,
   "metadata": {},
   "outputs": [],
   "source": [
    "#destination_pd"
   ]
  },
  {
   "cell_type": "code",
   "execution_count": 175,
   "metadata": {},
   "outputs": [
    {
     "name": "stdout",
     "output_type": "stream",
     "text": [
      "Requirement already satisfied: pgeocode in /Users/sgyoung/Anaconda/anaconda3/lib/python3.7/site-packages (0.3.0)\n",
      "Requirement already satisfied: numpy in /Users/sgyoung/Anaconda/anaconda3/lib/python3.7/site-packages (from pgeocode) (1.17.2)\n",
      "Requirement already satisfied: requests in /Users/sgyoung/Anaconda/anaconda3/lib/python3.7/site-packages (from pgeocode) (2.22.0)\n",
      "Requirement already satisfied: pandas in /Users/sgyoung/Anaconda/anaconda3/lib/python3.7/site-packages (from pgeocode) (0.25.1)\n",
      "Requirement already satisfied: certifi>=2017.4.17 in /Users/sgyoung/Anaconda/anaconda3/lib/python3.7/site-packages (from requests->pgeocode) (2019.9.11)\n",
      "Requirement already satisfied: idna<2.9,>=2.5 in /Users/sgyoung/Anaconda/anaconda3/lib/python3.7/site-packages (from requests->pgeocode) (2.8)\n",
      "Requirement already satisfied: chardet<3.1.0,>=3.0.2 in /Users/sgyoung/Anaconda/anaconda3/lib/python3.7/site-packages (from requests->pgeocode) (3.0.4)\n",
      "Requirement already satisfied: urllib3!=1.25.0,!=1.25.1,<1.26,>=1.21.1 in /Users/sgyoung/Anaconda/anaconda3/lib/python3.7/site-packages (from requests->pgeocode) (1.24.2)\n",
      "Requirement already satisfied: pytz>=2017.2 in /Users/sgyoung/Anaconda/anaconda3/lib/python3.7/site-packages (from pandas->pgeocode) (2019.3)\n",
      "Requirement already satisfied: python-dateutil>=2.6.1 in /Users/sgyoung/Anaconda/anaconda3/lib/python3.7/site-packages (from pandas->pgeocode) (2.8.0)\n",
      "Requirement already satisfied: six>=1.5 in /Users/sgyoung/Anaconda/anaconda3/lib/python3.7/site-packages (from python-dateutil>=2.6.1->pandas->pgeocode) (1.12.0)\n",
      "Note: you may need to restart the kernel to use updated packages.\n"
     ]
    }
   ],
   "source": [
    "pip install pgeocode"
   ]
  },
  {
   "cell_type": "code",
   "execution_count": 176,
   "metadata": {},
   "outputs": [],
   "source": [
    "#pip install geopy"
   ]
  },
  {
   "cell_type": "code",
   "execution_count": 177,
   "metadata": {},
   "outputs": [],
   "source": [
    "import pgeocode"
   ]
  },
  {
   "cell_type": "code",
   "execution_count": 178,
   "metadata": {},
   "outputs": [],
   "source": [
    "#nomi = pgeocode.Nominatim('us')"
   ]
  },
  {
   "cell_type": "code",
   "execution_count": 179,
   "metadata": {},
   "outputs": [],
   "source": [
    "#https://pypi.org/project/pgeocode/\n",
    "#nomi.query_postal_code(\"78666\")\n"
   ]
  },
  {
   "cell_type": "code",
   "execution_count": 180,
   "metadata": {},
   "outputs": [],
   "source": [
    "#dist = pgeocode.GeoDistance('us')"
   ]
  },
  {
   "cell_type": "code",
   "execution_count": 181,
   "metadata": {},
   "outputs": [],
   "source": [
    "#dist.query_postal_code(\"78666\", \"78736\")"
   ]
  },
  {
   "cell_type": "code",
   "execution_count": 182,
   "metadata": {},
   "outputs": [],
   "source": [
    "#dist.query_postal_code(78736, 78701)"
   ]
  },
  {
   "cell_type": "code",
   "execution_count": 183,
   "metadata": {},
   "outputs": [],
   "source": [
    "#humanZip = 78736\n",
    "#for i in range(len(destination_pd)):\n",
    "#    zipPod = destination_pd.loc[i, \"ZIP\"]\n",
    "#    dist = pgeocode.GeoDistance('us')\n",
    "#    zipDistance = dist.query_postal_code(humanZip, int(zipPod))\n",
    "    \n",
    "#    print(\"Zip \" + str(zipPod) + \" Distance \" + str(zipDistance))"
   ]
  },
  {
   "cell_type": "code",
   "execution_count": 184,
   "metadata": {},
   "outputs": [],
   "source": [
    "#humans_pd_samp"
   ]
  },
  {
   "cell_type": "code",
   "execution_count": 196,
   "metadata": {},
   "outputs": [],
   "source": [
    "def getShortestZipDistance(humanZipCode, destinationZipCodeList_pd):\n",
    "    shortestZipDistance = -1\n",
    "    shortestZipCode = \"\"\n",
    "    \n",
    "    for i in range(len(destinationZipCodeList_pd)):\n",
    "        zipPod = destinationZipCodeList_pd.loc[i, \"ZIP\"]\n",
    "        zipCode = destinationZipCodeList_pd.loc[i, \"Hubs\"]\n",
    "        \n",
    "        dist = pgeocode.GeoDistance('us')\n",
    "        zipDistance = dist.query_postal_code(humanZipCode, int(zipPod))\n",
    "\n",
    "        if(shortestZipDistance == -1):\n",
    "            shortestZipDistance = zipDistance\n",
    "            shortestZipCode = zipCode\n",
    "        if(shortestZipDistance > zipDistance):\n",
    "            shortestZipDistance = zipDistance\n",
    "            shortestZipCode = zipCode\n",
    "        #print(zipCode + \"  \" + shortestZipCode)\n",
    "        #print(\"Zip \" + str(zipPod) + \" Distance \" + str(zipDistance) + \" shortest zip \" + str(shortestZip))\n",
    "    #return shortestZipCode \n",
    "    return shortestZipDistance "
   ]
  },
  {
   "cell_type": "code",
   "execution_count": 189,
   "metadata": {},
   "outputs": [],
   "source": [
    "#print(getShortestZipDistance(90210, destination_pd))"
   ]
  },
  {
   "cell_type": "code",
   "execution_count": 190,
   "metadata": {},
   "outputs": [
    {
     "name": "stdout",
     "output_type": "stream",
     "text": [
      "23.602463884547042\n",
      "256.53511898295335\n",
      "152.6979196241967\n",
      "217.15808847304007\n",
      "0.0\n",
      "28.251310373616985\n",
      "15.479459210751864\n",
      "24.69437537550786\n",
      "189.38273714787337\n",
      "21.829171577016037\n",
      "93.69578706655952\n",
      "45.36792110538982\n",
      "15.562506376979478\n",
      "38.80884829846007\n",
      "19.968782521339694\n",
      "164.75853426800413\n",
      "353.62645533647617\n",
      "40.56808403310144\n",
      "219.74908443311926\n",
      "264.543281400497\n",
      "nan\n",
      "0.0\n",
      "18.928720145002888\n",
      "34.218646432340165\n",
      "27.802651911110768\n",
      "117.84347800051569\n",
      "4.0925730367845725\n",
      "4.300879338104253\n",
      "29.17228059908623\n",
      "15.094398343965738\n",
      "21.292211715983964\n",
      "208.65868691409477\n",
      "25.43611111480847\n",
      "47.112026573462394\n",
      "17.974322498259774\n",
      "7.750811789545804\n",
      "24.69437537550786\n",
      "41.625306341748676\n",
      "37.50951543090727\n",
      "43.89719612845711\n",
      "41.249784162954825\n",
      "298.87740181191475\n",
      "30.134864650424984\n",
      "31.891479773428834\n",
      "97.91940649115135\n",
      "5.656445101871874\n",
      "11.106651485587062\n",
      "nan\n",
      "398.4075010399969\n",
      "8.669141525018125\n",
      "11.988196820033398\n",
      "14.535005339882684\n",
      "14.157532049410504\n",
      "120.36814016787945\n",
      "26.741404718740245\n",
      "13.49558529255786\n",
      "4.398341873212481\n",
      "26.070343374095057\n",
      "305.03332743278685\n",
      "3.5182303480868473\n",
      "46.79857948573083\n",
      "10.515907319659986\n",
      "4.300879338104253\n",
      "46.79857948573083\n",
      "23.40027139134946\n",
      "286.9718920840233\n"
     ]
    }
   ],
   "source": [
    "for i in range(len(humans_pd)):\n",
    "    humanZip = humans_pd.loc[i, \"ZIP\"]\n",
    "    print(getShortestZipDistance(int(humanZip), destination_pd))"
   ]
  },
  {
   "cell_type": "code",
   "execution_count": 100,
   "metadata": {},
   "outputs": [
    {
     "data": {
      "text/html": [
       "<div>\n",
       "<style scoped>\n",
       "    .dataframe tbody tr th:only-of-type {\n",
       "        vertical-align: middle;\n",
       "    }\n",
       "\n",
       "    .dataframe tbody tr th {\n",
       "        vertical-align: top;\n",
       "    }\n",
       "\n",
       "    .dataframe thead th {\n",
       "        text-align: right;\n",
       "    }\n",
       "</style>\n",
       "<table border=\"1\" class=\"dataframe\">\n",
       "  <thead>\n",
       "    <tr style=\"text-align: right;\">\n",
       "      <th></th>\n",
       "      <th>Name</th>\n",
       "      <th>ZIP</th>\n",
       "    </tr>\n",
       "  </thead>\n",
       "  <tbody>\n",
       "    <tr>\n",
       "      <td>0</td>\n",
       "      <td>Courtney Cole</td>\n",
       "      <td>67052</td>\n",
       "    </tr>\n",
       "    <tr>\n",
       "      <td>1</td>\n",
       "      <td>Caroline Souza</td>\n",
       "      <td>37909</td>\n",
       "    </tr>\n",
       "    <tr>\n",
       "      <td>2</td>\n",
       "      <td>Jamison Miller</td>\n",
       "      <td>54115</td>\n",
       "    </tr>\n",
       "  </tbody>\n",
       "</table>\n",
       "</div>"
      ],
      "text/plain": [
       "             Name    ZIP\n",
       "0   Courtney Cole  67052\n",
       "1  Caroline Souza  37909\n",
       "2  Jamison Miller  54115"
      ]
     },
     "execution_count": 100,
     "metadata": {},
     "output_type": "execute_result"
    }
   ],
   "source": [
    "#humans_pd_samp"
   ]
  },
  {
   "cell_type": "code",
   "execution_count": 191,
   "metadata": {},
   "outputs": [
    {
     "data": {
      "text/plain": [
       "41.098126775903836"
      ]
     },
     "execution_count": 191,
     "metadata": {},
     "output_type": "execute_result"
    }
   ],
   "source": [
    "dist.query_postal_code(\"07027\", \"78736\")"
   ]
  },
  {
   "cell_type": "code",
   "execution_count": 197,
   "metadata": {},
   "outputs": [
    {
     "name": "stdout",
     "output_type": "stream",
     "text": [
      "234.08088013762\n"
     ]
    }
   ],
   "source": [
    "print(getShortestZipDistance(\"06798\", destination_pd))"
   ]
  },
  {
   "cell_type": "code",
   "execution_count": null,
   "metadata": {},
   "outputs": [],
   "source": []
  }
 ],
 "metadata": {
  "kernelspec": {
   "display_name": "Python 3",
   "language": "python",
   "name": "python3"
  },
  "language_info": {
   "codemirror_mode": {
    "name": "ipython",
    "version": 3
   },
   "file_extension": ".py",
   "mimetype": "text/x-python",
   "name": "python",
   "nbconvert_exporter": "python",
   "pygments_lexer": "ipython3",
   "version": "3.7.4"
  }
 },
 "nbformat": 4,
 "nbformat_minor": 2
}
