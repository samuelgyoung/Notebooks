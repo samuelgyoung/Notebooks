{
 "cells": [
  {
   "cell_type": "code",
   "execution_count": 4,
   "metadata": {},
   "outputs": [],
   "source": [
    "import pandas as pd"
   ]
  },
  {
   "cell_type": "code",
   "execution_count": 5,
   "metadata": {},
   "outputs": [],
   "source": [
    "df_Top_500=pd.read_csv('Top_500_Songs.csv')"
   ]
  },
  {
   "cell_type": "code",
   "execution_count": 6,
   "metadata": {},
   "outputs": [
    {
     "data": {
      "text/html": [
       "<div>\n",
       "<style scoped>\n",
       "    .dataframe tbody tr th:only-of-type {\n",
       "        vertical-align: middle;\n",
       "    }\n",
       "\n",
       "    .dataframe tbody tr th {\n",
       "        vertical-align: top;\n",
       "    }\n",
       "\n",
       "    .dataframe thead th {\n",
       "        text-align: right;\n",
       "    }\n",
       "</style>\n",
       "<table border=\"1\" class=\"dataframe\">\n",
       "  <thead>\n",
       "    <tr style=\"text-align: right;\">\n",
       "      <th></th>\n",
       "      <th>title</th>\n",
       "      <th>description</th>\n",
       "      <th>appears on</th>\n",
       "      <th>artist</th>\n",
       "      <th>writers</th>\n",
       "      <th>producer</th>\n",
       "      <th>released</th>\n",
       "      <th>streak</th>\n",
       "    </tr>\n",
       "  </thead>\n",
       "  <tbody>\n",
       "    <tr>\n",
       "      <td>0</td>\n",
       "      <td>Shop Around</td>\n",
       "      <td>Robinson thought Barrett Strong should record ...</td>\n",
       "      <td>The Ultimate Collection (Motown)</td>\n",
       "      <td>Smokey Robinson and the Miracles</td>\n",
       "      <td>Berry Gordy, Robinson</td>\n",
       "      <td>Gordy</td>\n",
       "      <td>Dec. '60, Tamla</td>\n",
       "      <td>16 weeks; No. 2</td>\n",
       "    </tr>\n",
       "    <tr>\n",
       "      <td>1</td>\n",
       "      <td>Buddy Holly</td>\n",
       "      <td>In the early 1990s, Cuomo had an awkward girlf...</td>\n",
       "      <td>Weezer (Geffen)</td>\n",
       "      <td>Weezer</td>\n",
       "      <td>Rivers Cuomo</td>\n",
       "      <td>Ric Ocasek</td>\n",
       "      <td>Aug. '94, DGC</td>\n",
       "      <td>21 weeks; No. 18</td>\n",
       "    </tr>\n",
       "    <tr>\n",
       "      <td>2</td>\n",
       "      <td>Miss You</td>\n",
       "      <td>The Stones were in Toronto, rehearsing for the...</td>\n",
       "      <td>Some Girls (Virgin)</td>\n",
       "      <td>The Rolling Stones</td>\n",
       "      <td>Mick Jagger, Keith Richards</td>\n",
       "      <td>The Glimmer Twins</td>\n",
       "      <td>May '78, Rolling Stones</td>\n",
       "      <td>20 weeks; No. 1</td>\n",
       "    </tr>\n",
       "    <tr>\n",
       "      <td>3</td>\n",
       "      <td>The Rising</td>\n",
       "      <td>Springsteen wrote the track about 9/11, taking...</td>\n",
       "      <td>The Rising (Columbia)</td>\n",
       "      <td>Bruce Springsteen</td>\n",
       "      <td>Springsteen</td>\n",
       "      <td>Brendan O'Brien</td>\n",
       "      <td>July '02, Columbia</td>\n",
       "      <td>11 weeks; No. 52</td>\n",
       "    </tr>\n",
       "    <tr>\n",
       "      <td>4</td>\n",
       "      <td>Running on Empty</td>\n",
       "      <td>The Running on Empty album was Browne's grand ...</td>\n",
       "      <td>Running on Empty (Elektra)</td>\n",
       "      <td>Jackson Browne</td>\n",
       "      <td>Browne</td>\n",
       "      <td>Browne</td>\n",
       "      <td>Jan. '77, Asylum</td>\n",
       "      <td>17 weeks; No. 11</td>\n",
       "    </tr>\n",
       "  </tbody>\n",
       "</table>\n",
       "</div>"
      ],
      "text/plain": [
       "              title                                        description  \\\n",
       "0       Shop Around  Robinson thought Barrett Strong should record ...   \n",
       "1       Buddy Holly  In the early 1990s, Cuomo had an awkward girlf...   \n",
       "2          Miss You  The Stones were in Toronto, rehearsing for the...   \n",
       "3        The Rising  Springsteen wrote the track about 9/11, taking...   \n",
       "4  Running on Empty  The Running on Empty album was Browne's grand ...   \n",
       "\n",
       "                         appears on                            artist  \\\n",
       "0  The Ultimate Collection (Motown)  Smokey Robinson and the Miracles   \n",
       "1                   Weezer (Geffen)                            Weezer   \n",
       "2               Some Girls (Virgin)                The Rolling Stones   \n",
       "3             The Rising (Columbia)                 Bruce Springsteen   \n",
       "4        Running on Empty (Elektra)                    Jackson Browne   \n",
       "\n",
       "                       writers           producer                 released  \\\n",
       "0        Berry Gordy, Robinson              Gordy          Dec. '60, Tamla   \n",
       "1                 Rivers Cuomo         Ric Ocasek            Aug. '94, DGC   \n",
       "2  Mick Jagger, Keith Richards  The Glimmer Twins  May '78, Rolling Stones   \n",
       "3                  Springsteen    Brendan O'Brien       July '02, Columbia   \n",
       "4                       Browne             Browne         Jan. '77, Asylum   \n",
       "\n",
       "             streak  \n",
       "0   16 weeks; No. 2  \n",
       "1  21 weeks; No. 18  \n",
       "2   20 weeks; No. 1  \n",
       "3  11 weeks; No. 52  \n",
       "4  17 weeks; No. 11  "
      ]
     },
     "execution_count": 6,
     "metadata": {},
     "output_type": "execute_result"
    }
   ],
   "source": [
    "df_Top_500.head()"
   ]
  },
  {
   "cell_type": "code",
   "execution_count": 10,
   "metadata": {},
   "outputs": [
    {
     "data": {
      "text/plain": [
       "count            500\n",
       "unique           125\n",
       "top       Elton John\n",
       "freq              18\n",
       "Name: artist, dtype: object"
      ]
     },
     "execution_count": 10,
     "metadata": {},
     "output_type": "execute_result"
    }
   ],
   "source": [
    "df_Top_500['artist'].describe(include='all')"
   ]
  },
  {
   "cell_type": "code",
   "execution_count": 12,
   "metadata": {},
   "outputs": [
    {
     "data": {
      "text/plain": [
       "Elton John                     18\n",
       "The Beatles                    16\n",
       "Elvis Presley                  12\n",
       "The Jimi Hendrix Experience    12\n",
       "The Four Tops                  10\n",
       "                               ..\n",
       "John Cougar Mellencamp          2\n",
       "Jackson Browne                  2\n",
       "Alice Cooper                    2\n",
       "Big Star                        2\n",
       "50 Cent                         2\n",
       "Name: artist, Length: 125, dtype: int64"
      ]
     },
     "execution_count": 12,
     "metadata": {},
     "output_type": "execute_result"
    }
   ],
   "source": [
    "df_Top_500['artist'].value_counts()"
   ]
  },
  {
   "cell_type": "code",
   "execution_count": 28,
   "metadata": {},
   "outputs": [],
   "source": [
    "df_Top_500_Artist_Counts = df_Top_500['artist'].value_counts().rename_axis('unique_values').reset_index(name='counts')"
   ]
  },
  {
   "cell_type": "code",
   "execution_count": 29,
   "metadata": {},
   "outputs": [
    {
     "data": {
      "text/html": [
       "<div>\n",
       "<style scoped>\n",
       "    .dataframe tbody tr th:only-of-type {\n",
       "        vertical-align: middle;\n",
       "    }\n",
       "\n",
       "    .dataframe tbody tr th {\n",
       "        vertical-align: top;\n",
       "    }\n",
       "\n",
       "    .dataframe thead th {\n",
       "        text-align: right;\n",
       "    }\n",
       "</style>\n",
       "<table border=\"1\" class=\"dataframe\">\n",
       "  <thead>\n",
       "    <tr style=\"text-align: right;\">\n",
       "      <th></th>\n",
       "      <th>unique_values</th>\n",
       "      <th>counts</th>\n",
       "    </tr>\n",
       "  </thead>\n",
       "  <tbody>\n",
       "    <tr>\n",
       "      <td>0</td>\n",
       "      <td>Elton John</td>\n",
       "      <td>18</td>\n",
       "    </tr>\n",
       "    <tr>\n",
       "      <td>1</td>\n",
       "      <td>The Beatles</td>\n",
       "      <td>16</td>\n",
       "    </tr>\n",
       "    <tr>\n",
       "      <td>2</td>\n",
       "      <td>Elvis Presley</td>\n",
       "      <td>12</td>\n",
       "    </tr>\n",
       "    <tr>\n",
       "      <td>3</td>\n",
       "      <td>The Jimi Hendrix Experience</td>\n",
       "      <td>12</td>\n",
       "    </tr>\n",
       "    <tr>\n",
       "      <td>4</td>\n",
       "      <td>The Four Tops</td>\n",
       "      <td>10</td>\n",
       "    </tr>\n",
       "    <tr>\n",
       "      <td>...</td>\n",
       "      <td>...</td>\n",
       "      <td>...</td>\n",
       "    </tr>\n",
       "    <tr>\n",
       "      <td>120</td>\n",
       "      <td>John Cougar Mellencamp</td>\n",
       "      <td>2</td>\n",
       "    </tr>\n",
       "    <tr>\n",
       "      <td>121</td>\n",
       "      <td>Jackson Browne</td>\n",
       "      <td>2</td>\n",
       "    </tr>\n",
       "    <tr>\n",
       "      <td>122</td>\n",
       "      <td>Alice Cooper</td>\n",
       "      <td>2</td>\n",
       "    </tr>\n",
       "    <tr>\n",
       "      <td>123</td>\n",
       "      <td>Big Star</td>\n",
       "      <td>2</td>\n",
       "    </tr>\n",
       "    <tr>\n",
       "      <td>124</td>\n",
       "      <td>50 Cent</td>\n",
       "      <td>2</td>\n",
       "    </tr>\n",
       "  </tbody>\n",
       "</table>\n",
       "<p>125 rows × 2 columns</p>\n",
       "</div>"
      ],
      "text/plain": [
       "                   unique_values  counts\n",
       "0                     Elton John      18\n",
       "1                    The Beatles      16\n",
       "2                  Elvis Presley      12\n",
       "3    The Jimi Hendrix Experience      12\n",
       "4                  The Four Tops      10\n",
       "..                           ...     ...\n",
       "120       John Cougar Mellencamp       2\n",
       "121               Jackson Browne       2\n",
       "122                 Alice Cooper       2\n",
       "123                     Big Star       2\n",
       "124                      50 Cent       2\n",
       "\n",
       "[125 rows x 2 columns]"
      ]
     },
     "execution_count": 29,
     "metadata": {},
     "output_type": "execute_result"
    }
   ],
   "source": [
    "df_Top_500_Artist_Counts"
   ]
  },
  {
   "cell_type": "code",
   "execution_count": 30,
   "metadata": {},
   "outputs": [
    {
     "data": {
      "text/html": [
       "<div>\n",
       "<style scoped>\n",
       "    .dataframe tbody tr th:only-of-type {\n",
       "        vertical-align: middle;\n",
       "    }\n",
       "\n",
       "    .dataframe tbody tr th {\n",
       "        vertical-align: top;\n",
       "    }\n",
       "\n",
       "    .dataframe thead th {\n",
       "        text-align: right;\n",
       "    }\n",
       "</style>\n",
       "<table border=\"1\" class=\"dataframe\">\n",
       "  <thead>\n",
       "    <tr style=\"text-align: right;\">\n",
       "      <th></th>\n",
       "      <th>counts</th>\n",
       "    </tr>\n",
       "  </thead>\n",
       "  <tbody>\n",
       "    <tr>\n",
       "      <td>count</td>\n",
       "      <td>125.000000</td>\n",
       "    </tr>\n",
       "    <tr>\n",
       "      <td>mean</td>\n",
       "      <td>4.000000</td>\n",
       "    </tr>\n",
       "    <tr>\n",
       "      <td>std</td>\n",
       "      <td>2.918241</td>\n",
       "    </tr>\n",
       "    <tr>\n",
       "      <td>min</td>\n",
       "      <td>2.000000</td>\n",
       "    </tr>\n",
       "    <tr>\n",
       "      <td>25%</td>\n",
       "      <td>2.000000</td>\n",
       "    </tr>\n",
       "    <tr>\n",
       "      <td>50%</td>\n",
       "      <td>2.000000</td>\n",
       "    </tr>\n",
       "    <tr>\n",
       "      <td>75%</td>\n",
       "      <td>6.000000</td>\n",
       "    </tr>\n",
       "    <tr>\n",
       "      <td>max</td>\n",
       "      <td>18.000000</td>\n",
       "    </tr>\n",
       "  </tbody>\n",
       "</table>\n",
       "</div>"
      ],
      "text/plain": [
       "           counts\n",
       "count  125.000000\n",
       "mean     4.000000\n",
       "std      2.918241\n",
       "min      2.000000\n",
       "25%      2.000000\n",
       "50%      2.000000\n",
       "75%      6.000000\n",
       "max     18.000000"
      ]
     },
     "execution_count": 30,
     "metadata": {},
     "output_type": "execute_result"
    }
   ],
   "source": [
    "df_Top_500_Artist_Counts.describe()"
   ]
  },
  {
   "cell_type": "code",
   "execution_count": 16,
   "metadata": {},
   "outputs": [],
   "source": [
    "import matplotlib.pyplot as plt"
   ]
  },
  {
   "cell_type": "code",
   "execution_count": 64,
   "metadata": {},
   "outputs": [],
   "source": [
    "df_Top_500_frequency_Counts = df_Top_500_Artist_Counts['counts'].value_counts().rename_axis('counts').reset_index(name='frequency')"
   ]
  },
  {
   "cell_type": "code",
   "execution_count": 73,
   "metadata": {},
   "outputs": [
    {
     "data": {
      "text/plain": [
       "<BarContainer object of 8 artists>"
      ]
     },
     "execution_count": 73,
     "metadata": {},
     "output_type": "execute_result"
    },
    {
     "data": {
      "image/png": "[encoded data removed]",
      "text/plain": [
       "<Figure size 432x288 with 1 Axes>"
      ]
     },
     "metadata": {
      "needs_background": "light"
     },
     "output_type": "display_data"
    }
   ],
   "source": [
    "x = df_Top_500_frequency_Counts['counts']\n",
    "y = df_Top_500_frequency_Counts['frequency']\n",
    "\n",
    "plt.xlabel(\"Artist in Group\")\n",
    "plt.ylabel(\"Frequency\")\n",
    "plt.title(\"Frequency of Appearing on List\")\n",
    "\n",
    "plt.bar(x,y)"
   ]
  },
  {
   "cell_type": "code",
   "execution_count": 54,
   "metadata": {},
   "outputs": [
    {
     "data": {
      "text/plain": [
       "[0, 1, 2, 3, 4, 5, 6, 7]"
      ]
     },
     "execution_count": 54,
     "metadata": {},
     "output_type": "execute_result"
    }
   ],
   "source": [
    "x_pos"
   ]
  },
  {
   "cell_type": "code",
   "execution_count": 42,
   "metadata": {},
   "outputs": [
    {
     "data": {
      "text/html": [
       "<div>\n",
       "<style scoped>\n",
       "    .dataframe tbody tr th:only-of-type {\n",
       "        vertical-align: middle;\n",
       "    }\n",
       "\n",
       "    .dataframe tbody tr th {\n",
       "        vertical-align: top;\n",
       "    }\n",
       "\n",
       "    .dataframe thead th {\n",
       "        text-align: right;\n",
       "    }\n",
       "</style>\n",
       "<table border=\"1\" class=\"dataframe\">\n",
       "  <thead>\n",
       "    <tr style=\"text-align: right;\">\n",
       "      <th></th>\n",
       "      <th>counts</th>\n",
       "      <th>frequency</th>\n",
       "    </tr>\n",
       "  </thead>\n",
       "  <tbody>\n",
       "    <tr>\n",
       "      <td>0</td>\n",
       "      <td>2</td>\n",
       "      <td>74</td>\n",
       "    </tr>\n",
       "    <tr>\n",
       "      <td>1</td>\n",
       "      <td>6</td>\n",
       "      <td>36</td>\n",
       "    </tr>\n",
       "    <tr>\n",
       "      <td>2</td>\n",
       "      <td>8</td>\n",
       "      <td>7</td>\n",
       "    </tr>\n",
       "    <tr>\n",
       "      <td>3</td>\n",
       "      <td>4</td>\n",
       "      <td>3</td>\n",
       "    </tr>\n",
       "    <tr>\n",
       "      <td>4</td>\n",
       "      <td>12</td>\n",
       "      <td>2</td>\n",
       "    </tr>\n",
       "    <tr>\n",
       "      <td>5</td>\n",
       "      <td>18</td>\n",
       "      <td>1</td>\n",
       "    </tr>\n",
       "    <tr>\n",
       "      <td>6</td>\n",
       "      <td>16</td>\n",
       "      <td>1</td>\n",
       "    </tr>\n",
       "    <tr>\n",
       "      <td>7</td>\n",
       "      <td>10</td>\n",
       "      <td>1</td>\n",
       "    </tr>\n",
       "  </tbody>\n",
       "</table>\n",
       "</div>"
      ],
      "text/plain": [
       "   counts  frequency\n",
       "0       2         74\n",
       "1       6         36\n",
       "2       8          7\n",
       "3       4          3\n",
       "4      12          2\n",
       "5      18          1\n",
       "6      16          1\n",
       "7      10          1"
      ]
     },
     "execution_count": 42,
     "metadata": {},
     "output_type": "execute_result"
    }
   ],
   "source": [
    "df_Top_500_frequency_Counts"
   ]
  },
  {
   "cell_type": "code",
   "execution_count": 47,
   "metadata": {},
   "outputs": [
    {
     "ename": "NameError",
     "evalue": "name 'ax1' is not defined",
     "output_type": "error",
     "traceback": [
      "\u001b[0;31m---------------------------------------------------------------------------\u001b[0m",
      "\u001b[0;31mNameError\u001b[0m                                 Traceback (most recent call last)",
      "\u001b[0;32m<ipython-input-47-9e03f184d76c>\u001b[0m in \u001b[0;36m<module>\u001b[0;34m\u001b[0m\n\u001b[1;32m      4\u001b[0m \u001b[0;31m#fig, (ax1, ax2) = plt.subplots(1, 2)\u001b[0m\u001b[0;34m\u001b[0m\u001b[0;34m\u001b[0m\u001b[0;34m\u001b[0m\u001b[0m\n\u001b[1;32m      5\u001b[0m \u001b[0;34m\u001b[0m\u001b[0m\n\u001b[0;32m----> 6\u001b[0;31m \u001b[0max1\u001b[0m\u001b[0;34m.\u001b[0m\u001b[0mplot\u001b[0m\u001b[0;34m(\u001b[0m\u001b[0mx\u001b[0m\u001b[0;34m,\u001b[0m \u001b[0my\u001b[0m\u001b[0;34m)\u001b[0m\u001b[0;34m\u001b[0m\u001b[0;34m\u001b[0m\u001b[0m\n\u001b[0m\u001b[1;32m      7\u001b[0m \u001b[0max1\u001b[0m\u001b[0;34m.\u001b[0m\u001b[0mset_title\u001b[0m\u001b[0;34m(\u001b[0m\u001b[0;34m\"Normal Plot\"\u001b[0m\u001b[0;34m)\u001b[0m\u001b[0;34m\u001b[0m\u001b[0;34m\u001b[0m\u001b[0m\n\u001b[1;32m      8\u001b[0m \u001b[0;34m\u001b[0m\u001b[0m\n",
      "\u001b[0;31mNameError\u001b[0m: name 'ax1' is not defined"
     ]
    }
   ],
   "source": [
    "x=df_Top_500_frequency_Counts['counts']\n",
    "y=df_Top_500_frequency_Counts['frequency']\n",
    "\n",
    "#fig, (ax1, ax2) = plt.subplots(1, 2)\n",
    "\n",
    "ax1.plot(x, y)\n",
    "ax1.set_title(\"Normal Plot\")\n",
    "\n",
    "ax2.plot(x, y)\n",
    "ax2.set_title(\"Reverted axes\")\n",
    "ax2.invert_xaxis()\n",
    "ax2.invert_yaxis()\n",
    "\n",
    "fig.tight_layout()\n",
    "plt.show()"
   ]
  },
  {
   "cell_type": "code",
   "execution_count": 76,
   "metadata": {},
   "outputs": [],
   "source": [
    "percent_missing = df_Top_500.isnull().sum() * 100 / len(df_Top_500)"
   ]
  },
  {
   "cell_type": "code",
   "execution_count": 77,
   "metadata": {},
   "outputs": [
    {
     "data": {
      "text/plain": [
       "title          0.0\n",
       "description    0.0\n",
       "appears on     0.0\n",
       "artist         0.0\n",
       "writers        0.0\n",
       "producer       0.0\n",
       "released       0.0\n",
       "streak         1.2\n",
       "dtype: float64"
      ]
     },
     "execution_count": 77,
     "metadata": {},
     "output_type": "execute_result"
    }
   ],
   "source": [
    "percent_missing"
   ]
  },
  {
   "cell_type": "code",
   "execution_count": 88,
   "metadata": {},
   "outputs": [],
   "source": [
    "def printColumnsMissingValues(df):\n",
    "    percent_missing = df.isnull().sum() * 100 / len(df_Top_500)\n",
    "    print(percent_missing)\n",
    "    \n"
   ]
  },
  {
   "cell_type": "code",
   "execution_count": 89,
   "metadata": {},
   "outputs": [
    {
     "name": "stdout",
     "output_type": "stream",
     "text": [
      "title          0.0\n",
      "description    0.0\n",
      "appears on     0.0\n",
      "artist         0.0\n",
      "writers        0.0\n",
      "producer       0.0\n",
      "released       0.0\n",
      "streak         1.2\n",
      "dtype: float64\n"
     ]
    }
   ],
   "source": [
    "getColumnsMissingValues(df_Top_500)"
   ]
  },
  {
   "cell_type": "code",
   "execution_count": null,
   "metadata": {},
   "outputs": [],
   "source": [
    "graphColumnsMissingValues(df_Top_500)"
   ]
  },
  {
   "cell_type": "code",
   "execution_count": null,
   "metadata": {},
   "outputs": [],
   "source": []
  }
 ],
 "metadata": {
  "kernelspec": {
   "display_name": "Python 3",
   "language": "python",
   "name": "python3"
  },
  "language_info": {
   "codemirror_mode": {
    "name": "ipython",
    "version": 3
   },
   "file_extension": ".py",
   "mimetype": "text/x-python",
   "name": "python",
   "nbconvert_exporter": "python",
   "pygments_lexer": "ipython3",
   "version": "3.7.4"
  }
 },
 "nbformat": 4,
 "nbformat_minor": 2
}
