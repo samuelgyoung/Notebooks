{
 "cells": [
  {
   "cell_type": "markdown",
   "metadata": {
    "collapsed": true
   },
   "source": [
    "<h1> What is the Top Complaint Type? </h1>\n",
    "    \n",
    "The goal of this exercise is to find the answer to the Question 1 of the problem statement:\n",
    "\n",
    "<b>Which type of complaint should the Department of Housing Preservation and Development of New York City focus on first?</b>\n",
    "\n",
    "In this exercise, you need to read back the 311 datasets that you stored in Cloud Object Store and explore the dataset.\n",
    "\n",
    "By the end of this exercise, you need to figure out the correct Complaint Type that the Department of Housing Preservation and Development of New York City should focus on.\n",
    "\n",
    "Add the answer to this question along with code and comments in a notebook. Upload the notebook in the subsection called \"Question 1 - Which type of complaints The Department of Housing Preservation and Development of New York City should focus first?\"  in the section \"Submit your work and Review your Peer's work' in module 'Submit Your Work and Grade Your Peers\".\n"
   ]
  },
  {
   "cell_type": "markdown",
   "metadata": {},
   "source": [
    "<b>Step 1</b>: Download the 311 data from Object Store and install needed libraries"
   ]
  },
  {
   "cell_type": "code",
   "execution_count": 1,
   "metadata": {},
   "outputs": [],
   "source": [
    "#IMPORT THE LIBRARIES\n",
    "\n",
    "import pandas as pd\n",
    "import matplotlib.pylab as plt\n",
    "\n",
    "import types\n",
    "import pandas as pd\n",
    "from botocore.client import Config\n",
    "import ibm_boto3\n",
    "import os"
   ]
  },
  {
   "cell_type": "code",
   "execution_count": 2,
   "metadata": {},
   "outputs": [],
   "source": [
    "#FUNCTIONS DEFINED TO UPLOAD/DOWNLOAD TO OBJECT STORE\n",
    "\n",
    "from ibm_botocore.client import Config\n",
    "import ibm_boto3\n",
    "def upload_file_cos(credentials,local_file_name,key):  \n",
    "    cos = ibm_boto3.client(service_name='s3',\n",
    "    ibm_api_key_id=credentials['IBM_API_KEY_ID'],\n",
    "    ibm_service_instance_id=credentials['IAM_SERVICE_ID'],\n",
    "    ibm_auth_endpoint=credentials['IBM_AUTH_ENDPOINT'],\n",
    "    config=Config(signature_version='oauth'),\n",
    "    endpoint_url=credentials['ENDPOINT'])\n",
    "    try:\n",
    "        res=cos.upload_file(Filename=local_file_name, Bucket=credentials['BUCKET'],Key=key)\n",
    "    except Exception as e:\n",
    "        print(Exception, e)\n",
    "    else:\n",
    "        print('File Uploaded : ' + local_file_name)\n",
    "\n",
    "from ibm_botocore.client import Config\n",
    "import ibm_boto3\n",
    "\n",
    "def download_file_cos(credentials,local_file_name,key):  \n",
    "    cos = ibm_boto3.client(service_name='s3',\n",
    "    ibm_api_key_id=credentials['IBM_API_KEY_ID'],\n",
    "    ibm_service_instance_id=credentials['IAM_SERVICE_ID'],\n",
    "    ibm_auth_endpoint=credentials['IBM_AUTH_ENDPOINT'],\n",
    "    config=Config(signature_version='oauth'),\n",
    "    endpoint_url=credentials['ENDPOINT'])\n",
    "    try:\n",
    "        res=cos.download_file(Bucket=credentials['BUCKET'],Key=key,Filename=local_file_name)\n",
    "    except Exception as e:\n",
    "        print(Exception, e)\n",
    "    else:\n",
    "        print('File Downloaded')"
   ]
  },
  {
   "cell_type": "code",
   "execution_count": 3,
   "metadata": {},
   "outputs": [],
   "source": []
  },
  {
   "cell_type": "code",
   "execution_count": 4,
   "metadata": {},
   "outputs": [
    {
     "name": "stdout",
     "output_type": "stream",
     "text": [
      "File Downloaded\n"
     ]
    }
   ],
   "source": [
    "#DOWNLOAD THE FILE USING THE DEFINED FUNCTIONS ABOVE\n",
    "download_file_cos(credentials,'311_ALL.pkl','311_ALL.pkl')"
   ]
  },
  {
   "cell_type": "code",
   "execution_count": 5,
   "metadata": {},
   "outputs": [],
   "source": [
    "#DEBUG : Make sure file is there\n",
    "#!ls"
   ]
  },
  {
   "cell_type": "code",
   "execution_count": 6,
   "metadata": {},
   "outputs": [],
   "source": [
    "#READ IN THE PICKLE FILE THAT WAS DOWNLOADED\n",
    "df_311 = pd.read_pickle('311_ALL.pkl')"
   ]
  },
  {
   "cell_type": "code",
   "execution_count": 7,
   "metadata": {},
   "outputs": [],
   "source": [
    "#DEBUG : Explore the data\n",
    "#df_311.head()"
   ]
  },
  {
   "cell_type": "markdown",
   "metadata": {},
   "source": [
    "<b>Step 2</b> : Clense the Data and Remove Duplicate Calls"
   ]
  },
  {
   "cell_type": "code",
   "execution_count": 8,
   "metadata": {},
   "outputs": [],
   "source": [
    "#CONVERT EVERYTHING TO UPPERCASE AND REMOVE ANY POSSIBLE SPACES IN FRONT OR BACK OF THE DATA\n",
    "df_311['complaint_type'] = df_311['complaint_type'].str.upper() \n",
    "df_311['complaint_type'] = df_311['complaint_type'].str.strip()\n",
    "\n",
    "df_311['incident_address'] = df_311['incident_address'].str.upper() \n",
    "df_311['incident_address'] = df_311['incident_address'].str.strip()\n",
    "\n",
    "df_311['city'] = df_311['city'].str.upper() \n",
    "df_311['city'] = df_311['city'].str.strip()\n",
    "\n",
    "#MAKE SURE THAT THE COMPLAINT_TYPES ALL MATCH. PAINT/PLASTER AND PAINT - PLASTER ARE THE SAME THING, SO WE WILL MAKE THEM A SINGLE CATAGORICAL VALUE\n",
    "df_311['complaint_type'] = df_311['complaint_type'].str.replace('PAINT/PLASTER','PAINT - PLASTER')"
   ]
  },
  {
   "cell_type": "code",
   "execution_count": 9,
   "metadata": {},
   "outputs": [],
   "source": [
    "#DEBUG: VIEW THE DATAFRAME\n",
    "#df_311.head(4)"
   ]
  },
  {
   "cell_type": "code",
   "execution_count": 10,
   "metadata": {},
   "outputs": [],
   "source": [
    "#Optional : Set to make sure that the full data in columns can be displayed.\n",
    "#pd.set_option('display.max_colwidth', -1)"
   ]
  },
  {
   "cell_type": "code",
   "execution_count": 11,
   "metadata": {},
   "outputs": [],
   "source": [
    "df_311_Duplicate = df_311"
   ]
  },
  {
   "cell_type": "code",
   "execution_count": 12,
   "metadata": {},
   "outputs": [],
   "source": [
    "# ADD A BOOLEAN TO DETECT DUPLICATES. TODO: MAKE THIS MORE EFFCIENT (WHY DO I HAVE TO CAST???)\n",
    "df_311_Duplicate['is_duplicate'] = df_311['resolution_description'].str.contains('duplicate').astype(bool)"
   ]
  },
  {
   "cell_type": "code",
   "execution_count": 13,
   "metadata": {},
   "outputs": [],
   "source": [
    "#DEBUG: VIEW THE DATAFRAME\n",
    "#df_311_Duplicate.head(4)"
   ]
  },
  {
   "cell_type": "code",
   "execution_count": 14,
   "metadata": {},
   "outputs": [],
   "source": [
    "#FILTETER OUT ANYTHING THAT ISN'T A DUPLICATE CALL\n",
    "df_311_Not_Duplicated=df_311_Duplicate[~df_311_Duplicate['is_duplicate']]"
   ]
  },
  {
   "cell_type": "code",
   "execution_count": 15,
   "metadata": {},
   "outputs": [],
   "source": [
    "#FINAL DATASET THAT DOES NOT CONTAIN DUPLICATES\n",
    "#df_311_Not_Duplicated.head(4)"
   ]
  },
  {
   "cell_type": "markdown",
   "metadata": {},
   "source": [
    "<b>Step 3</b> : Let's do some exploration. We have two datasets. df_311_Duplicate contains ALL the calls, including duplicates. df_311_Not_Duplicated does NOT contain the duplicate calls. To answer the question \"What is the top complaint\" can vary. e.g.,:\n",
    "\n",
    "1. If I am looking to staff people to address complaints, duplicates wouldn't matter as much. Once the item is fixed, the duplicates go away, and I only need one person to fix it. In this case, I would analyze without duplicates.\n",
    "\n",
    "2. If I am looking for wich complaints the most people are mad about, and thus making them happy, I would use duplicates. \n",
    "\n",
    "The question is, are they the same?"
   ]
  },
  {
   "cell_type": "code",
   "execution_count": 16,
   "metadata": {},
   "outputs": [
    {
     "name": "stderr",
     "output_type": "stream",
     "text": [
      "/opt/conda/envs/Python36/lib/python3.6/site-packages/ipykernel/__main__.py:4: SettingWithCopyWarning: \n",
      "A value is trying to be set on a copy of a slice from a DataFrame.\n",
      "Try using .loc[row_indexer,col_indexer] = value instead\n",
      "\n",
      "See the caveats in the documentation: http://pandas.pydata.org/pandas-docs/stable/indexing.html#indexing-view-versus-copy\n"
     ]
    }
   ],
   "source": [
    "#ADD A COUNT COLUMN, SO THAT WE CAN EASILY DO A COUNT USING GROUP BY LATER\n",
    "\n",
    "df_311_Duplicate['count'] = 1\n",
    "df_311_Not_Duplicated['count'] = 1"
   ]
  },
  {
   "cell_type": "code",
   "execution_count": 17,
   "metadata": {},
   "outputs": [],
   "source": [
    "#CREATE A DATASET GROUPED BY COMPLAINT TYPE AND ADD THE COUNTS\n",
    "df_311_Not_Duplicated_group = df_311_Not_Duplicated.groupby(['complaint_type']).count()['count']"
   ]
  },
  {
   "cell_type": "code",
   "execution_count": 18,
   "metadata": {},
   "outputs": [],
   "source": [
    "#RESET THE INDEX JUST IN CASE\n",
    "df_311_Not_Duplicated_group = df_311_Not_Duplicated_group.reset_index()"
   ]
  },
  {
   "cell_type": "code",
   "execution_count": 24,
   "metadata": {},
   "outputs": [
    {
     "data": {
      "text/html": [
       "<div>\n",
       "<style scoped>\n",
       "    .dataframe tbody tr th:only-of-type {\n",
       "        vertical-align: middle;\n",
       "    }\n",
       "\n",
       "    .dataframe tbody tr th {\n",
       "        vertical-align: top;\n",
       "    }\n",
       "\n",
       "    .dataframe thead th {\n",
       "        text-align: right;\n",
       "    }\n",
       "</style>\n",
       "<table border=\"1\" class=\"dataframe\">\n",
       "  <thead>\n",
       "    <tr style=\"text-align: right;\">\n",
       "      <th></th>\n",
       "      <th>complaint_type</th>\n",
       "      <th>count</th>\n",
       "    </tr>\n",
       "  </thead>\n",
       "  <tbody>\n",
       "    <tr>\n",
       "      <th>8</th>\n",
       "      <td>GENERAL CONSTRUCTION</td>\n",
       "      <td>500728</td>\n",
       "    </tr>\n",
       "    <tr>\n",
       "      <th>15</th>\n",
       "      <td>PLUMBING</td>\n",
       "      <td>695431</td>\n",
       "    </tr>\n",
       "    <tr>\n",
       "      <th>14</th>\n",
       "      <td>PAINT - PLASTER</td>\n",
       "      <td>702978</td>\n",
       "    </tr>\n",
       "    <tr>\n",
       "      <th>9</th>\n",
       "      <td>HEAT/HOT WATER</td>\n",
       "      <td>738986</td>\n",
       "    </tr>\n",
       "    <tr>\n",
       "      <th>10</th>\n",
       "      <td>HEATING</td>\n",
       "      <td>886851</td>\n",
       "    </tr>\n",
       "  </tbody>\n",
       "</table>\n",
       "</div>"
      ],
      "text/plain": [
       "          complaint_type   count\n",
       "8   GENERAL CONSTRUCTION  500728\n",
       "15              PLUMBING  695431\n",
       "14       PAINT - PLASTER  702978\n",
       "9         HEAT/HOT WATER  738986\n",
       "10               HEATING  886851"
      ]
     },
     "execution_count": 24,
     "metadata": {},
     "output_type": "execute_result"
    }
   ],
   "source": [
    "df_311_Not_Duplicated_group.sort_values(by=['count']).tail(5)"
   ]
  },
  {
   "cell_type": "code",
   "execution_count": 20,
   "metadata": {},
   "outputs": [],
   "source": [
    "df_311_Duplicate_group = df_311_Duplicate.groupby(['complaint_type']).count()['count']\n"
   ]
  },
  {
   "cell_type": "code",
   "execution_count": 21,
   "metadata": {},
   "outputs": [],
   "source": [
    "df_311_Duplicate_group = df_311_Duplicate_group.reset_index()"
   ]
  },
  {
   "cell_type": "code",
   "execution_count": 23,
   "metadata": {},
   "outputs": [
    {
     "data": {
      "text/html": [
       "<div>\n",
       "<style scoped>\n",
       "    .dataframe tbody tr th:only-of-type {\n",
       "        vertical-align: middle;\n",
       "    }\n",
       "\n",
       "    .dataframe tbody tr th {\n",
       "        vertical-align: top;\n",
       "    }\n",
       "\n",
       "    .dataframe thead th {\n",
       "        text-align: right;\n",
       "    }\n",
       "</style>\n",
       "<table border=\"1\" class=\"dataframe\">\n",
       "  <thead>\n",
       "    <tr style=\"text-align: right;\">\n",
       "      <th></th>\n",
       "      <th>complaint_type</th>\n",
       "      <th>count</th>\n",
       "    </tr>\n",
       "  </thead>\n",
       "  <tbody>\n",
       "    <tr>\n",
       "      <th>8</th>\n",
       "      <td>GENERAL CONSTRUCTION</td>\n",
       "      <td>500863</td>\n",
       "    </tr>\n",
       "    <tr>\n",
       "      <th>15</th>\n",
       "      <td>PAINT - PLASTER</td>\n",
       "      <td>703051</td>\n",
       "    </tr>\n",
       "    <tr>\n",
       "      <th>16</th>\n",
       "      <td>PLUMBING</td>\n",
       "      <td>703648</td>\n",
       "    </tr>\n",
       "    <tr>\n",
       "      <th>10</th>\n",
       "      <td>HEATING</td>\n",
       "      <td>887869</td>\n",
       "    </tr>\n",
       "    <tr>\n",
       "      <th>9</th>\n",
       "      <td>HEAT/HOT WATER</td>\n",
       "      <td>1152592</td>\n",
       "    </tr>\n",
       "  </tbody>\n",
       "</table>\n",
       "</div>"
      ],
      "text/plain": [
       "          complaint_type    count\n",
       "8   GENERAL CONSTRUCTION   500863\n",
       "15       PAINT - PLASTER   703051\n",
       "16              PLUMBING   703648\n",
       "10               HEATING   887869\n",
       "9         HEAT/HOT WATER  1152592"
      ]
     },
     "execution_count": 23,
     "metadata": {},
     "output_type": "execute_result"
    }
   ],
   "source": [
    "df_311_Duplicate_group.sort_values(by=['count']).tail(5)"
   ]
  },
  {
   "cell_type": "markdown",
   "metadata": {},
   "source": [
    "\"Question 1 - Which type of complaints The Department of Housing Preservation and Development of New York City should focus first?\" \n",
    "\n",
    "<b>ANSWER:</b> While they are in slight different orders, you can see the top 5 in both situations (duplicate vs non-duplicate calls) are:\n",
    "\n",
    "UNSANITARY CONDITION <p>\n",
    "GENERAL CONSTRUCTION <p>\n",
    "PLUMBING <p>\n",
    "PAINT - PLASTER <p>\n",
    "HEAT/HOT WATER <p>\n",
    "HEATING <p>"
   ]
  },
  {
   "cell_type": "code",
   "execution_count": null,
   "metadata": {},
   "outputs": [],
   "source": []
  }
 ],
 "metadata": {
  "kernelspec": {
   "display_name": "Python 3.6",
   "language": "python",
   "name": "python3"
  },
  "language_info": {
   "codemirror_mode": {
    "name": "ipython",
    "version": 3
   },
   "file_extension": ".py",
   "mimetype": "text/x-python",
   "name": "python",
   "nbconvert_exporter": "python",
   "pygments_lexer": "ipython3",
   "version": "3.6.8"
  }
 },
 "nbformat": 4,
 "nbformat_minor": 1
}
