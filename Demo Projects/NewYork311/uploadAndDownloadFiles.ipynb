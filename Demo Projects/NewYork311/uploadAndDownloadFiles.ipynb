{
 "cells": [
  {
   "cell_type": "code",
   "execution_count": 1,
   "metadata": {},
   "outputs": [],
   "source": [
    "#IMPORT THE LIBRARIES\n",
    "\n",
    "import pandas as pd\n",
    "import matplotlib.pylab as plt\n",
    "\n",
    "import types\n",
    "import pandas as pd\n",
    "from botocore.client import Config\n",
    "import ibm_boto3\n",
    "import os"
   ]
  },
  {
   "cell_type": "code",
   "execution_count": 13,
   "metadata": {},
   "outputs": [],
   "source": []
  },
  {
   "cell_type": "code",
   "execution_count": 15,
   "metadata": {},
   "outputs": [],
   "source": [
    "#FUNCTIONS DEFINED TO UPLOAD/DOWNLOAD TO OBJECT STORE\n",
    "\n",
    "from ibm_botocore.client import Config\n",
    "import ibm_boto3\n",
    "def upload_file_cos(credentials,local_file_name,key):  \n",
    "    cos = ibm_boto3.client(service_name='s3',\n",
    "    ibm_api_key_id=credentials['IBM_API_KEY_ID'],\n",
    "    ibm_service_instance_id=credentials['IAM_SERVICE_ID'],\n",
    "    ibm_auth_endpoint=credentials['IBM_AUTH_ENDPOINT'],\n",
    "    config=Config(signature_version='oauth'),\n",
    "    endpoint_url=credentials['ENDPOINT'])\n",
    "    try:\n",
    "        res=cos.upload_file(Filename=local_file_name, Bucket=credentials['BUCKET'],Key=key)\n",
    "    except Exception as e:\n",
    "        print(Exception, e)\n",
    "    else:\n",
    "        print('File Uploaded : ' + local_file_name)\n",
    "\n",
    "from ibm_botocore.client import Config\n",
    "import ibm_boto3\n",
    "\n",
    "def download_file_cos(credentials,local_file_name,key):  \n",
    "    cos = ibm_boto3.client(service_name='s3',\n",
    "    ibm_api_key_id=credentials['IBM_API_KEY_ID'],\n",
    "    ibm_service_instance_id=credentials['IAM_SERVICE_ID'],\n",
    "    ibm_auth_endpoint=credentials['IBM_AUTH_ENDPOINT'],\n",
    "    config=Config(signature_version='oauth'),\n",
    "    endpoint_url=credentials['ENDPOINT'])\n",
    "    try:\n",
    "        res=cos.download_file(Bucket=credentials['BUCKET'],Key=key,Filename=local_file_name)\n",
    "    except Exception as e:\n",
    "        print(Exception, e)\n",
    "    else:\n",
    "        print('File Downloaded')"
   ]
  },
  {
   "cell_type": "code",
   "execution_count": 5,
   "metadata": {},
   "outputs": [],
   "source": [
    "#DOWNLOAD THE 311 DATA WITH THE API CALL\n",
    "filename = \"https://data.cityofnewyork.us/resource/fhrw-4uyv.csv?$limit=100000000&Agency=HPD&$select=created_date,unique_key,complaint_type,incident_zip,incident_address,street_name,address_type,city,resolution_description,borough,latitude,longitude,closed_date,location_type,status\"\n",
    "#100000000\n",
    "df_311 = pd.read_csv(filename, parse_dates=True)"
   ]
  },
  {
   "cell_type": "code",
   "execution_count": 6,
   "metadata": {},
   "outputs": [
    {
     "data": {
      "text/html": [
       "<div>\n",
       "<style scoped>\n",
       "    .dataframe tbody tr th:only-of-type {\n",
       "        vertical-align: middle;\n",
       "    }\n",
       "\n",
       "    .dataframe tbody tr th {\n",
       "        vertical-align: top;\n",
       "    }\n",
       "\n",
       "    .dataframe thead th {\n",
       "        text-align: right;\n",
       "    }\n",
       "</style>\n",
       "<table border=\"1\" class=\"dataframe\">\n",
       "  <thead>\n",
       "    <tr style=\"text-align: right;\">\n",
       "      <th></th>\n",
       "      <th>created_date</th>\n",
       "      <th>unique_key</th>\n",
       "      <th>complaint_type</th>\n",
       "      <th>incident_zip</th>\n",
       "      <th>incident_address</th>\n",
       "      <th>street_name</th>\n",
       "      <th>address_type</th>\n",
       "      <th>city</th>\n",
       "      <th>resolution_description</th>\n",
       "      <th>borough</th>\n",
       "      <th>latitude</th>\n",
       "      <th>longitude</th>\n",
       "      <th>closed_date</th>\n",
       "      <th>location_type</th>\n",
       "      <th>status</th>\n",
       "    </tr>\n",
       "  </thead>\n",
       "  <tbody>\n",
       "    <tr>\n",
       "      <th>0</th>\n",
       "      <td>2019-09-28T11:49:21.000</td>\n",
       "      <td>43915077</td>\n",
       "      <td>PAINT/PLASTER</td>\n",
       "      <td>11385.0</td>\n",
       "      <td>1711 HIMROD STREET</td>\n",
       "      <td>HIMROD STREET</td>\n",
       "      <td>ADDRESS</td>\n",
       "      <td>Ridgewood</td>\n",
       "      <td>The following complaint conditions are still o...</td>\n",
       "      <td>QUEENS</td>\n",
       "      <td>40.705446</td>\n",
       "      <td>-73.914524</td>\n",
       "      <td>NaN</td>\n",
       "      <td>RESIDENTIAL BUILDING</td>\n",
       "      <td>Open</td>\n",
       "    </tr>\n",
       "    <tr>\n",
       "      <th>1</th>\n",
       "      <td>2019-09-28T19:43:42.000</td>\n",
       "      <td>43915957</td>\n",
       "      <td>APPLIANCE</td>\n",
       "      <td>10458.0</td>\n",
       "      <td>2700 GRAND CONCOURSE</td>\n",
       "      <td>GRAND CONCOURSE</td>\n",
       "      <td>ADDRESS</td>\n",
       "      <td>BRONX</td>\n",
       "      <td>The following complaint conditions are still o...</td>\n",
       "      <td>BRONX</td>\n",
       "      <td>40.867269</td>\n",
       "      <td>-73.893454</td>\n",
       "      <td>NaN</td>\n",
       "      <td>RESIDENTIAL BUILDING</td>\n",
       "      <td>Open</td>\n",
       "    </tr>\n",
       "    <tr>\n",
       "      <th>2</th>\n",
       "      <td>2019-09-28T13:55:54.000</td>\n",
       "      <td>43914291</td>\n",
       "      <td>HEAT/HOT WATER</td>\n",
       "      <td>11417.0</td>\n",
       "      <td>86-07 SUTTER AVENUE</td>\n",
       "      <td>SUTTER AVENUE</td>\n",
       "      <td>ADDRESS</td>\n",
       "      <td>Ozone Park</td>\n",
       "      <td>The complaint you filed is a duplicate of a co...</td>\n",
       "      <td>QUEENS</td>\n",
       "      <td>40.675885</td>\n",
       "      <td>-73.850473</td>\n",
       "      <td>NaN</td>\n",
       "      <td>RESIDENTIAL BUILDING</td>\n",
       "      <td>Open</td>\n",
       "    </tr>\n",
       "  </tbody>\n",
       "</table>\n",
       "</div>"
      ],
      "text/plain": [
       "              created_date  unique_key  complaint_type  incident_zip  \\\n",
       "0  2019-09-28T11:49:21.000    43915077   PAINT/PLASTER       11385.0   \n",
       "1  2019-09-28T19:43:42.000    43915957       APPLIANCE       10458.0   \n",
       "2  2019-09-28T13:55:54.000    43914291  HEAT/HOT WATER       11417.0   \n",
       "\n",
       "       incident_address      street_name address_type        city  \\\n",
       "0    1711 HIMROD STREET    HIMROD STREET      ADDRESS   Ridgewood   \n",
       "1  2700 GRAND CONCOURSE  GRAND CONCOURSE      ADDRESS       BRONX   \n",
       "2   86-07 SUTTER AVENUE    SUTTER AVENUE      ADDRESS  Ozone Park   \n",
       "\n",
       "                              resolution_description borough   latitude  \\\n",
       "0  The following complaint conditions are still o...  QUEENS  40.705446   \n",
       "1  The following complaint conditions are still o...   BRONX  40.867269   \n",
       "2  The complaint you filed is a duplicate of a co...  QUEENS  40.675885   \n",
       "\n",
       "   longitude closed_date         location_type status  \n",
       "0 -73.914524         NaN  RESIDENTIAL BUILDING   Open  \n",
       "1 -73.893454         NaN  RESIDENTIAL BUILDING   Open  \n",
       "2 -73.850473         NaN  RESIDENTIAL BUILDING   Open  "
      ]
     },
     "execution_count": 6,
     "metadata": {},
     "output_type": "execute_result"
    }
   ],
   "source": [
    "#DEBUG\n",
    "df_311.head(3)"
   ]
  },
  {
   "cell_type": "code",
   "execution_count": 7,
   "metadata": {},
   "outputs": [],
   "source": [
    "#SERIALIZE BY CONVERTING TO A PKL FILE\n",
    "df_311.to_pickle('311_ALL.pkl')"
   ]
  },
  {
   "cell_type": "code",
   "execution_count": 11,
   "metadata": {},
   "outputs": [
    {
     "name": "stdout",
     "output_type": "stream",
     "text": [
      "total 570824\r\n",
      "drwx------ 1 dsxuser dsxuser      4096 Oct  9 21:05 ..\r\n",
      "drwxr-x--- 2 dsxuser dsxuser      4096 Oct  9 21:48 .\r\n",
      "-rw-r----- 1 dsxuser dsxuser 584510161 Oct  9 21:48 311_ALL.pkl\r\n"
     ]
    }
   ],
   "source": [
    "!ls -lart"
   ]
  },
  {
   "cell_type": "code",
   "execution_count": 12,
   "metadata": {},
   "outputs": [
    {
     "name": "stdout",
     "output_type": "stream",
     "text": [
      "File Uploaded\n"
     ]
    }
   ],
   "source": [
    "#UPLOAD 311 DATA TO OBJECT STORE\n",
    "upload_file_cos(credentials,'311_ALL.pkl','311_ALL.pkl')"
   ]
  },
  {
   "cell_type": "code",
   "execution_count": 5,
   "metadata": {},
   "outputs": [
    {
     "name": "stdout",
     "output_type": "stream",
     "text": [
      "--2019-10-10 13:56:41--  https://www1.nyc.gov/assets/planning/download/zip/data-maps/open-data/nyc_pluto_18v1.zip\n",
      "Resolving www1.nyc.gov (www1.nyc.gov)... 23.67.220.154, 2600:1404:6800:3a1::1500, 2600:1404:6800:3aa::1500\n",
      "Connecting to www1.nyc.gov (www1.nyc.gov)|23.67.220.154|:443... connected.\n",
      "HTTP request sent, awaiting response... 200 OK\n",
      "Length: 48263311 (46M) [application/zip]\n",
      "Saving to: ‘nyc_pluto_18v1.zip’\n",
      "\n",
      "100%[======================================>] 48,263,311  15.5MB/s   in 3.0s   \n",
      "\n",
      "2019-10-10 13:56:44 (15.5 MB/s) - ‘nyc_pluto_18v1.zip’ saved [48263311/48263311]\n",
      "\n"
     ]
    }
   ],
   "source": [
    "#GET THE PLUTO DATASET:\n",
    "!wget https://www1.nyc.gov/assets/planning/download/zip/data-maps/open-data/nyc_pluto_18v1.zip"
   ]
  },
  {
   "cell_type": "code",
   "execution_count": 6,
   "metadata": {},
   "outputs": [
    {
     "name": "stdout",
     "output_type": "stream",
     "text": [
      "nyc_pluto_18v1.zip\r\n"
     ]
    }
   ],
   "source": [
    "!ls"
   ]
  },
  {
   "cell_type": "code",
   "execution_count": 7,
   "metadata": {},
   "outputs": [
    {
     "name": "stdout",
     "output_type": "stream",
     "text": [
      "Archive:  nyc_pluto_18v1.zip\n",
      "  inflating: PLUTO_for_WEB/BK_18v1.csv  \n",
      "  inflating: PLUTO_for_WEB/BX_18v1.csv  \n",
      "  inflating: PLUTO_for_WEB/MN_18v1.csv  \n",
      "  inflating: PLUTO_for_WEB/PLUTODD18v1.pdf  \n",
      "  inflating: PLUTO_for_WEB/PlutoReadme18v1.pdf  \n",
      "  inflating: PLUTO_for_WEB/QN_18v1.csv  \n",
      "  inflating: PLUTO_for_WEB/SI_18v1.csv  \n"
     ]
    }
   ],
   "source": [
    "!unzip nyc_pluto_18v1.zip"
   ]
  },
  {
   "cell_type": "code",
   "execution_count": 8,
   "metadata": {},
   "outputs": [
    {
     "name": "stdout",
     "output_type": "stream",
     "text": [
      "nyc_pluto_18v1.zip  PLUTO_for_WEB\r\n"
     ]
    }
   ],
   "source": [
    "!ls"
   ]
  },
  {
   "cell_type": "code",
   "execution_count": 9,
   "metadata": {},
   "outputs": [
    {
     "name": "stdout",
     "output_type": "stream",
     "text": [
      "BK_18v1.csv  MN_18v1.csv      PlutoReadme18v1.pdf  SI_18v1.csv\r\n",
      "BX_18v1.csv  PLUTODD18v1.pdf  QN_18v1.csv\r\n"
     ]
    }
   ],
   "source": [
    "!ls PLUTO_for_WEB"
   ]
  },
  {
   "cell_type": "code",
   "execution_count": 10,
   "metadata": {},
   "outputs": [],
   "source": [
    "def convertToPKLandUpload(local_csv_file_name, pklFileName, objectStoreCreds):\n",
    "    tempDF = pd.read_csv(local_csv_file_name)\n",
    "    tempDF.to_pickle(pklFileName)\n",
    "    upload_file_cos(objectStoreCreds,pklFileName,pklFileName)"
   ]
  },
  {
   "cell_type": "code",
   "execution_count": 16,
   "metadata": {},
   "outputs": [],
   "source": [
    "def uploadCSVtoObjectStoreAsPickle(directory, fileExtension):\n",
    "    for filename in os.listdir(directory):\n",
    "        if filename.endswith(fileExtension):\n",
    "            #DEBUG: NO SIDE EFFECTS NORMALLY\n",
    "            #print (filename)\n",
    "            fileName, extension = filename.split(\".\")\n",
    "            convertToPKLandUpload(directory+'/' + filename, fileName + '.pkl', credentials)"
   ]
  },
  {
   "cell_type": "code",
   "execution_count": 17,
   "metadata": {},
   "outputs": [
    {
     "name": "stderr",
     "output_type": "stream",
     "text": [
      "/opt/conda/envs/Python36/lib/python3.6/site-packages/IPython/core/interactiveshell.py:3267: DtypeWarning: Columns (20,23,24,26,64) have mixed types. Specify dtype option on import or set low_memory=False.\n",
      "  exec(code_obj, self.user_global_ns, self.user_ns)\n"
     ]
    },
    {
     "name": "stdout",
     "output_type": "stream",
     "text": [
      "File Uploaded : MN_18v1.pkl\n"
     ]
    },
    {
     "name": "stderr",
     "output_type": "stream",
     "text": [
      "/opt/conda/envs/Python36/lib/python3.6/site-packages/IPython/core/interactiveshell.py:3267: DtypeWarning: Columns (19,20,22,23,24,64,65,80) have mixed types. Specify dtype option on import or set low_memory=False.\n",
      "  exec(code_obj, self.user_global_ns, self.user_ns)\n"
     ]
    },
    {
     "name": "stdout",
     "output_type": "stream",
     "text": [
      "File Uploaded : SI_18v1.pkl\n"
     ]
    },
    {
     "name": "stderr",
     "output_type": "stream",
     "text": [
      "/opt/conda/envs/Python36/lib/python3.6/site-packages/IPython/core/interactiveshell.py:3267: DtypeWarning: Columns (19,20,22,23,24,25,26,64,65,80) have mixed types. Specify dtype option on import or set low_memory=False.\n",
      "  exec(code_obj, self.user_global_ns, self.user_ns)\n"
     ]
    },
    {
     "name": "stdout",
     "output_type": "stream",
     "text": [
      "File Uploaded : BK_18v1.pkl\n"
     ]
    },
    {
     "name": "stderr",
     "output_type": "stream",
     "text": [
      "/opt/conda/envs/Python36/lib/python3.6/site-packages/IPython/core/interactiveshell.py:3267: DtypeWarning: Columns (19,20,22,23,64,65,77) have mixed types. Specify dtype option on import or set low_memory=False.\n",
      "  exec(code_obj, self.user_global_ns, self.user_ns)\n"
     ]
    },
    {
     "name": "stdout",
     "output_type": "stream",
     "text": [
      "File Uploaded : QN_18v1.pkl\n"
     ]
    },
    {
     "name": "stderr",
     "output_type": "stream",
     "text": [
      "/opt/conda/envs/Python36/lib/python3.6/site-packages/IPython/core/interactiveshell.py:3267: DtypeWarning: Columns (19,20,22,23,64,65,80) have mixed types. Specify dtype option on import or set low_memory=False.\n",
      "  exec(code_obj, self.user_global_ns, self.user_ns)\n"
     ]
    },
    {
     "name": "stdout",
     "output_type": "stream",
     "text": [
      "File Uploaded : BX_18v1.pkl\n"
     ]
    }
   ],
   "source": [
    "uploadCSVtoObjectStoreAsPickle(\"PLUTO_for_WEB\", \".csv\")"
   ]
  },
  {
   "cell_type": "code",
   "execution_count": null,
   "metadata": {},
   "outputs": [],
   "source": [
    "#to DOWNLOAD FROM OBJECT STORE\n",
    "#download_file_cos(credentials,'3112.pkl','311.pkl')\n",
    "# DOES NOT WORK: client_cred.download_file(Bucket=bucket,Key='311.pkl',Filename='./3112.pkl')\n",
    "#df = pd.read_pickle('./df_raw_local.pkl')"
   ]
  }
 ],
 "metadata": {
  "kernelspec": {
   "display_name": "Python 3.6",
   "language": "python",
   "name": "python3"
  },
  "language_info": {
   "codemirror_mode": {
    "name": "ipython",
    "version": 3
   },
   "file_extension": ".py",
   "mimetype": "text/x-python",
   "name": "python",
   "nbconvert_exporter": "python",
   "pygments_lexer": "ipython3",
   "version": "3.6.8"
  }
 },
 "nbformat": 4,
 "nbformat_minor": 1
}
