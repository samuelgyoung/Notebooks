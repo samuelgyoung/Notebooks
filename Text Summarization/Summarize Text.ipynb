{
 "cells": [
  {
   "cell_type": "code",
   "execution_count": 1,
   "metadata": {},
   "outputs": [],
   "source": [
    "#https://towardsdatascience.com/text-summarization-in-python-3f5a25418606"
   ]
  },
  {
   "cell_type": "code",
   "execution_count": 2,
   "metadata": {},
   "outputs": [],
   "source": [
    "from nltk.cluster.util import cosine_distance\n",
    "from nltk.corpus import stopwords\n",
    "import numpy as np\n",
    "import networkx as nx"
   ]
  },
  {
   "cell_type": "code",
   "execution_count": 241,
   "metadata": {},
   "outputs": [],
   "source": [
    "import pandas as pd\n",
    "\n",
    "data = pd.read_json('ExampleData2.json', orient='records')"
   ]
  },
  {
   "cell_type": "code",
   "execution_count": 267,
   "metadata": {},
   "outputs": [],
   "source": [
    "#DEBUG\n",
    "#data.text[0]"
   ]
  },
  {
   "cell_type": "code",
   "execution_count": 243,
   "metadata": {},
   "outputs": [],
   "source": [
    "def getSentences(data3):\n",
    "    #file = open(file_name, \"r\")\n",
    "    filedata = data3\n",
    "    #print(filedata)\n",
    "    article = filedata.split(\". \")\n",
    "    #print(article)\n",
    "    sentences = []\n",
    "    for sentence in article:\n",
    "        #print(sentence + \"\\n\")\n",
    "        sentences.append(sentence.replace(\"[^a-zA-Z]\", \" \").split(\" \"))\n",
    "        #sentences.pop() \n",
    "        \n",
    "    return sentences"
   ]
  },
  {
   "cell_type": "code",
   "execution_count": 244,
   "metadata": {},
   "outputs": [],
   "source": [
    "#sentence100 = getSentences(data.text[0])"
   ]
  },
  {
   "cell_type": "code",
   "execution_count": 245,
   "metadata": {},
   "outputs": [],
   "source": [
    "#sentence100"
   ]
  },
  {
   "cell_type": "code",
   "execution_count": 246,
   "metadata": {},
   "outputs": [],
   "source": [
    "def sentence_similarity(sent1, sent2, stopwords=None):\n",
    "    if stopwords is None:\n",
    "        stopwords = []\n",
    " \n",
    "    sent1 = [w.lower() for w in sent1]\n",
    "    sent2 = [w.lower() for w in sent2]\n",
    " \n",
    "    all_words = list(set(sent1 + sent2))\n",
    " \n",
    "    vector1 = [0] * len(all_words)\n",
    "    vector2 = [0] * len(all_words)\n",
    " \n",
    "    # build the vector for the first sentence\n",
    "    for w in sent1:\n",
    "        if w in stopwords:\n",
    "            continue\n",
    "        vector1[all_words.index(w)] += 1\n",
    " \n",
    "    # build the vector for the second sentence\n",
    "    for w in sent2:\n",
    "        if w in stopwords:\n",
    "            continue\n",
    "        vector2[all_words.index(w)] += 1\n",
    " \n",
    "    return 1 - cosine_distance(vector1, vector2)"
   ]
  },
  {
   "cell_type": "code",
   "execution_count": 247,
   "metadata": {},
   "outputs": [],
   "source": [
    "def build_similarity_matrix(sentences, stop_words):\n",
    "    # Create an empty similarity matrix\n",
    "    similarity_matrix = np.zeros((len(sentences), len(sentences)))\n",
    " \n",
    "    for idx1 in range(len(sentences)):\n",
    "        for idx2 in range(len(sentences)):\n",
    "            if idx1 == idx2: #ignore if both are same sentences\n",
    "                continue \n",
    "            similarity_matrix[idx1][idx2] = sentence_similarity(sentences[idx1], sentences[idx2], stop_words)\n",
    "            \n",
    "    return similarity_matrix"
   ]
  },
  {
   "cell_type": "code",
   "execution_count": 248,
   "metadata": {},
   "outputs": [
    {
     "name": "stderr",
     "output_type": "stream",
     "text": [
      "[nltk_data] Downloading package stopwords to\n",
      "[nltk_data]     /Users/samuelyoung/nltk_data...\n",
      "[nltk_data]   Package stopwords is already up-to-date!\n"
     ]
    },
    {
     "data": {
      "text/plain": [
       "True"
      ]
     },
     "execution_count": 248,
     "metadata": {},
     "output_type": "execute_result"
    }
   ],
   "source": [
    "from nltk.corpus import stopwords\n",
    "from nltk.cluster.util import cosine_distance\n",
    "import numpy as np\n",
    "import networkx as nx\n",
    "\n",
    "import nltk\n",
    "nltk.download('stopwords')"
   ]
  },
  {
   "cell_type": "code",
   "execution_count": 263,
   "metadata": {},
   "outputs": [],
   "source": [
    "def generate_summary(file_name, top_n=2):\n",
    "    \n",
    "    stop_words = stopwords.words('english')\n",
    "    summarize_text = []    \n",
    "    \n",
    "    # Step 1 - Read text and tokenize\n",
    "    sentences =  getSentences(file_name)    \n",
    "    \n",
    "    # Step 2 - Generate Similary Martix across sentences\n",
    "    sentence_similarity_martix = build_similarity_matrix(sentences, stop_words)    \n",
    "    \n",
    "    print(sentence_similarity_martix)\n",
    "    \n",
    "    # Step 3 - Rank sentences in similarity martix\n",
    "    sentence_similarity_graph = nx.from_numpy_array(sentence_similarity_martix)\n",
    "    scores = nx.pagerank(sentence_similarity_graph)    \n",
    "    \n",
    "    # Step 4 - Sort the rank and pick top sentences\n",
    "    ranked_sentence = sorted(((scores[i],s) for i,s in enumerate(sentences)), reverse=True)    \n",
    "    print(\"Indexes of top ranked_sentence order are \", ranked_sentence)\n",
    "    \n",
    "    #print(ranked_sentence[i][1])\n",
    "    \n",
    "    for i in range(top_n):\n",
    "      summarize_text.append(\" \".join(ranked_sentence[i][1]))    \n",
    "    \n",
    "    # Step 5 - Offcourse, output the summarize texr\n",
    "    print(\"Summarize Text: \\n\", \". \".join(summarize_text))"
   ]
  },
  {
   "cell_type": "code",
   "execution_count": 264,
   "metadata": {},
   "outputs": [
    {
     "name": "stdout",
     "output_type": "stream",
     "text": [
      "[[0.         0.39223227 0.29017165 0.21483446]\n",
      " [0.39223227 0.         0.32879797 0.30429031]\n",
      " [0.29017165 0.32879797 0.         0.2701351 ]\n",
      " [0.21483446 0.30429031 0.2701351  0.        ]]\n",
      "Indexes of top ranked_sentence order are  [(0.2808037013724247, ['Built', 'on', 'Red', 'Hat®', 'OpenShift®', 'Container', 'Platform,', 'IBM', 'Cloud', 'Pak', 'for', 'Data', 'integrates', 'market-leading', 'IBM', 'Watson®', 'AI', 'technology', 'with', 'IBM', 'Hybrid', 'Data', 'Management', 'Platform,', 'DataOps,', 'and', 'governance', 'and', 'business', 'analytics', 'technologies']), (0.2489858176709867, ['IBM', 'Cloud', 'Pak™', 'for', 'Data', 'is', 'a', 'fully-integrated', 'data', 'and', 'AI', 'platform', 'that', 'modernizes', 'how', 'businesses', 'collect,', 'organize', 'and', 'analyze', 'data', 'and', 'infuse', 'AI', 'throughout', 'their', 'organizations']), (0.24732744158280123, ['Together,', 'these', 'capabilities', 'provide', 'the', 'information', 'architecture', 'for', 'AI', 'that', 'meets', 'your', 'ever-changing', 'enterprise', 'needs.\\n\\nDeployable', 'in', 'just', 'hours', 'and', 'easily', 'extendable', 'with', 'a', 'growing', 'array', 'of', 'IBM', 'and', 'third-party', 'microservices,', 'IBM', 'Cloud', 'Pak', 'for', 'Data', 'runs', 'across', 'any', 'cloud,', 'enabling', 'organizations', 'to', 'more', 'easily', 'integrate', 'their', 'analytics', 'and', 'applications', 'to', 'speed', 'innovation']), (0.22288303937378723, ['IBM', 'Cloud', 'Pak', 'for', 'Data', 'lowers', 'your', 'total', 'cost', 'of', 'ownership,', 'accelerates', 'innovation', 'based', 'on', 'open-source', 'technologies,', 'and', 'fully', 'supports', 'multicloud', 'environments', 'such', 'as', 'Amazon', 'Web', 'Services', '(AWS),', 'Azure,', 'Google', 'Cloud,', 'IBM', 'Cloud™', 'and', 'private', 'clouds.'])]\n",
      "Summarize Text: \n",
      " Built on Red Hat® OpenShift® Container Platform, IBM Cloud Pak for Data integrates market-leading IBM Watson® AI technology with IBM Hybrid Data Management Platform, DataOps, and governance and business analytics technologies. IBM Cloud Pak™ for Data is a fully-integrated data and AI platform that modernizes how businesses collect, organize and analyze data and infuse AI throughout their organizations\n"
     ]
    }
   ],
   "source": [
    "generate_summary(data.text[0])"
   ]
  },
  {
   "cell_type": "code",
   "execution_count": null,
   "metadata": {},
   "outputs": [],
   "source": []
  }
 ],
 "metadata": {
  "kernelspec": {
   "display_name": "Python 3",
   "language": "python",
   "name": "python3"
  },
  "language_info": {
   "codemirror_mode": {
    "name": "ipython",
    "version": 3
   },
   "file_extension": ".py",
   "mimetype": "text/x-python",
   "name": "python",
   "nbconvert_exporter": "python",
   "pygments_lexer": "ipython3",
   "version": "3.7.4"
  }
 },
 "nbformat": 4,
 "nbformat_minor": 2
}
